{
  "cells": [
    {
      "cell_type": "markdown",
      "id": "e01b6e8c",
      "metadata": {
        "papermill": {
          "duration": 0.062129,
          "end_time": "2021-08-24T16:01:28.150843",
          "exception": false,
          "start_time": "2021-08-24T16:01:28.088714",
          "status": "completed"
        },
        "tags": [],
        "id": "e01b6e8c"
      },
      "source": [
        "\n",
        "\n",
        "# The Various attributes/health feature our dataset has\n",
        "\n",
        "1. `age` - age in years\n",
        "2. `sex` - (1 = male; 0 = female)\n",
        "3. `cp` - chest pain type\n",
        "    * 0: Typical angina: chest pain related decrease blood supply to the heart\n",
        "    * 1: Atypical angina: chest pain not related to heart\n",
        "    * 2: Non-anginal pain: typically esophageal spasms (non heart related)\n",
        "    * 3: Asymptomatic: chest pain not showing signs of disease\n",
        "4. `trestbps` - resting blood pressure (in mm Hg on admission to the hospital) anything above 130-140 is typically cause for concern\n",
        "5. `chol` - serum cholestoral in mg/dl\n",
        "    * serum = LDL + HDL + .2 * triglycerides\n",
        "    * above 200 is cause for concern\n",
        "6. `fbs` - (fasting blood sugar > 120 mg/dl) (1 = true; 0 = false)\n",
        "    * '>126' mg/dL signals diabetes\n",
        "7. `restecg` - resting electrocardiographic results\n",
        "    * 0: Nothing to note\n",
        "    * 1: ST-T Wave abnormality\n",
        "        * can range from mild symptoms to severe problems\n",
        "        * signals non-normal heart beat\n",
        "    * 2: Possible or definite left ventricular hypertrophy\n",
        "        * Enlarged heart's main pumping chamber\n",
        "8. `thalach` - maximum heart rate achieved\n",
        "9. `exang` - exercise induced angina (1 = yes; 0 = no)\n",
        "10. `oldpeak` - ST depression induced by exercise relative to rest looks at stress of heart during excercise unhealthy heart will stress more\n",
        "11. `slope` - the slope of the peak exercise ST segment\n",
        "    * 0: Upsloping: better heart rate with excercise (uncommon)\n",
        "    * 1: Flatsloping: minimal change (typical healthy heart)\n",
        "    * 2: Downslopins: signs of unhealthy heart\n",
        "12. `ca` - number of major vessels (0-3) colored by flourosopy\n",
        "    * colored vessel means the doctor can see the blood passing through\n",
        "    * the more blood movement the better (no clots)\n",
        "13. `thal` - thalium stress result\n",
        "    * 1,3: normal\n",
        "    * 6: fixed defect: used to be defect but ok now\n",
        "    * 7: reversable defect: no proper blood movement when excercising\n",
        "14. `target` - have disease or not (1=yes, 0=no) (= the predicted attribute)"
      ]
    },
    {
      "cell_type": "code",
      "execution_count": 21,
      "id": "f2d4849b",
      "metadata": {
        "_kg_hide-input": true,
        "_kg_hide-output": true,
        "execution": {
          "iopub.execute_input": "2021-08-24T16:01:28.286767Z",
          "iopub.status.busy": "2021-08-24T16:01:28.281670Z",
          "iopub.status.idle": "2021-08-24T16:01:39.463737Z",
          "shell.execute_reply": "2021-08-24T16:01:39.462715Z",
          "shell.execute_reply.started": "2021-08-24T13:46:11.084663Z"
        },
        "papermill": {
          "duration": 11.253665,
          "end_time": "2021-08-24T16:01:39.463954",
          "exception": false,
          "start_time": "2021-08-24T16:01:28.210289",
          "status": "completed"
        },
        "tags": [],
        "id": "f2d4849b"
      },
      "outputs": [],
      "source": [
        "!pip install -q hvplot"
      ]
    },
    {
      "cell_type": "markdown",
      "source": [
        "# Importing important libraries"
      ],
      "metadata": {
        "id": "zasTIoyXYDs3"
      },
      "id": "zasTIoyXYDs3"
    },
    {
      "cell_type": "code",
      "execution_count": 7,
      "id": "c0060567",
      "metadata": {
        "execution": {
          "iopub.execute_input": "2021-08-24T16:01:39.594780Z",
          "iopub.status.busy": "2021-08-24T16:01:39.593921Z",
          "iopub.status.idle": "2021-08-24T16:01:43.805107Z",
          "shell.execute_reply": "2021-08-24T16:01:43.803726Z",
          "shell.execute_reply.started": "2021-08-24T13:46:18.214095Z"
        },
        "papermill": {
          "duration": 4.279223,
          "end_time": "2021-08-24T16:01:43.805290",
          "exception": false,
          "start_time": "2021-08-24T16:01:39.526067",
          "status": "completed"
        },
        "tags": [],
        "id": "c0060567"
      },
      "outputs": [],
      "source": [
        "import pandas as pd\n",
        "import matplotlib.pyplot as plt\n",
        "import seaborn as sns\n",
        "import numpy as np\n",
        "import hvplot.pandas\n",
        "from scipy import stats\n",
        "\n",
        "%matplotlib inline\n",
        "sns.set_style(\"whitegrid\")\n",
        "plt.style.use(\"fivethirtyeight\")"
      ]
    },
    {
      "cell_type": "code",
      "execution_count": 6,
      "id": "4b5a237d",
      "metadata": {
        "execution": {
          "iopub.execute_input": "2021-08-24T16:01:44.109255Z",
          "iopub.status.busy": "2021-08-24T16:01:44.108338Z",
          "iopub.status.idle": "2021-08-24T16:01:44.335546Z",
          "shell.execute_reply": "2021-08-24T16:01:44.334735Z",
          "shell.execute_reply.started": "2021-08-24T13:46:18.232165Z"
        },
        "papermill": {
          "duration": 0.385297,
          "end_time": "2021-08-24T16:01:44.335728",
          "exception": false,
          "start_time": "2021-08-24T16:01:43.950431",
          "status": "completed"
        },
        "tags": [],
        "id": "4b5a237d",
        "outputId": "16a46565-f80f-4922-8b2a-fab16b866825",
        "colab": {
          "base_uri": "https://localhost:8080/",
          "height": 206
        }
      },
      "outputs": [
        {
          "output_type": "execute_result",
          "data": {
            "text/plain": [
              "   age  sex  cp  trestbps  chol  fbs  restecg  thalach  exang  oldpeak  slope  \\\n",
              "0   52    1   0       125   212    0        1      168      0      1.0      2   \n",
              "1   53    1   0       140   203    1        0      155      1      3.1      0   \n",
              "2   70    1   0       145   174    0        1      125      1      2.6      0   \n",
              "3   61    1   0       148   203    0        1      161      0      0.0      2   \n",
              "4   62    0   0       138   294    1        1      106      0      1.9      1   \n",
              "\n",
              "   ca  thal  target  \n",
              "0   2     3       0  \n",
              "1   0     3       0  \n",
              "2   0     3       0  \n",
              "3   1     3       0  \n",
              "4   3     2       0  "
            ],
            "text/html": [
              "\n",
              "  <div id=\"df-eec04477-faf1-496f-bad1-e8f1d2226784\">\n",
              "    <div class=\"colab-df-container\">\n",
              "      <div>\n",
              "<style scoped>\n",
              "    .dataframe tbody tr th:only-of-type {\n",
              "        vertical-align: middle;\n",
              "    }\n",
              "\n",
              "    .dataframe tbody tr th {\n",
              "        vertical-align: top;\n",
              "    }\n",
              "\n",
              "    .dataframe thead th {\n",
              "        text-align: right;\n",
              "    }\n",
              "</style>\n",
              "<table border=\"1\" class=\"dataframe\">\n",
              "  <thead>\n",
              "    <tr style=\"text-align: right;\">\n",
              "      <th></th>\n",
              "      <th>age</th>\n",
              "      <th>sex</th>\n",
              "      <th>cp</th>\n",
              "      <th>trestbps</th>\n",
              "      <th>chol</th>\n",
              "      <th>fbs</th>\n",
              "      <th>restecg</th>\n",
              "      <th>thalach</th>\n",
              "      <th>exang</th>\n",
              "      <th>oldpeak</th>\n",
              "      <th>slope</th>\n",
              "      <th>ca</th>\n",
              "      <th>thal</th>\n",
              "      <th>target</th>\n",
              "    </tr>\n",
              "  </thead>\n",
              "  <tbody>\n",
              "    <tr>\n",
              "      <th>0</th>\n",
              "      <td>52</td>\n",
              "      <td>1</td>\n",
              "      <td>0</td>\n",
              "      <td>125</td>\n",
              "      <td>212</td>\n",
              "      <td>0</td>\n",
              "      <td>1</td>\n",
              "      <td>168</td>\n",
              "      <td>0</td>\n",
              "      <td>1.0</td>\n",
              "      <td>2</td>\n",
              "      <td>2</td>\n",
              "      <td>3</td>\n",
              "      <td>0</td>\n",
              "    </tr>\n",
              "    <tr>\n",
              "      <th>1</th>\n",
              "      <td>53</td>\n",
              "      <td>1</td>\n",
              "      <td>0</td>\n",
              "      <td>140</td>\n",
              "      <td>203</td>\n",
              "      <td>1</td>\n",
              "      <td>0</td>\n",
              "      <td>155</td>\n",
              "      <td>1</td>\n",
              "      <td>3.1</td>\n",
              "      <td>0</td>\n",
              "      <td>0</td>\n",
              "      <td>3</td>\n",
              "      <td>0</td>\n",
              "    </tr>\n",
              "    <tr>\n",
              "      <th>2</th>\n",
              "      <td>70</td>\n",
              "      <td>1</td>\n",
              "      <td>0</td>\n",
              "      <td>145</td>\n",
              "      <td>174</td>\n",
              "      <td>0</td>\n",
              "      <td>1</td>\n",
              "      <td>125</td>\n",
              "      <td>1</td>\n",
              "      <td>2.6</td>\n",
              "      <td>0</td>\n",
              "      <td>0</td>\n",
              "      <td>3</td>\n",
              "      <td>0</td>\n",
              "    </tr>\n",
              "    <tr>\n",
              "      <th>3</th>\n",
              "      <td>61</td>\n",
              "      <td>1</td>\n",
              "      <td>0</td>\n",
              "      <td>148</td>\n",
              "      <td>203</td>\n",
              "      <td>0</td>\n",
              "      <td>1</td>\n",
              "      <td>161</td>\n",
              "      <td>0</td>\n",
              "      <td>0.0</td>\n",
              "      <td>2</td>\n",
              "      <td>1</td>\n",
              "      <td>3</td>\n",
              "      <td>0</td>\n",
              "    </tr>\n",
              "    <tr>\n",
              "      <th>4</th>\n",
              "      <td>62</td>\n",
              "      <td>0</td>\n",
              "      <td>0</td>\n",
              "      <td>138</td>\n",
              "      <td>294</td>\n",
              "      <td>1</td>\n",
              "      <td>1</td>\n",
              "      <td>106</td>\n",
              "      <td>0</td>\n",
              "      <td>1.9</td>\n",
              "      <td>1</td>\n",
              "      <td>3</td>\n",
              "      <td>2</td>\n",
              "      <td>0</td>\n",
              "    </tr>\n",
              "  </tbody>\n",
              "</table>\n",
              "</div>\n",
              "      <button class=\"colab-df-convert\" onclick=\"convertToInteractive('df-eec04477-faf1-496f-bad1-e8f1d2226784')\"\n",
              "              title=\"Convert this dataframe to an interactive table.\"\n",
              "              style=\"display:none;\">\n",
              "        \n",
              "  <svg xmlns=\"http://www.w3.org/2000/svg\" height=\"24px\"viewBox=\"0 0 24 24\"\n",
              "       width=\"24px\">\n",
              "    <path d=\"M0 0h24v24H0V0z\" fill=\"none\"/>\n",
              "    <path d=\"M18.56 5.44l.94 2.06.94-2.06 2.06-.94-2.06-.94-.94-2.06-.94 2.06-2.06.94zm-11 1L8.5 8.5l.94-2.06 2.06-.94-2.06-.94L8.5 2.5l-.94 2.06-2.06.94zm10 10l.94 2.06.94-2.06 2.06-.94-2.06-.94-.94-2.06-.94 2.06-2.06.94z\"/><path d=\"M17.41 7.96l-1.37-1.37c-.4-.4-.92-.59-1.43-.59-.52 0-1.04.2-1.43.59L10.3 9.45l-7.72 7.72c-.78.78-.78 2.05 0 2.83L4 21.41c.39.39.9.59 1.41.59.51 0 1.02-.2 1.41-.59l7.78-7.78 2.81-2.81c.8-.78.8-2.07 0-2.86zM5.41 20L4 18.59l7.72-7.72 1.47 1.35L5.41 20z\"/>\n",
              "  </svg>\n",
              "      </button>\n",
              "      \n",
              "  <style>\n",
              "    .colab-df-container {\n",
              "      display:flex;\n",
              "      flex-wrap:wrap;\n",
              "      gap: 12px;\n",
              "    }\n",
              "\n",
              "    .colab-df-convert {\n",
              "      background-color: #E8F0FE;\n",
              "      border: none;\n",
              "      border-radius: 50%;\n",
              "      cursor: pointer;\n",
              "      display: none;\n",
              "      fill: #1967D2;\n",
              "      height: 32px;\n",
              "      padding: 0 0 0 0;\n",
              "      width: 32px;\n",
              "    }\n",
              "\n",
              "    .colab-df-convert:hover {\n",
              "      background-color: #E2EBFA;\n",
              "      box-shadow: 0px 1px 2px rgba(60, 64, 67, 0.3), 0px 1px 3px 1px rgba(60, 64, 67, 0.15);\n",
              "      fill: #174EA6;\n",
              "    }\n",
              "\n",
              "    [theme=dark] .colab-df-convert {\n",
              "      background-color: #3B4455;\n",
              "      fill: #D2E3FC;\n",
              "    }\n",
              "\n",
              "    [theme=dark] .colab-df-convert:hover {\n",
              "      background-color: #434B5C;\n",
              "      box-shadow: 0px 1px 3px 1px rgba(0, 0, 0, 0.15);\n",
              "      filter: drop-shadow(0px 1px 2px rgba(0, 0, 0, 0.3));\n",
              "      fill: #FFFFFF;\n",
              "    }\n",
              "  </style>\n",
              "\n",
              "      <script>\n",
              "        const buttonEl =\n",
              "          document.querySelector('#df-eec04477-faf1-496f-bad1-e8f1d2226784 button.colab-df-convert');\n",
              "        buttonEl.style.display =\n",
              "          google.colab.kernel.accessAllowed ? 'block' : 'none';\n",
              "\n",
              "        async function convertToInteractive(key) {\n",
              "          const element = document.querySelector('#df-eec04477-faf1-496f-bad1-e8f1d2226784');\n",
              "          const dataTable =\n",
              "            await google.colab.kernel.invokeFunction('convertToInteractive',\n",
              "                                                     [key], {});\n",
              "          if (!dataTable) return;\n",
              "\n",
              "          const docLinkHtml = 'Like what you see? Visit the ' +\n",
              "            '<a target=\"_blank\" href=https://colab.research.google.com/notebooks/data_table.ipynb>data table notebook</a>'\n",
              "            + ' to learn more about interactive tables.';\n",
              "          element.innerHTML = '';\n",
              "          dataTable['output_type'] = 'display_data';\n",
              "          await google.colab.output.renderOutput(dataTable, element);\n",
              "          const docLink = document.createElement('div');\n",
              "          docLink.innerHTML = docLinkHtml;\n",
              "          element.appendChild(docLink);\n",
              "        }\n",
              "      </script>\n",
              "    </div>\n",
              "  </div>\n",
              "  "
            ]
          },
          "metadata": {},
          "execution_count": 6
        }
      ],
      "source": [
        "data = pd.read_csv(\"heart[1].csv\")\n",
        "data.head()"
      ]
    },
    {
      "cell_type": "markdown",
      "id": "5f45e82e",
      "metadata": {
        "papermill": {
          "duration": 0.156874,
          "end_time": "2021-08-24T16:01:44.647890",
          "exception": false,
          "start_time": "2021-08-24T16:01:44.491016",
          "status": "completed"
        },
        "tags": [],
        "id": "5f45e82e"
      },
      "source": [
        "# Data Analysis\n"
      ]
    },
    {
      "cell_type": "code",
      "execution_count": 20,
      "id": "c35635d7",
      "metadata": {
        "execution": {
          "iopub.execute_input": "2021-08-24T16:01:44.978530Z",
          "iopub.status.busy": "2021-08-24T16:01:44.977631Z",
          "iopub.status.idle": "2021-08-24T16:01:44.982747Z",
          "shell.execute_reply": "2021-08-24T16:01:44.982025Z",
          "shell.execute_reply.started": "2021-08-24T13:46:18.262677Z"
        },
        "papermill": {
          "duration": 0.181526,
          "end_time": "2021-08-24T16:01:44.982926",
          "exception": false,
          "start_time": "2021-08-24T16:01:44.801400",
          "status": "completed"
        },
        "tags": [],
        "id": "c35635d7",
        "outputId": "91d51c18-9e7d-4a35-e068-fa90f0c8eb35",
        "colab": {
          "base_uri": "https://localhost:8080/"
        }
      },
      "outputs": [
        {
          "output_type": "stream",
          "name": "stdout",
          "text": [
            "<class 'pandas.core.frame.DataFrame'>\n",
            "RangeIndex: 1025 entries, 0 to 1024\n",
            "Data columns (total 14 columns):\n",
            " #   Column    Non-Null Count  Dtype  \n",
            "---  ------    --------------  -----  \n",
            " 0   age       1025 non-null   int64  \n",
            " 1   sex       1025 non-null   int64  \n",
            " 2   cp        1025 non-null   int64  \n",
            " 3   trestbps  1025 non-null   int64  \n",
            " 4   chol      1025 non-null   int64  \n",
            " 5   fbs       1025 non-null   int64  \n",
            " 6   restecg   1025 non-null   int64  \n",
            " 7   thalach   1025 non-null   int64  \n",
            " 8   exang     1025 non-null   int64  \n",
            " 9   oldpeak   1025 non-null   float64\n",
            " 10  slope     1025 non-null   int64  \n",
            " 11  ca        1025 non-null   int64  \n",
            " 12  thal      1025 non-null   int64  \n",
            " 13  target    1025 non-null   int64  \n",
            "dtypes: float64(1), int64(13)\n",
            "memory usage: 112.2 KB\n"
          ]
        }
      ],
      "source": [
        "data.info()"
      ]
    },
    {
      "cell_type": "code",
      "execution_count": 8,
      "id": "7cb34c20",
      "metadata": {
        "execution": {
          "iopub.execute_input": "2021-08-24T16:01:45.295521Z",
          "iopub.status.busy": "2021-08-24T16:01:45.294772Z",
          "iopub.status.idle": "2021-08-24T16:01:45.298714Z",
          "shell.execute_reply": "2021-08-24T16:01:45.298034Z",
          "shell.execute_reply.started": "2021-08-24T13:46:18.281149Z"
        },
        "papermill": {
          "duration": 0.159556,
          "end_time": "2021-08-24T16:01:45.298878",
          "exception": false,
          "start_time": "2021-08-24T16:01:45.139322",
          "status": "completed"
        },
        "tags": [],
        "id": "7cb34c20",
        "outputId": "c6305c4a-e6d6-4e40-f6a5-c6d36c0f1ee3",
        "colab": {
          "base_uri": "https://localhost:8080/"
        }
      },
      "outputs": [
        {
          "output_type": "execute_result",
          "data": {
            "text/plain": [
              "(1025, 14)"
            ]
          },
          "metadata": {},
          "execution_count": 8
        }
      ],
      "source": [
        "data.shape"
      ]
    },
    {
      "cell_type": "code",
      "execution_count": 10,
      "id": "17bf34d6",
      "metadata": {
        "execution": {
          "iopub.execute_input": "2021-08-24T16:01:45.598735Z",
          "iopub.status.busy": "2021-08-24T16:01:45.598008Z",
          "iopub.status.idle": "2021-08-24T16:01:45.652695Z",
          "shell.execute_reply": "2021-08-24T16:01:45.653157Z",
          "shell.execute_reply.started": "2021-08-24T13:46:18.290284Z"
        },
        "papermill": {
          "duration": 0.205804,
          "end_time": "2021-08-24T16:01:45.653357",
          "exception": false,
          "start_time": "2021-08-24T16:01:45.447553",
          "status": "completed"
        },
        "tags": [],
        "id": "17bf34d6",
        "outputId": "b98178be-3888-40a4-d5f1-0bdc062d6e62",
        "colab": {
          "base_uri": "https://localhost:8080/",
          "height": 300
        }
      },
      "outputs": [
        {
          "output_type": "execute_result",
          "data": {
            "text/plain": [
              "          age     sex      cp  trestbps    chol     fbs  restecg  thalach  \\\n",
              "count 1025.00 1025.00 1025.00   1025.00 1025.00 1025.00  1025.00  1025.00   \n",
              "mean    54.43    0.70    0.94    131.61  246.00    0.15     0.53   149.11   \n",
              "std      9.07    0.46    1.03     17.52   51.59    0.36     0.53    23.01   \n",
              "min     29.00    0.00    0.00     94.00  126.00    0.00     0.00    71.00   \n",
              "25%     48.00    0.00    0.00    120.00  211.00    0.00     0.00   132.00   \n",
              "50%     56.00    1.00    1.00    130.00  240.00    0.00     1.00   152.00   \n",
              "75%     61.00    1.00    2.00    140.00  275.00    0.00     1.00   166.00   \n",
              "max     77.00    1.00    3.00    200.00  564.00    1.00     2.00   202.00   \n",
              "\n",
              "        exang  oldpeak   slope      ca    thal  target  \n",
              "count 1025.00  1025.00 1025.00 1025.00 1025.00 1025.00  \n",
              "mean     0.34     1.07    1.39    0.75    2.32    0.51  \n",
              "std      0.47     1.18    0.62    1.03    0.62    0.50  \n",
              "min      0.00     0.00    0.00    0.00    0.00    0.00  \n",
              "25%      0.00     0.00    1.00    0.00    2.00    0.00  \n",
              "50%      0.00     0.80    1.00    0.00    2.00    1.00  \n",
              "75%      1.00     1.80    2.00    1.00    3.00    1.00  \n",
              "max      1.00     6.20    2.00    4.00    3.00    1.00  "
            ],
            "text/html": [
              "\n",
              "  <div id=\"df-4eabe4ba-2121-4208-9798-83204a6d3550\">\n",
              "    <div class=\"colab-df-container\">\n",
              "      <div>\n",
              "<style scoped>\n",
              "    .dataframe tbody tr th:only-of-type {\n",
              "        vertical-align: middle;\n",
              "    }\n",
              "\n",
              "    .dataframe tbody tr th {\n",
              "        vertical-align: top;\n",
              "    }\n",
              "\n",
              "    .dataframe thead th {\n",
              "        text-align: right;\n",
              "    }\n",
              "</style>\n",
              "<table border=\"1\" class=\"dataframe\">\n",
              "  <thead>\n",
              "    <tr style=\"text-align: right;\">\n",
              "      <th></th>\n",
              "      <th>age</th>\n",
              "      <th>sex</th>\n",
              "      <th>cp</th>\n",
              "      <th>trestbps</th>\n",
              "      <th>chol</th>\n",
              "      <th>fbs</th>\n",
              "      <th>restecg</th>\n",
              "      <th>thalach</th>\n",
              "      <th>exang</th>\n",
              "      <th>oldpeak</th>\n",
              "      <th>slope</th>\n",
              "      <th>ca</th>\n",
              "      <th>thal</th>\n",
              "      <th>target</th>\n",
              "    </tr>\n",
              "  </thead>\n",
              "  <tbody>\n",
              "    <tr>\n",
              "      <th>count</th>\n",
              "      <td>1025.00</td>\n",
              "      <td>1025.00</td>\n",
              "      <td>1025.00</td>\n",
              "      <td>1025.00</td>\n",
              "      <td>1025.00</td>\n",
              "      <td>1025.00</td>\n",
              "      <td>1025.00</td>\n",
              "      <td>1025.00</td>\n",
              "      <td>1025.00</td>\n",
              "      <td>1025.00</td>\n",
              "      <td>1025.00</td>\n",
              "      <td>1025.00</td>\n",
              "      <td>1025.00</td>\n",
              "      <td>1025.00</td>\n",
              "    </tr>\n",
              "    <tr>\n",
              "      <th>mean</th>\n",
              "      <td>54.43</td>\n",
              "      <td>0.70</td>\n",
              "      <td>0.94</td>\n",
              "      <td>131.61</td>\n",
              "      <td>246.00</td>\n",
              "      <td>0.15</td>\n",
              "      <td>0.53</td>\n",
              "      <td>149.11</td>\n",
              "      <td>0.34</td>\n",
              "      <td>1.07</td>\n",
              "      <td>1.39</td>\n",
              "      <td>0.75</td>\n",
              "      <td>2.32</td>\n",
              "      <td>0.51</td>\n",
              "    </tr>\n",
              "    <tr>\n",
              "      <th>std</th>\n",
              "      <td>9.07</td>\n",
              "      <td>0.46</td>\n",
              "      <td>1.03</td>\n",
              "      <td>17.52</td>\n",
              "      <td>51.59</td>\n",
              "      <td>0.36</td>\n",
              "      <td>0.53</td>\n",
              "      <td>23.01</td>\n",
              "      <td>0.47</td>\n",
              "      <td>1.18</td>\n",
              "      <td>0.62</td>\n",
              "      <td>1.03</td>\n",
              "      <td>0.62</td>\n",
              "      <td>0.50</td>\n",
              "    </tr>\n",
              "    <tr>\n",
              "      <th>min</th>\n",
              "      <td>29.00</td>\n",
              "      <td>0.00</td>\n",
              "      <td>0.00</td>\n",
              "      <td>94.00</td>\n",
              "      <td>126.00</td>\n",
              "      <td>0.00</td>\n",
              "      <td>0.00</td>\n",
              "      <td>71.00</td>\n",
              "      <td>0.00</td>\n",
              "      <td>0.00</td>\n",
              "      <td>0.00</td>\n",
              "      <td>0.00</td>\n",
              "      <td>0.00</td>\n",
              "      <td>0.00</td>\n",
              "    </tr>\n",
              "    <tr>\n",
              "      <th>25%</th>\n",
              "      <td>48.00</td>\n",
              "      <td>0.00</td>\n",
              "      <td>0.00</td>\n",
              "      <td>120.00</td>\n",
              "      <td>211.00</td>\n",
              "      <td>0.00</td>\n",
              "      <td>0.00</td>\n",
              "      <td>132.00</td>\n",
              "      <td>0.00</td>\n",
              "      <td>0.00</td>\n",
              "      <td>1.00</td>\n",
              "      <td>0.00</td>\n",
              "      <td>2.00</td>\n",
              "      <td>0.00</td>\n",
              "    </tr>\n",
              "    <tr>\n",
              "      <th>50%</th>\n",
              "      <td>56.00</td>\n",
              "      <td>1.00</td>\n",
              "      <td>1.00</td>\n",
              "      <td>130.00</td>\n",
              "      <td>240.00</td>\n",
              "      <td>0.00</td>\n",
              "      <td>1.00</td>\n",
              "      <td>152.00</td>\n",
              "      <td>0.00</td>\n",
              "      <td>0.80</td>\n",
              "      <td>1.00</td>\n",
              "      <td>0.00</td>\n",
              "      <td>2.00</td>\n",
              "      <td>1.00</td>\n",
              "    </tr>\n",
              "    <tr>\n",
              "      <th>75%</th>\n",
              "      <td>61.00</td>\n",
              "      <td>1.00</td>\n",
              "      <td>2.00</td>\n",
              "      <td>140.00</td>\n",
              "      <td>275.00</td>\n",
              "      <td>0.00</td>\n",
              "      <td>1.00</td>\n",
              "      <td>166.00</td>\n",
              "      <td>1.00</td>\n",
              "      <td>1.80</td>\n",
              "      <td>2.00</td>\n",
              "      <td>1.00</td>\n",
              "      <td>3.00</td>\n",
              "      <td>1.00</td>\n",
              "    </tr>\n",
              "    <tr>\n",
              "      <th>max</th>\n",
              "      <td>77.00</td>\n",
              "      <td>1.00</td>\n",
              "      <td>3.00</td>\n",
              "      <td>200.00</td>\n",
              "      <td>564.00</td>\n",
              "      <td>1.00</td>\n",
              "      <td>2.00</td>\n",
              "      <td>202.00</td>\n",
              "      <td>1.00</td>\n",
              "      <td>6.20</td>\n",
              "      <td>2.00</td>\n",
              "      <td>4.00</td>\n",
              "      <td>3.00</td>\n",
              "      <td>1.00</td>\n",
              "    </tr>\n",
              "  </tbody>\n",
              "</table>\n",
              "</div>\n",
              "      <button class=\"colab-df-convert\" onclick=\"convertToInteractive('df-4eabe4ba-2121-4208-9798-83204a6d3550')\"\n",
              "              title=\"Convert this dataframe to an interactive table.\"\n",
              "              style=\"display:none;\">\n",
              "        \n",
              "  <svg xmlns=\"http://www.w3.org/2000/svg\" height=\"24px\"viewBox=\"0 0 24 24\"\n",
              "       width=\"24px\">\n",
              "    <path d=\"M0 0h24v24H0V0z\" fill=\"none\"/>\n",
              "    <path d=\"M18.56 5.44l.94 2.06.94-2.06 2.06-.94-2.06-.94-.94-2.06-.94 2.06-2.06.94zm-11 1L8.5 8.5l.94-2.06 2.06-.94-2.06-.94L8.5 2.5l-.94 2.06-2.06.94zm10 10l.94 2.06.94-2.06 2.06-.94-2.06-.94-.94-2.06-.94 2.06-2.06.94z\"/><path d=\"M17.41 7.96l-1.37-1.37c-.4-.4-.92-.59-1.43-.59-.52 0-1.04.2-1.43.59L10.3 9.45l-7.72 7.72c-.78.78-.78 2.05 0 2.83L4 21.41c.39.39.9.59 1.41.59.51 0 1.02-.2 1.41-.59l7.78-7.78 2.81-2.81c.8-.78.8-2.07 0-2.86zM5.41 20L4 18.59l7.72-7.72 1.47 1.35L5.41 20z\"/>\n",
              "  </svg>\n",
              "      </button>\n",
              "      \n",
              "  <style>\n",
              "    .colab-df-container {\n",
              "      display:flex;\n",
              "      flex-wrap:wrap;\n",
              "      gap: 12px;\n",
              "    }\n",
              "\n",
              "    .colab-df-convert {\n",
              "      background-color: #E8F0FE;\n",
              "      border: none;\n",
              "      border-radius: 50%;\n",
              "      cursor: pointer;\n",
              "      display: none;\n",
              "      fill: #1967D2;\n",
              "      height: 32px;\n",
              "      padding: 0 0 0 0;\n",
              "      width: 32px;\n",
              "    }\n",
              "\n",
              "    .colab-df-convert:hover {\n",
              "      background-color: #E2EBFA;\n",
              "      box-shadow: 0px 1px 2px rgba(60, 64, 67, 0.3), 0px 1px 3px 1px rgba(60, 64, 67, 0.15);\n",
              "      fill: #174EA6;\n",
              "    }\n",
              "\n",
              "    [theme=dark] .colab-df-convert {\n",
              "      background-color: #3B4455;\n",
              "      fill: #D2E3FC;\n",
              "    }\n",
              "\n",
              "    [theme=dark] .colab-df-convert:hover {\n",
              "      background-color: #434B5C;\n",
              "      box-shadow: 0px 1px 3px 1px rgba(0, 0, 0, 0.15);\n",
              "      filter: drop-shadow(0px 1px 2px rgba(0, 0, 0, 0.3));\n",
              "      fill: #FFFFFF;\n",
              "    }\n",
              "  </style>\n",
              "\n",
              "      <script>\n",
              "        const buttonEl =\n",
              "          document.querySelector('#df-4eabe4ba-2121-4208-9798-83204a6d3550 button.colab-df-convert');\n",
              "        buttonEl.style.display =\n",
              "          google.colab.kernel.accessAllowed ? 'block' : 'none';\n",
              "\n",
              "        async function convertToInteractive(key) {\n",
              "          const element = document.querySelector('#df-4eabe4ba-2121-4208-9798-83204a6d3550');\n",
              "          const dataTable =\n",
              "            await google.colab.kernel.invokeFunction('convertToInteractive',\n",
              "                                                     [key], {});\n",
              "          if (!dataTable) return;\n",
              "\n",
              "          const docLinkHtml = 'Like what you see? Visit the ' +\n",
              "            '<a target=\"_blank\" href=https://colab.research.google.com/notebooks/data_table.ipynb>data table notebook</a>'\n",
              "            + ' to learn more about interactive tables.';\n",
              "          element.innerHTML = '';\n",
              "          dataTable['output_type'] = 'display_data';\n",
              "          await google.colab.output.renderOutput(dataTable, element);\n",
              "          const docLink = document.createElement('div');\n",
              "          docLink.innerHTML = docLinkHtml;\n",
              "          element.appendChild(docLink);\n",
              "        }\n",
              "      </script>\n",
              "    </div>\n",
              "  </div>\n",
              "  "
            ]
          },
          "metadata": {},
          "execution_count": 10
        }
      ],
      "source": [
        "pd.set_option(\"display.float\", \"{:.2f}\".format)\n",
        "data.describe()"
      ]
    },
    {
      "cell_type": "code",
      "execution_count": 11,
      "id": "66bece1d",
      "metadata": {
        "execution": {
          "iopub.execute_input": "2021-08-24T16:01:45.950509Z",
          "iopub.status.busy": "2021-08-24T16:01:45.949821Z",
          "iopub.status.idle": "2021-08-24T16:01:45.957648Z",
          "shell.execute_reply": "2021-08-24T16:01:45.958282Z",
          "shell.execute_reply.started": "2021-08-24T13:46:18.343149Z"
        },
        "papermill": {
          "duration": 0.15674,
          "end_time": "2021-08-24T16:01:45.958461",
          "exception": false,
          "start_time": "2021-08-24T16:01:45.801721",
          "status": "completed"
        },
        "tags": [],
        "id": "66bece1d",
        "outputId": "c615cfa0-5a17-4d4d-bbfe-e7850b84e4a3",
        "colab": {
          "base_uri": "https://localhost:8080/"
        }
      },
      "outputs": [
        {
          "output_type": "execute_result",
          "data": {
            "text/plain": [
              "1    526\n",
              "0    499\n",
              "Name: target, dtype: int64"
            ]
          },
          "metadata": {},
          "execution_count": 11
        }
      ],
      "source": [
        "data.target.value_counts()"
      ]
    },
    {
      "cell_type": "code",
      "execution_count": 12,
      "id": "551c181e",
      "metadata": {
        "_kg_hide-input": true,
        "execution": {
          "iopub.execute_input": "2021-08-24T16:01:46.275037Z",
          "iopub.status.busy": "2021-08-24T16:01:46.274094Z",
          "iopub.status.idle": "2021-08-24T16:01:46.382081Z",
          "shell.execute_reply": "2021-08-24T16:01:46.381406Z",
          "shell.execute_reply.started": "2021-08-24T13:46:18.355546Z"
        },
        "papermill": {
          "duration": 0.266514,
          "end_time": "2021-08-24T16:01:46.382277",
          "exception": false,
          "start_time": "2021-08-24T16:01:46.115763",
          "status": "completed"
        },
        "tags": [],
        "id": "551c181e",
        "outputId": "714d07cf-d59b-4c3e-9b60-edb8270b43c1",
        "colab": {
          "base_uri": "https://localhost:8080/",
          "height": 17
        }
      },
      "outputs": [
        {
          "output_type": "execute_result",
          "data": {
            "text/html": [
              "<div id='1002'>\n",
              "\n",
              "\n",
              "\n",
              "\n",
              "\n",
              "  <div class=\"bk-root\" id=\"70da63ab-c2c9-44f2-abcc-bfcbbd9d581e\" data-root-id=\"1002\"></div>\n",
              "</div>\n",
              "<script type=\"application/javascript\">(function(root) {\n",
              "  function embed_document(root) {\n",
              "    var docs_json = {\"860abcef-26d6-4601-a4a8-b73a30b03d06\":{\"defs\":[{\"extends\":null,\"module\":null,\"name\":\"ReactiveHTML1\",\"overrides\":[],\"properties\":[]},{\"extends\":null,\"module\":null,\"name\":\"FlexBox1\",\"overrides\":[],\"properties\":[{\"default\":\"flex-start\",\"kind\":null,\"name\":\"align_content\"},{\"default\":\"flex-start\",\"kind\":null,\"name\":\"align_items\"},{\"default\":\"row\",\"kind\":null,\"name\":\"flex_direction\"},{\"default\":\"wrap\",\"kind\":null,\"name\":\"flex_wrap\"},{\"default\":\"flex-start\",\"kind\":null,\"name\":\"justify_content\"}]},{\"extends\":null,\"module\":null,\"name\":\"TemplateActions1\",\"overrides\":[],\"properties\":[{\"default\":0,\"kind\":null,\"name\":\"open_modal\"},{\"default\":0,\"kind\":null,\"name\":\"close_modal\"}]},{\"extends\":null,\"module\":null,\"name\":\"MaterialTemplateActions1\",\"overrides\":[],\"properties\":[{\"default\":0,\"kind\":null,\"name\":\"open_modal\"},{\"default\":0,\"kind\":null,\"name\":\"close_modal\"}]}],\"roots\":{\"references\":[{\"attributes\":{\"factors\":[\"1\",\"0\"],\"tags\":[[[\"index\",\"index\",null]]]},\"id\":\"1004\",\"type\":\"FactorRange\"},{\"attributes\":{},\"id\":\"1024\",\"type\":\"PanTool\"},{\"attributes\":{},\"id\":\"1037\",\"type\":\"Selection\"},{\"attributes\":{\"fill_color\":{\"value\":\"#30a2da\"},\"top\":{\"field\":\"target\"},\"width\":{\"value\":0.8},\"x\":{\"field\":\"index\"}},\"id\":\"1039\",\"type\":\"VBar\"},{\"attributes\":{\"children\":[{\"id\":\"1003\"},{\"id\":\"1007\"},{\"id\":\"1071\"}],\"margin\":[0,0,0,0],\"name\":\"Row01626\",\"tags\":[\"embedded\"]},\"id\":\"1002\",\"type\":\"Row\"},{\"attributes\":{},\"id\":\"1025\",\"type\":\"WheelZoomTool\"},{\"attributes\":{\"below\":[{\"id\":\"1016\"}],\"center\":[{\"id\":\"1018\"},{\"id\":\"1022\"}],\"height\":350,\"left\":[{\"id\":\"1019\"}],\"margin\":[5,5,5,5],\"min_border_bottom\":10,\"min_border_left\":10,\"min_border_right\":10,\"min_border_top\":10,\"renderers\":[{\"id\":\"1042\"}],\"sizing_mode\":\"fixed\",\"title\":{\"id\":\"1008\"},\"toolbar\":{\"id\":\"1029\"},\"width\":500,\"x_range\":{\"id\":\"1004\"},\"x_scale\":{\"id\":\"1012\"},\"y_range\":{\"id\":\"1005\"},\"y_scale\":{\"id\":\"1014\"}},\"id\":\"1007\",\"subtype\":\"Figure\",\"type\":\"Plot\"},{\"attributes\":{},\"id\":\"1046\",\"type\":\"CategoricalTickFormatter\"},{\"attributes\":{\"text\":\"Heart Disease Count\",\"text_color\":\"black\",\"text_font_size\":\"12pt\"},\"id\":\"1008\",\"type\":\"Title\"},{\"attributes\":{\"overlay\":{\"id\":\"1028\"}},\"id\":\"1026\",\"type\":\"BoxZoomTool\"},{\"attributes\":{\"axis_label\":\"Heart Disease\",\"formatter\":{\"id\":\"1046\"},\"major_label_policy\":{\"id\":\"1045\"},\"ticker\":{\"id\":\"1017\"}},\"id\":\"1016\",\"type\":\"CategoricalAxis\"},{\"attributes\":{\"fill_alpha\":{\"value\":0.2},\"fill_color\":{\"value\":\"#30a2da\"},\"line_alpha\":{\"value\":0.2},\"top\":{\"field\":\"target\"},\"width\":{\"value\":0.8},\"x\":{\"field\":\"index\"}},\"id\":\"1041\",\"type\":\"VBar\"},{\"attributes\":{\"callback\":null,\"renderers\":[{\"id\":\"1042\"}],\"tags\":[\"hv_created\"],\"tooltips\":[[\"index\",\"@{index}\"],[\"target\",\"@{target}\"]]},\"id\":\"1006\",\"type\":\"HoverTool\"},{\"attributes\":{\"axis\":{\"id\":\"1019\"},\"dimension\":1,\"grid_line_color\":null,\"ticker\":null},\"id\":\"1022\",\"type\":\"Grid\"},{\"attributes\":{},\"id\":\"1027\",\"type\":\"ResetTool\"},{\"attributes\":{},\"id\":\"1017\",\"type\":\"CategoricalTicker\"},{\"attributes\":{\"margin\":[5,5,5,5],\"name\":\"HSpacer01630\",\"sizing_mode\":\"stretch_width\"},\"id\":\"1003\",\"type\":\"Spacer\"},{\"attributes\":{},\"id\":\"1014\",\"type\":\"LinearScale\"},{\"attributes\":{},\"id\":\"1049\",\"type\":\"BasicTickFormatter\"},{\"attributes\":{\"margin\":[5,5,5,5],\"name\":\"HSpacer01631\",\"sizing_mode\":\"stretch_width\"},\"id\":\"1071\",\"type\":\"Spacer\"},{\"attributes\":{\"axis\":{\"id\":\"1016\"},\"grid_line_color\":null,\"ticker\":null},\"id\":\"1018\",\"type\":\"Grid\"},{\"attributes\":{},\"id\":\"1048\",\"type\":\"AllLabels\"},{\"attributes\":{},\"id\":\"1020\",\"type\":\"BasicTicker\"},{\"attributes\":{\"axis_label\":\"Count\",\"formatter\":{\"id\":\"1049\"},\"major_label_policy\":{\"id\":\"1048\"},\"ticker\":{\"id\":\"1020\"}},\"id\":\"1019\",\"type\":\"LinearAxis\"},{\"attributes\":{},\"id\":\"1012\",\"type\":\"CategoricalScale\"},{\"attributes\":{\"fill_alpha\":{\"value\":0.1},\"fill_color\":{\"value\":\"#30a2da\"},\"line_alpha\":{\"value\":0.1},\"top\":{\"field\":\"target\"},\"width\":{\"value\":0.8},\"x\":{\"field\":\"index\"}},\"id\":\"1040\",\"type\":\"VBar\"},{\"attributes\":{\"bottom\":{\"value\":0},\"fill_alpha\":{\"value\":1.0},\"fill_color\":{\"value\":\"#30a2da\"},\"hatch_alpha\":{\"value\":1.0},\"hatch_color\":{\"value\":\"black\"},\"hatch_scale\":{\"value\":12.0},\"hatch_weight\":{\"value\":1.0},\"line_alpha\":{\"value\":1.0},\"line_cap\":{\"value\":\"butt\"},\"line_color\":{\"value\":\"black\"},\"line_dash\":{\"value\":[]},\"line_dash_offset\":{\"value\":0},\"line_join\":{\"value\":\"bevel\"},\"line_width\":{\"value\":1},\"top\":{\"field\":\"target\"},\"width\":{\"value\":0.8},\"x\":{\"field\":\"index\"}},\"id\":\"1044\",\"type\":\"VBar\"},{\"attributes\":{\"source\":{\"id\":\"1036\"}},\"id\":\"1043\",\"type\":\"CDSView\"},{\"attributes\":{},\"id\":\"1058\",\"type\":\"UnionRenderers\"},{\"attributes\":{\"bottom_units\":\"screen\",\"fill_alpha\":0.5,\"fill_color\":\"lightgrey\",\"left_units\":\"screen\",\"level\":\"overlay\",\"line_alpha\":1.0,\"line_color\":\"black\",\"line_dash\":[4,4],\"line_width\":2,\"right_units\":\"screen\",\"syncable\":false,\"top_units\":\"screen\"},\"id\":\"1028\",\"type\":\"BoxAnnotation\"},{\"attributes\":{\"active_multi\":null,\"tools\":[{\"id\":\"1006\"},{\"id\":\"1023\"},{\"id\":\"1024\"},{\"id\":\"1025\"},{\"id\":\"1026\"},{\"id\":\"1027\"}]},\"id\":\"1029\",\"type\":\"Toolbar\"},{\"attributes\":{},\"id\":\"1045\",\"type\":\"AllLabels\"},{\"attributes\":{\"end\":528.7,\"reset_end\":528.7,\"reset_start\":0.0,\"tags\":[[[\"target\",\"target\",null]]]},\"id\":\"1005\",\"type\":\"Range1d\"},{\"attributes\":{\"data_source\":{\"id\":\"1036\"},\"glyph\":{\"id\":\"1039\"},\"hover_glyph\":null,\"muted_glyph\":{\"id\":\"1041\"},\"nonselection_glyph\":{\"id\":\"1040\"},\"selection_glyph\":{\"id\":\"1044\"},\"view\":{\"id\":\"1043\"}},\"id\":\"1042\",\"type\":\"GlyphRenderer\"},{\"attributes\":{},\"id\":\"1023\",\"type\":\"SaveTool\"},{\"attributes\":{\"data\":{\"index\":[\"1\",\"0\"],\"target\":[526,499]},\"selected\":{\"id\":\"1037\"},\"selection_policy\":{\"id\":\"1058\"}},\"id\":\"1036\",\"type\":\"ColumnDataSource\"}],\"root_ids\":[\"1002\"]},\"title\":\"Bokeh Application\",\"version\":\"2.3.3\"}};\n",
              "    var render_items = [{\"docid\":\"860abcef-26d6-4601-a4a8-b73a30b03d06\",\"root_ids\":[\"1002\"],\"roots\":{\"1002\":\"70da63ab-c2c9-44f2-abcc-bfcbbd9d581e\"}}];\n",
              "    root.Bokeh.embed.embed_items_notebook(docs_json, render_items);\n",
              "  }\n",
              "  if (root.Bokeh !== undefined && root.Bokeh.Panel !== undefined) {\n",
              "    embed_document(root);\n",
              "  } else {\n",
              "    var attempts = 0;\n",
              "    var timer = setInterval(function(root) {\n",
              "      if (root.Bokeh !== undefined && root.Bokeh.Panel !== undefined) {\n",
              "        clearInterval(timer);\n",
              "        embed_document(root);\n",
              "      } else if (document.readyState == \"complete\") {\n",
              "        attempts++;\n",
              "        if (attempts > 200) {\n",
              "          clearInterval(timer);\n",
              "          console.log(\"Bokeh: ERROR: Unable to run BokehJS code because BokehJS library is missing\");\n",
              "        }\n",
              "      }\n",
              "    }, 25, root)\n",
              "  }\n",
              "})(window);</script>"
            ],
            "application/vnd.holoviews_exec.v0+json": "",
            "text/plain": [
              ":Bars   [index]   (target)"
            ]
          },
          "metadata": {
            "application/vnd.holoviews_exec.v0+json": {
              "id": "1002"
            }
          },
          "execution_count": 12
        }
      ],
      "source": [
        "data.target.value_counts().hvplot.bar(\n",
        "    title=\"Heart Disease Count\", xlabel='Heart Disease', ylabel='Count', \n",
        "    width=500, height=350\n",
        ")"
      ]
    },
    {
      "cell_type": "code",
      "execution_count": 13,
      "id": "3cf1a2e4",
      "metadata": {
        "execution": {
          "iopub.execute_input": "2021-08-24T16:01:46.699442Z",
          "iopub.status.busy": "2021-08-24T16:01:46.698644Z",
          "iopub.status.idle": "2021-08-24T16:01:46.706187Z",
          "shell.execute_reply": "2021-08-24T16:01:46.706826Z",
          "shell.execute_reply.started": "2021-08-24T13:46:18.463564Z"
        },
        "papermill": {
          "duration": 0.165629,
          "end_time": "2021-08-24T16:01:46.707037",
          "exception": false,
          "start_time": "2021-08-24T16:01:46.541408",
          "status": "completed"
        },
        "tags": [],
        "id": "3cf1a2e4",
        "outputId": "4b7f0b0b-1644-4e44-e7cc-8330d9cbb1fa",
        "colab": {
          "base_uri": "https://localhost:8080/"
        }
      },
      "outputs": [
        {
          "output_type": "execute_result",
          "data": {
            "text/plain": [
              "age         0\n",
              "sex         0\n",
              "cp          0\n",
              "trestbps    0\n",
              "chol        0\n",
              "fbs         0\n",
              "restecg     0\n",
              "thalach     0\n",
              "exang       0\n",
              "oldpeak     0\n",
              "slope       0\n",
              "ca          0\n",
              "thal        0\n",
              "target      0\n",
              "dtype: int64"
            ]
          },
          "metadata": {},
          "execution_count": 13
        }
      ],
      "source": [
        "# Checking for messing values\n",
        "data.isna().sum()"
      ]
    },
    {
      "cell_type": "markdown",
      "id": "b83aaab0",
      "metadata": {
        "papermill": {
          "duration": 0.159336,
          "end_time": "2021-08-24T16:01:47.023272",
          "exception": false,
          "start_time": "2021-08-24T16:01:46.863936",
          "status": "completed"
        },
        "tags": [],
        "id": "b83aaab0"
      },
      "source": [
        "\n",
        "\n",
        " We have `165` person with heart disease and `138` person without heart disease\n"
      ]
    },
    {
      "cell_type": "code",
      "execution_count": 15,
      "id": "1952b7e1",
      "metadata": {
        "execution": {
          "iopub.execute_input": "2021-08-24T16:01:47.343779Z",
          "iopub.status.busy": "2021-08-24T16:01:47.343014Z",
          "iopub.status.idle": "2021-08-24T16:01:47.348981Z",
          "shell.execute_reply": "2021-08-24T16:01:47.349553Z",
          "shell.execute_reply.started": "2021-08-24T13:46:18.477305Z"
        },
        "papermill": {
          "duration": 0.165458,
          "end_time": "2021-08-24T16:01:47.349766",
          "exception": false,
          "start_time": "2021-08-24T16:01:47.184308",
          "status": "completed"
        },
        "tags": [],
        "id": "1952b7e1"
      },
      "outputs": [],
      "source": [
        "categorical_val = []\n",
        "continous_val = []\n",
        "for column in data.columns:\n",
        "    if len(data[column].unique()) <= 10:\n",
        "        categorical_val.append(column)\n",
        "    else:\n",
        "        continous_val.append(column)"
      ]
    },
    {
      "cell_type": "code",
      "execution_count": 16,
      "id": "ff7f885f",
      "metadata": {
        "execution": {
          "iopub.execute_input": "2021-08-24T16:01:47.664766Z",
          "iopub.status.busy": "2021-08-24T16:01:47.663984Z",
          "iopub.status.idle": "2021-08-24T16:01:47.669767Z",
          "shell.execute_reply": "2021-08-24T16:01:47.670352Z",
          "shell.execute_reply.started": "2021-08-24T13:46:18.490383Z"
        },
        "papermill": {
          "duration": 0.166507,
          "end_time": "2021-08-24T16:01:47.670553",
          "exception": false,
          "start_time": "2021-08-24T16:01:47.504046",
          "status": "completed"
        },
        "tags": [],
        "id": "ff7f885f",
        "colab": {
          "base_uri": "https://localhost:8080/"
        },
        "outputId": "328a49e7-ec6b-4ae2-94e9-00e1551bd9c1"
      },
      "outputs": [
        {
          "output_type": "execute_result",
          "data": {
            "text/plain": [
              "['sex', 'cp', 'fbs', 'restecg', 'exang', 'slope', 'ca', 'thal', 'target']"
            ]
          },
          "metadata": {},
          "execution_count": 16
        }
      ],
      "source": [
        "categorical_val"
      ]
    },
    {
      "cell_type": "code",
      "execution_count": 17,
      "id": "e6abd30d",
      "metadata": {
        "_kg_hide-input": true,
        "execution": {
          "iopub.execute_input": "2021-08-24T16:01:47.973638Z",
          "iopub.status.busy": "2021-08-24T16:01:47.972989Z",
          "iopub.status.idle": "2021-08-24T16:01:48.242129Z",
          "shell.execute_reply": "2021-08-24T16:01:48.241506Z",
          "shell.execute_reply.started": "2021-08-24T13:46:18.500631Z"
        },
        "papermill": {
          "duration": 0.421146,
          "end_time": "2021-08-24T16:01:48.242312",
          "exception": false,
          "start_time": "2021-08-24T16:01:47.821166",
          "status": "completed"
        },
        "tags": [],
        "id": "e6abd30d",
        "colab": {
          "base_uri": "https://localhost:8080/",
          "height": 17
        },
        "outputId": "b64afe76-dd34-4b34-9b06-4123b40009cd"
      },
      "outputs": [
        {
          "output_type": "execute_result",
          "data": {
            "text/html": [
              "<div id='1123'>\n",
              "\n",
              "\n",
              "\n",
              "\n",
              "\n",
              "  <div class=\"bk-root\" id=\"b39098c0-1da2-4609-a71a-84c0f61c9eea\" data-root-id=\"1123\"></div>\n",
              "</div>\n",
              "<script type=\"application/javascript\">(function(root) {\n",
              "  function embed_document(root) {\n",
              "    var docs_json = {\"e4e191f3-68a3-40be-835c-8f6c33786f1c\":{\"defs\":[{\"extends\":null,\"module\":null,\"name\":\"ReactiveHTML1\",\"overrides\":[],\"properties\":[]},{\"extends\":null,\"module\":null,\"name\":\"FlexBox1\",\"overrides\":[],\"properties\":[{\"default\":\"flex-start\",\"kind\":null,\"name\":\"align_content\"},{\"default\":\"flex-start\",\"kind\":null,\"name\":\"align_items\"},{\"default\":\"row\",\"kind\":null,\"name\":\"flex_direction\"},{\"default\":\"wrap\",\"kind\":null,\"name\":\"flex_wrap\"},{\"default\":\"flex-start\",\"kind\":null,\"name\":\"justify_content\"}]},{\"extends\":null,\"module\":null,\"name\":\"TemplateActions1\",\"overrides\":[],\"properties\":[{\"default\":0,\"kind\":null,\"name\":\"open_modal\"},{\"default\":0,\"kind\":null,\"name\":\"close_modal\"}]},{\"extends\":null,\"module\":null,\"name\":\"MaterialTemplateActions1\",\"overrides\":[],\"properties\":[{\"default\":0,\"kind\":null,\"name\":\"open_modal\"},{\"default\":0,\"kind\":null,\"name\":\"close_modal\"}]}],\"roots\":{\"references\":[{\"attributes\":{\"children\":[{\"id\":\"1124\"},{\"id\":\"1129\"},{\"id\":\"1314\"}],\"margin\":[0,0,0,0],\"name\":\"Row01959\",\"tags\":[\"embedded\"]},\"id\":\"1123\",\"type\":\"Row\"},{\"attributes\":{},\"id\":\"1134\",\"type\":\"CategoricalScale\"},{\"attributes\":{\"axis\":{\"id\":\"1141\"},\"dimension\":1,\"grid_line_color\":null,\"ticker\":null},\"id\":\"1144\",\"type\":\"Grid\"},{\"attributes\":{},\"id\":\"1162\",\"type\":\"BasicTickFormatter\"},{\"attributes\":{\"below\":[{\"id\":\"1138\"}],\"center\":[{\"id\":\"1140\"},{\"id\":\"1144\"},{\"id\":\"1182\"}],\"height\":450,\"left\":[{\"id\":\"1141\"}],\"margin\":[5,5,5,5],\"min_border_bottom\":10,\"min_border_left\":10,\"min_border_right\":10,\"min_border_top\":10,\"renderers\":[{\"id\":\"1170\"},{\"id\":\"1191\"}],\"sizing_mode\":\"fixed\",\"title\":{\"id\":\"1130\"},\"toolbar\":{\"id\":\"1151\"},\"width\":500,\"x_range\":{\"id\":\"1125\"},\"x_scale\":{\"id\":\"1134\"},\"y_range\":{\"id\":\"1126\"},\"y_scale\":{\"id\":\"1136\"}},\"id\":\"1129\",\"subtype\":\"Figure\",\"type\":\"Plot\"},{\"attributes\":{\"active_multi\":null,\"tools\":[{\"id\":\"1127\"},{\"id\":\"1145\"},{\"id\":\"1146\"},{\"id\":\"1147\"},{\"id\":\"1148\"},{\"id\":\"1149\"}]},\"id\":\"1151\",\"type\":\"Toolbar\"},{\"attributes\":{},\"id\":\"1139\",\"type\":\"CategoricalTicker\"},{\"attributes\":{\"bottom\":{\"value\":0},\"fill_alpha\":{\"value\":0.4},\"fill_color\":{\"value\":\"#30a2da\"},\"hatch_alpha\":{\"value\":1.0},\"hatch_color\":{\"value\":\"black\"},\"hatch_scale\":{\"value\":12.0},\"hatch_weight\":{\"value\":1.0},\"line_alpha\":{\"value\":0.4},\"line_cap\":{\"value\":\"butt\"},\"line_color\":{\"value\":\"black\"},\"line_dash\":{\"value\":[]},\"line_dash_offset\":{\"value\":0},\"line_join\":{\"value\":\"bevel\"},\"line_width\":{\"value\":1},\"top\":{\"field\":\"sex\"},\"width\":{\"value\":0.8},\"x\":{\"field\":\"index\"}},\"id\":\"1184\",\"type\":\"VBar\"},{\"attributes\":{},\"id\":\"1142\",\"type\":\"BasicTicker\"},{\"attributes\":{\"source\":{\"id\":\"1164\"}},\"id\":\"1171\",\"type\":\"CDSView\"},{\"attributes\":{},\"id\":\"1158\",\"type\":\"AllLabels\"},{\"attributes\":{\"fill_alpha\":{\"value\":0.2},\"fill_color\":{\"value\":\"#30a2da\"},\"line_alpha\":{\"value\":0.2},\"top\":{\"field\":\"sex\"},\"width\":{\"value\":0.8},\"x\":{\"field\":\"index\"}},\"id\":\"1169\",\"type\":\"VBar\"},{\"attributes\":{\"margin\":[5,5,5,5],\"name\":\"HSpacer01963\",\"sizing_mode\":\"stretch_width\"},\"id\":\"1124\",\"type\":\"Spacer\"},{\"attributes\":{\"axis_label\":\"Sex\",\"formatter\":{\"id\":\"1159\"},\"major_label_policy\":{\"id\":\"1158\"},\"ticker\":{\"id\":\"1139\"}},\"id\":\"1138\",\"type\":\"CategoricalAxis\"},{\"attributes\":{\"fill_alpha\":{\"value\":0.4},\"fill_color\":{\"value\":\"#fc4f30\"},\"line_alpha\":{\"value\":0.4},\"top\":{\"field\":\"sex\"},\"width\":{\"value\":0.8},\"x\":{\"field\":\"index\"}},\"id\":\"1189\",\"type\":\"VBar\"},{\"attributes\":{\"axis_label\":\"Count\",\"formatter\":{\"id\":\"1162\"},\"major_label_policy\":{\"id\":\"1161\"},\"ticker\":{\"id\":\"1142\"}},\"id\":\"1141\",\"type\":\"LinearAxis\"},{\"attributes\":{\"fill_alpha\":{\"value\":0.4},\"fill_color\":{\"value\":\"#30a2da\"},\"line_alpha\":{\"value\":0.4},\"top\":{\"field\":\"sex\"},\"width\":{\"value\":0.8},\"x\":{\"field\":\"index\"}},\"id\":\"1168\",\"type\":\"VBar\"},{\"attributes\":{\"margin\":[5,5,5,5],\"name\":\"HSpacer01964\",\"sizing_mode\":\"stretch_width\"},\"id\":\"1314\",\"type\":\"Spacer\"},{\"attributes\":{\"callback\":null,\"renderers\":[{\"id\":\"1170\"},{\"id\":\"1191\"}],\"tags\":[\"hv_created\"],\"tooltips\":[[\"index\",\"@{index}\"],[\"sex\",\"@{sex}\"]]},\"id\":\"1127\",\"type\":\"HoverTool\"},{\"attributes\":{},\"id\":\"1136\",\"type\":\"LinearScale\"},{\"attributes\":{},\"id\":\"1145\",\"type\":\"SaveTool\"},{\"attributes\":{\"data_source\":{\"id\":\"1164\"},\"glyph\":{\"id\":\"1167\"},\"hover_glyph\":null,\"muted_glyph\":{\"id\":\"1169\"},\"nonselection_glyph\":{\"id\":\"1168\"},\"selection_glyph\":{\"id\":\"1184\"},\"view\":{\"id\":\"1171\"}},\"id\":\"1170\",\"type\":\"GlyphRenderer\"},{\"attributes\":{\"factors\":[\"1\",\"0\"],\"tags\":[[[\"index\",\"index\",null]]]},\"id\":\"1125\",\"type\":\"FactorRange\"},{\"attributes\":{},\"id\":\"1161\",\"type\":\"AllLabels\"},{\"attributes\":{\"fill_alpha\":{\"value\":0.4},\"fill_color\":{\"value\":\"#fc4f30\"},\"line_alpha\":{\"value\":0.4},\"top\":{\"field\":\"sex\"},\"width\":{\"value\":0.8},\"x\":{\"field\":\"index\"}},\"id\":\"1188\",\"type\":\"VBar\"},{\"attributes\":{},\"id\":\"1159\",\"type\":\"CategoricalTickFormatter\"},{\"attributes\":{},\"id\":\"1186\",\"type\":\"Selection\"},{\"attributes\":{\"label\":{\"value\":\"sex\"},\"renderers\":[{\"id\":\"1170\"},{\"id\":\"1191\"}]},\"id\":\"1183\",\"type\":\"LegendItem\"},{\"attributes\":{\"source\":{\"id\":\"1185\"}},\"id\":\"1192\",\"type\":\"CDSView\"},{\"attributes\":{},\"id\":\"1202\",\"type\":\"UnionRenderers\"},{\"attributes\":{\"end\":445.7,\"reset_end\":445.7,\"reset_start\":0.0,\"tags\":[[[\"sex\",\"sex\",null]]]},\"id\":\"1126\",\"type\":\"Range1d\"},{\"attributes\":{\"data\":{\"index\":[\"1\",\"0\"],\"sex\":[300,226]},\"selected\":{\"id\":\"1186\"},\"selection_policy\":{\"id\":\"1202\"}},\"id\":\"1185\",\"type\":\"ColumnDataSource\"},{\"attributes\":{\"overlay\":{\"id\":\"1150\"}},\"id\":\"1148\",\"type\":\"BoxZoomTool\"},{\"attributes\":{\"data_source\":{\"id\":\"1185\"},\"glyph\":{\"id\":\"1188\"},\"hover_glyph\":null,\"muted_glyph\":{\"id\":\"1190\"},\"nonselection_glyph\":{\"id\":\"1189\"},\"selection_glyph\":{\"id\":\"1205\"},\"view\":{\"id\":\"1192\"}},\"id\":\"1191\",\"type\":\"GlyphRenderer\"},{\"attributes\":{},\"id\":\"1146\",\"type\":\"PanTool\"},{\"attributes\":{\"fill_alpha\":{\"value\":0.4},\"fill_color\":{\"value\":\"#30a2da\"},\"line_alpha\":{\"value\":0.4},\"top\":{\"field\":\"sex\"},\"width\":{\"value\":0.8},\"x\":{\"field\":\"index\"}},\"id\":\"1167\",\"type\":\"VBar\"},{\"attributes\":{\"bottom_units\":\"screen\",\"fill_alpha\":0.5,\"fill_color\":\"lightgrey\",\"left_units\":\"screen\",\"level\":\"overlay\",\"line_alpha\":1.0,\"line_color\":\"black\",\"line_dash\":[4,4],\"line_width\":2,\"right_units\":\"screen\",\"syncable\":false,\"top_units\":\"screen\"},\"id\":\"1150\",\"type\":\"BoxAnnotation\"},{\"attributes\":{\"bottom\":{\"value\":0},\"fill_alpha\":{\"value\":0.4},\"fill_color\":{\"value\":\"#fc4f30\"},\"hatch_alpha\":{\"value\":1.0},\"hatch_color\":{\"value\":\"black\"},\"hatch_scale\":{\"value\":12.0},\"hatch_weight\":{\"value\":1.0},\"line_alpha\":{\"value\":0.4},\"line_cap\":{\"value\":\"butt\"},\"line_color\":{\"value\":\"black\"},\"line_dash\":{\"value\":[]},\"line_dash_offset\":{\"value\":0},\"line_join\":{\"value\":\"bevel\"},\"line_width\":{\"value\":1},\"top\":{\"field\":\"sex\"},\"width\":{\"value\":0.8},\"x\":{\"field\":\"index\"}},\"id\":\"1205\",\"type\":\"VBar\"},{\"attributes\":{},\"id\":\"1147\",\"type\":\"WheelZoomTool\"},{\"attributes\":{\"fill_alpha\":{\"value\":0.2},\"fill_color\":{\"value\":\"#fc4f30\"},\"line_alpha\":{\"value\":0.2},\"top\":{\"field\":\"sex\"},\"width\":{\"value\":0.8},\"x\":{\"field\":\"index\"}},\"id\":\"1190\",\"type\":\"VBar\"},{\"attributes\":{},\"id\":\"1149\",\"type\":\"ResetTool\"},{\"attributes\":{\"data\":{\"index\":[\"1\",\"0\"],\"sex\":[413,86]},\"selected\":{\"id\":\"1165\"},\"selection_policy\":{\"id\":\"1179\"}},\"id\":\"1164\",\"type\":\"ColumnDataSource\"},{\"attributes\":{\"axis\":{\"id\":\"1138\"},\"grid_line_color\":null,\"ticker\":null},\"id\":\"1140\",\"type\":\"Grid\"},{\"attributes\":{\"click_policy\":\"mute\",\"items\":[{\"id\":\"1183\"}],\"orientation\":\"horizontal\"},\"id\":\"1182\",\"type\":\"Legend\"},{\"attributes\":{},\"id\":\"1179\",\"type\":\"UnionRenderers\"},{\"attributes\":{},\"id\":\"1165\",\"type\":\"Selection\"},{\"attributes\":{\"text\":\"Heart Disease by Sex\",\"text_color\":\"black\",\"text_font_size\":\"12pt\"},\"id\":\"1130\",\"type\":\"Title\"}],\"root_ids\":[\"1123\"]},\"title\":\"Bokeh Application\",\"version\":\"2.3.3\"}};\n",
              "    var render_items = [{\"docid\":\"e4e191f3-68a3-40be-835c-8f6c33786f1c\",\"root_ids\":[\"1123\"],\"roots\":{\"1123\":\"b39098c0-1da2-4609-a71a-84c0f61c9eea\"}}];\n",
              "    root.Bokeh.embed.embed_items_notebook(docs_json, render_items);\n",
              "  }\n",
              "  if (root.Bokeh !== undefined && root.Bokeh.Panel !== undefined) {\n",
              "    embed_document(root);\n",
              "  } else {\n",
              "    var attempts = 0;\n",
              "    var timer = setInterval(function(root) {\n",
              "      if (root.Bokeh !== undefined && root.Bokeh.Panel !== undefined) {\n",
              "        clearInterval(timer);\n",
              "        embed_document(root);\n",
              "      } else if (document.readyState == \"complete\") {\n",
              "        attempts++;\n",
              "        if (attempts > 200) {\n",
              "          clearInterval(timer);\n",
              "          console.log(\"Bokeh: ERROR: Unable to run BokehJS code because BokehJS library is missing\");\n",
              "        }\n",
              "      }\n",
              "    }, 25, root)\n",
              "  }\n",
              "})(window);</script>"
            ],
            "application/vnd.holoviews_exec.v0+json": "",
            "text/plain": [
              ":Overlay\n",
              "   .Bars.Sex.I  :Bars   [index]   (sex)\n",
              "   .Bars.Sex.II :Bars   [index]   (sex)"
            ]
          },
          "metadata": {
            "application/vnd.holoviews_exec.v0+json": {
              "id": "1123"
            }
          },
          "execution_count": 17
        }
      ],
      "source": [
        "have_disease = data.loc[data['target']==1, 'sex'].value_counts().hvplot.bar(alpha=0.4) \n",
        "no_disease = data.loc[data['target']==0, 'sex'].value_counts().hvplot.bar(alpha=0.4) \n",
        "\n",
        "(no_disease * have_disease).opts(\n",
        "    title=\"Heart Disease by Sex\", xlabel='Sex', ylabel='Count',\n",
        "    width=500, height=450, legend_cols=2, legend_position='top_right'\n",
        ")"
      ]
    },
    {
      "cell_type": "code",
      "execution_count": 26,
      "id": "76a8f221",
      "metadata": {
        "_kg_hide-input": true,
        "execution": {
          "iopub.execute_input": "2021-08-24T16:01:48.563909Z",
          "iopub.status.busy": "2021-08-24T16:01:48.562691Z",
          "iopub.status.idle": "2021-08-24T16:01:48.836034Z",
          "shell.execute_reply": "2021-08-24T16:01:48.836570Z",
          "shell.execute_reply.started": "2021-08-24T13:46:18.738192Z"
        },
        "papermill": {
          "duration": 0.435728,
          "end_time": "2021-08-24T16:01:48.836780",
          "exception": false,
          "start_time": "2021-08-24T16:01:48.401052",
          "status": "completed"
        },
        "tags": [],
        "id": "76a8f221",
        "colab": {
          "base_uri": "https://localhost:8080/",
          "height": 17
        },
        "outputId": "736e6523-7675-4999-882b-44383de94933"
      },
      "outputs": [
        {
          "output_type": "execute_result",
          "data": {
            "text/html": [
              "<div id='2388'>\n",
              "\n",
              "\n",
              "\n",
              "\n",
              "\n",
              "  <div class=\"bk-root\" id=\"9b31cd15-79b5-4e67-865c-ff1776a9fcaa\" data-root-id=\"2388\"></div>\n",
              "</div>\n",
              "<script type=\"application/javascript\">(function(root) {\n",
              "  function embed_document(root) {\n",
              "    var docs_json = {\"032ba669-dd0b-437a-9ec7-b4800eaa21f3\":{\"defs\":[{\"extends\":null,\"module\":null,\"name\":\"ReactiveHTML1\",\"overrides\":[],\"properties\":[]},{\"extends\":null,\"module\":null,\"name\":\"FlexBox1\",\"overrides\":[],\"properties\":[{\"default\":\"flex-start\",\"kind\":null,\"name\":\"align_content\"},{\"default\":\"flex-start\",\"kind\":null,\"name\":\"align_items\"},{\"default\":\"row\",\"kind\":null,\"name\":\"flex_direction\"},{\"default\":\"wrap\",\"kind\":null,\"name\":\"flex_wrap\"},{\"default\":\"flex-start\",\"kind\":null,\"name\":\"justify_content\"}]},{\"extends\":null,\"module\":null,\"name\":\"TemplateActions1\",\"overrides\":[],\"properties\":[{\"default\":0,\"kind\":null,\"name\":\"open_modal\"},{\"default\":0,\"kind\":null,\"name\":\"close_modal\"}]},{\"extends\":null,\"module\":null,\"name\":\"MaterialTemplateActions1\",\"overrides\":[],\"properties\":[{\"default\":0,\"kind\":null,\"name\":\"open_modal\"},{\"default\":0,\"kind\":null,\"name\":\"close_modal\"}]}],\"roots\":{\"references\":[{\"attributes\":{\"axis\":{\"id\":\"2406\"},\"dimension\":1,\"grid_line_color\":null,\"ticker\":null},\"id\":\"2409\",\"type\":\"Grid\"},{\"attributes\":{\"fill_alpha\":{\"value\":0.4},\"fill_color\":{\"value\":\"#30a2da\"},\"line_alpha\":{\"value\":0.4},\"top\":{\"field\":\"cp\"},\"width\":{\"value\":0.8},\"x\":{\"field\":\"index\"}},\"id\":\"2433\",\"type\":\"VBar\"},{\"attributes\":{\"text\":\"Heart Disease by Chest Pain Type\",\"text_color\":\"black\",\"text_font_size\":\"12pt\"},\"id\":\"2395\",\"type\":\"Title\"},{\"attributes\":{},\"id\":\"2404\",\"type\":\"CategoricalTicker\"},{\"attributes\":{},\"id\":\"2444\",\"type\":\"UnionRenderers\"},{\"attributes\":{\"fill_alpha\":{\"value\":0.2},\"fill_color\":{\"value\":\"#30a2da\"},\"line_alpha\":{\"value\":0.2},\"top\":{\"field\":\"cp\"},\"width\":{\"value\":0.8},\"x\":{\"field\":\"index\"}},\"id\":\"2434\",\"type\":\"VBar\"},{\"attributes\":{\"data\":{\"cp\":[375,65,33,26],\"index\":[\"0\",\"2\",\"1\",\"3\"]},\"selected\":{\"id\":\"2430\"},\"selection_policy\":{\"id\":\"2444\"}},\"id\":\"2429\",\"type\":\"ColumnDataSource\"},{\"attributes\":{},\"id\":\"2401\",\"type\":\"LinearScale\"},{\"attributes\":{},\"id\":\"2414\",\"type\":\"ResetTool\"},{\"attributes\":{\"margin\":[5,5,5,5],\"name\":\"HSpacer04954\",\"sizing_mode\":\"stretch_width\"},\"id\":\"2579\",\"type\":\"Spacer\"},{\"attributes\":{\"data_source\":{\"id\":\"2429\"},\"glyph\":{\"id\":\"2432\"},\"hover_glyph\":null,\"muted_glyph\":{\"id\":\"2434\"},\"nonselection_glyph\":{\"id\":\"2433\"},\"selection_glyph\":{\"id\":\"2449\"},\"view\":{\"id\":\"2436\"}},\"id\":\"2435\",\"type\":\"GlyphRenderer\"},{\"attributes\":{\"below\":[{\"id\":\"2403\"}],\"center\":[{\"id\":\"2405\"},{\"id\":\"2409\"},{\"id\":\"2447\"}],\"height\":450,\"left\":[{\"id\":\"2406\"}],\"margin\":[5,5,5,5],\"min_border_bottom\":10,\"min_border_left\":10,\"min_border_right\":10,\"min_border_top\":10,\"renderers\":[{\"id\":\"2435\"},{\"id\":\"2456\"}],\"sizing_mode\":\"fixed\",\"title\":{\"id\":\"2395\"},\"toolbar\":{\"id\":\"2416\"},\"width\":500,\"x_range\":{\"id\":\"2390\"},\"x_scale\":{\"id\":\"2399\"},\"y_range\":{\"id\":\"2391\"},\"y_scale\":{\"id\":\"2401\"}},\"id\":\"2394\",\"subtype\":\"Figure\",\"type\":\"Plot\"},{\"attributes\":{\"source\":{\"id\":\"2429\"}},\"id\":\"2436\",\"type\":\"CDSView\"},{\"attributes\":{\"source\":{\"id\":\"2450\"}},\"id\":\"2457\",\"type\":\"CDSView\"},{\"attributes\":{\"factors\":[\"0\",\"2\",\"1\",\"3\"],\"tags\":[[[\"index\",\"index\",null]]]},\"id\":\"2390\",\"type\":\"FactorRange\"},{\"attributes\":{\"axis_label\":\"Chest Pain Type\",\"formatter\":{\"id\":\"2424\"},\"major_label_policy\":{\"id\":\"2423\"},\"ticker\":{\"id\":\"2404\"}},\"id\":\"2403\",\"type\":\"CategoricalAxis\"},{\"attributes\":{\"end\":409.9,\"reset_end\":409.9,\"reset_start\":0.0,\"tags\":[[[\"cp\",\"cp\",null]]]},\"id\":\"2391\",\"type\":\"Range1d\"},{\"attributes\":{\"fill_alpha\":{\"value\":0.4},\"fill_color\":{\"value\":\"#fc4f30\"},\"line_alpha\":{\"value\":0.4},\"top\":{\"field\":\"cp\"},\"width\":{\"value\":0.8},\"x\":{\"field\":\"index\"}},\"id\":\"2454\",\"type\":\"VBar\"},{\"attributes\":{},\"id\":\"2399\",\"type\":\"CategoricalScale\"},{\"attributes\":{},\"id\":\"2426\",\"type\":\"AllLabels\"},{\"attributes\":{},\"id\":\"2424\",\"type\":\"CategoricalTickFormatter\"},{\"attributes\":{\"fill_alpha\":{\"value\":0.2},\"fill_color\":{\"value\":\"#fc4f30\"},\"line_alpha\":{\"value\":0.2},\"top\":{\"field\":\"cp\"},\"width\":{\"value\":0.8},\"x\":{\"field\":\"index\"}},\"id\":\"2455\",\"type\":\"VBar\"},{\"attributes\":{\"bottom\":{\"value\":0},\"fill_alpha\":{\"value\":0.4},\"fill_color\":{\"value\":\"#fc4f30\"},\"hatch_alpha\":{\"value\":1.0},\"hatch_color\":{\"value\":\"black\"},\"hatch_scale\":{\"value\":12.0},\"hatch_weight\":{\"value\":1.0},\"line_alpha\":{\"value\":0.4},\"line_cap\":{\"value\":\"butt\"},\"line_color\":{\"value\":\"black\"},\"line_dash\":{\"value\":[]},\"line_dash_offset\":{\"value\":0},\"line_join\":{\"value\":\"bevel\"},\"line_width\":{\"value\":1},\"top\":{\"field\":\"cp\"},\"width\":{\"value\":0.8},\"x\":{\"field\":\"index\"}},\"id\":\"2470\",\"type\":\"VBar\"},{\"attributes\":{\"data\":{\"cp\":[219,134,122,51],\"index\":[\"2\",\"1\",\"0\",\"3\"]},\"selected\":{\"id\":\"2451\"},\"selection_policy\":{\"id\":\"2467\"}},\"id\":\"2450\",\"type\":\"ColumnDataSource\"},{\"attributes\":{\"children\":[{\"id\":\"2389\"},{\"id\":\"2394\"},{\"id\":\"2579\"}],\"margin\":[0,0,0,0],\"name\":\"Row04949\",\"tags\":[\"embedded\"]},\"id\":\"2388\",\"type\":\"Row\"},{\"attributes\":{\"axis\":{\"id\":\"2403\"},\"grid_line_color\":null,\"ticker\":null},\"id\":\"2405\",\"type\":\"Grid\"},{\"attributes\":{},\"id\":\"2467\",\"type\":\"UnionRenderers\"},{\"attributes\":{},\"id\":\"2451\",\"type\":\"Selection\"},{\"attributes\":{},\"id\":\"2407\",\"type\":\"BasicTicker\"},{\"attributes\":{\"fill_alpha\":{\"value\":0.4},\"fill_color\":{\"value\":\"#fc4f30\"},\"line_alpha\":{\"value\":0.4},\"top\":{\"field\":\"cp\"},\"width\":{\"value\":0.8},\"x\":{\"field\":\"index\"}},\"id\":\"2453\",\"type\":\"VBar\"},{\"attributes\":{\"axis_label\":\"Count\",\"formatter\":{\"id\":\"2427\"},\"major_label_policy\":{\"id\":\"2426\"},\"ticker\":{\"id\":\"2407\"}},\"id\":\"2406\",\"type\":\"LinearAxis\"},{\"attributes\":{\"label\":{\"value\":\"cp\"},\"renderers\":[{\"id\":\"2435\"},{\"id\":\"2456\"}]},\"id\":\"2448\",\"type\":\"LegendItem\"},{\"attributes\":{\"data_source\":{\"id\":\"2450\"},\"glyph\":{\"id\":\"2453\"},\"hover_glyph\":null,\"muted_glyph\":{\"id\":\"2455\"},\"nonselection_glyph\":{\"id\":\"2454\"},\"selection_glyph\":{\"id\":\"2470\"},\"view\":{\"id\":\"2457\"}},\"id\":\"2456\",\"type\":\"GlyphRenderer\"},{\"attributes\":{},\"id\":\"2427\",\"type\":\"BasicTickFormatter\"},{\"attributes\":{\"bottom\":{\"value\":0},\"fill_alpha\":{\"value\":0.4},\"fill_color\":{\"value\":\"#30a2da\"},\"hatch_alpha\":{\"value\":1.0},\"hatch_color\":{\"value\":\"black\"},\"hatch_scale\":{\"value\":12.0},\"hatch_weight\":{\"value\":1.0},\"line_alpha\":{\"value\":0.4},\"line_cap\":{\"value\":\"butt\"},\"line_color\":{\"value\":\"black\"},\"line_dash\":{\"value\":[]},\"line_dash_offset\":{\"value\":0},\"line_join\":{\"value\":\"bevel\"},\"line_width\":{\"value\":1},\"top\":{\"field\":\"cp\"},\"width\":{\"value\":0.8},\"x\":{\"field\":\"index\"}},\"id\":\"2449\",\"type\":\"VBar\"},{\"attributes\":{\"callback\":null,\"renderers\":[{\"id\":\"2435\"},{\"id\":\"2456\"}],\"tags\":[\"hv_created\"],\"tooltips\":[[\"index\",\"@{index}\"],[\"cp\",\"@{cp}\"]]},\"id\":\"2392\",\"type\":\"HoverTool\"},{\"attributes\":{},\"id\":\"2430\",\"type\":\"Selection\"},{\"attributes\":{\"bottom_units\":\"screen\",\"fill_alpha\":0.5,\"fill_color\":\"lightgrey\",\"left_units\":\"screen\",\"level\":\"overlay\",\"line_alpha\":1.0,\"line_color\":\"black\",\"line_dash\":[4,4],\"line_width\":2,\"right_units\":\"screen\",\"syncable\":false,\"top_units\":\"screen\"},\"id\":\"2415\",\"type\":\"BoxAnnotation\"},{\"attributes\":{\"click_policy\":\"mute\",\"items\":[{\"id\":\"2448\"}],\"orientation\":\"horizontal\"},\"id\":\"2447\",\"type\":\"Legend\"},{\"attributes\":{\"active_multi\":null,\"tools\":[{\"id\":\"2392\"},{\"id\":\"2410\"},{\"id\":\"2411\"},{\"id\":\"2412\"},{\"id\":\"2413\"},{\"id\":\"2414\"}]},\"id\":\"2416\",\"type\":\"Toolbar\"},{\"attributes\":{},\"id\":\"2410\",\"type\":\"SaveTool\"},{\"attributes\":{\"margin\":[5,5,5,5],\"name\":\"HSpacer04953\",\"sizing_mode\":\"stretch_width\"},\"id\":\"2389\",\"type\":\"Spacer\"},{\"attributes\":{},\"id\":\"2411\",\"type\":\"PanTool\"},{\"attributes\":{\"fill_alpha\":{\"value\":0.4},\"fill_color\":{\"value\":\"#30a2da\"},\"line_alpha\":{\"value\":0.4},\"top\":{\"field\":\"cp\"},\"width\":{\"value\":0.8},\"x\":{\"field\":\"index\"}},\"id\":\"2432\",\"type\":\"VBar\"},{\"attributes\":{},\"id\":\"2412\",\"type\":\"WheelZoomTool\"},{\"attributes\":{},\"id\":\"2423\",\"type\":\"AllLabels\"},{\"attributes\":{\"overlay\":{\"id\":\"2415\"}},\"id\":\"2413\",\"type\":\"BoxZoomTool\"}],\"root_ids\":[\"2388\"]},\"title\":\"Bokeh Application\",\"version\":\"2.3.3\"}};\n",
              "    var render_items = [{\"docid\":\"032ba669-dd0b-437a-9ec7-b4800eaa21f3\",\"root_ids\":[\"2388\"],\"roots\":{\"2388\":\"9b31cd15-79b5-4e67-865c-ff1776a9fcaa\"}}];\n",
              "    root.Bokeh.embed.embed_items_notebook(docs_json, render_items);\n",
              "  }\n",
              "  if (root.Bokeh !== undefined && root.Bokeh.Panel !== undefined) {\n",
              "    embed_document(root);\n",
              "  } else {\n",
              "    var attempts = 0;\n",
              "    var timer = setInterval(function(root) {\n",
              "      if (root.Bokeh !== undefined && root.Bokeh.Panel !== undefined) {\n",
              "        clearInterval(timer);\n",
              "        embed_document(root);\n",
              "      } else if (document.readyState == \"complete\") {\n",
              "        attempts++;\n",
              "        if (attempts > 200) {\n",
              "          clearInterval(timer);\n",
              "          console.log(\"Bokeh: ERROR: Unable to run BokehJS code because BokehJS library is missing\");\n",
              "        }\n",
              "      }\n",
              "    }, 25, root)\n",
              "  }\n",
              "})(window);</script>"
            ],
            "application/vnd.holoviews_exec.v0+json": "",
            "text/plain": [
              ":Overlay\n",
              "   .Bars.Cp.I  :Bars   [index]   (cp)\n",
              "   .Bars.Cp.II :Bars   [index]   (cp)"
            ]
          },
          "metadata": {
            "application/vnd.holoviews_exec.v0+json": {
              "id": "2388"
            }
          },
          "execution_count": 26
        }
      ],
      "source": [
        "have_disease = data.loc[data['target']==1, 'cp'].value_counts().hvplot.bar(alpha=0.4) \n",
        "no_disease = data.loc[data['target']==0, 'cp'].value_counts().hvplot.bar(alpha=0.4) \n",
        "\n",
        "(no_disease * have_disease).opts(\n",
        "    title=\"Heart Disease by Chest Pain Type\", xlabel='Chest Pain Type', ylabel='Count',\n",
        "    width=500, height=450, legend_cols=2, legend_position='top_right'\n",
        ")"
      ]
    },
    {
      "cell_type": "code",
      "execution_count": 25,
      "id": "405a3b9b",
      "metadata": {
        "execution": {
          "iopub.execute_input": "2021-08-24T16:01:49.190148Z",
          "iopub.status.busy": "2021-08-24T16:01:49.184703Z",
          "iopub.status.idle": "2021-08-24T16:01:49.391914Z",
          "shell.execute_reply": "2021-08-24T16:01:49.391076Z",
          "shell.execute_reply.started": "2021-08-24T13:46:18.972634Z"
        },
        "papermill": {
          "duration": 0.401837,
          "end_time": "2021-08-24T16:01:49.392092",
          "exception": false,
          "start_time": "2021-08-24T16:01:48.990255",
          "status": "completed"
        },
        "tags": [],
        "id": "405a3b9b",
        "colab": {
          "base_uri": "https://localhost:8080/",
          "height": 17
        },
        "outputId": "2a0a8b45-ef3d-4bd1-8f54-abe460e27ea2"
      },
      "outputs": [
        {
          "output_type": "execute_result",
          "data": {
            "text/html": [
              "<div id='2135'>\n",
              "\n",
              "\n",
              "\n",
              "\n",
              "\n",
              "  <div class=\"bk-root\" id=\"099f6d32-1b6f-49be-8b71-03635fe798fb\" data-root-id=\"2135\"></div>\n",
              "</div>\n",
              "<script type=\"application/javascript\">(function(root) {\n",
              "  function embed_document(root) {\n",
              "    var docs_json = {\"fcd4d3bf-508a-409a-8bda-36b787cd4b79\":{\"defs\":[{\"extends\":null,\"module\":null,\"name\":\"ReactiveHTML1\",\"overrides\":[],\"properties\":[]},{\"extends\":null,\"module\":null,\"name\":\"FlexBox1\",\"overrides\":[],\"properties\":[{\"default\":\"flex-start\",\"kind\":null,\"name\":\"align_content\"},{\"default\":\"flex-start\",\"kind\":null,\"name\":\"align_items\"},{\"default\":\"row\",\"kind\":null,\"name\":\"flex_direction\"},{\"default\":\"wrap\",\"kind\":null,\"name\":\"flex_wrap\"},{\"default\":\"flex-start\",\"kind\":null,\"name\":\"justify_content\"}]},{\"extends\":null,\"module\":null,\"name\":\"TemplateActions1\",\"overrides\":[],\"properties\":[{\"default\":0,\"kind\":null,\"name\":\"open_modal\"},{\"default\":0,\"kind\":null,\"name\":\"close_modal\"}]},{\"extends\":null,\"module\":null,\"name\":\"MaterialTemplateActions1\",\"overrides\":[],\"properties\":[{\"default\":0,\"kind\":null,\"name\":\"open_modal\"},{\"default\":0,\"kind\":null,\"name\":\"close_modal\"}]}],\"roots\":{\"references\":[{\"attributes\":{},\"id\":\"2148\",\"type\":\"LinearScale\"},{\"attributes\":{\"fill_alpha\":{\"value\":0.2},\"fill_color\":{\"value\":\"#30a2da\"},\"line_alpha\":{\"value\":0.2},\"top\":{\"field\":\"fbs\"},\"width\":{\"value\":0.8},\"x\":{\"field\":\"index\"}},\"id\":\"2181\",\"type\":\"VBar\"},{\"attributes\":{\"axis\":{\"id\":\"2153\"},\"dimension\":1,\"grid_line_color\":null,\"ticker\":null},\"id\":\"2156\",\"type\":\"Grid\"},{\"attributes\":{\"source\":{\"id\":\"2197\"}},\"id\":\"2204\",\"type\":\"CDSView\"},{\"attributes\":{},\"id\":\"2151\",\"type\":\"CategoricalTicker\"},{\"attributes\":{\"bottom\":{\"value\":0},\"fill_alpha\":{\"value\":0.4},\"fill_color\":{\"value\":\"#fc4f30\"},\"hatch_alpha\":{\"value\":1.0},\"hatch_color\":{\"value\":\"black\"},\"hatch_scale\":{\"value\":12.0},\"hatch_weight\":{\"value\":1.0},\"line_alpha\":{\"value\":0.4},\"line_cap\":{\"value\":\"butt\"},\"line_color\":{\"value\":\"black\"},\"line_dash\":{\"value\":[]},\"line_dash_offset\":{\"value\":0},\"line_join\":{\"value\":\"bevel\"},\"line_width\":{\"value\":1},\"top\":{\"field\":\"fbs\"},\"width\":{\"value\":0.8},\"x\":{\"field\":\"index\"}},\"id\":\"2217\",\"type\":\"VBar\"},{\"attributes\":{\"fill_alpha\":{\"value\":0.2},\"fill_color\":{\"value\":\"#fc4f30\"},\"line_alpha\":{\"value\":0.2},\"top\":{\"field\":\"fbs\"},\"width\":{\"value\":0.8},\"x\":{\"field\":\"index\"}},\"id\":\"2202\",\"type\":\"VBar\"},{\"attributes\":{\"axis\":{\"id\":\"2150\"},\"grid_line_color\":null,\"ticker\":null},\"id\":\"2152\",\"type\":\"Grid\"},{\"attributes\":{},\"id\":\"2198\",\"type\":\"Selection\"},{\"attributes\":{\"fill_alpha\":{\"value\":0.4},\"fill_color\":{\"value\":\"#fc4f30\"},\"line_alpha\":{\"value\":0.4},\"top\":{\"field\":\"fbs\"},\"width\":{\"value\":0.8},\"x\":{\"field\":\"index\"}},\"id\":\"2200\",\"type\":\"VBar\"},{\"attributes\":{},\"id\":\"2154\",\"type\":\"BasicTicker\"},{\"attributes\":{\"axis_label\":\"Count\",\"formatter\":{\"id\":\"2174\"},\"major_label_policy\":{\"id\":\"2173\"},\"ticker\":{\"id\":\"2154\"}},\"id\":\"2153\",\"type\":\"LinearAxis\"},{\"attributes\":{},\"id\":\"2214\",\"type\":\"UnionRenderers\"},{\"attributes\":{},\"id\":\"2173\",\"type\":\"AllLabels\"},{\"attributes\":{},\"id\":\"2174\",\"type\":\"BasicTickFormatter\"},{\"attributes\":{\"data\":{\"fbs\":[455,71],\"index\":[\"0\",\"1\"]},\"selected\":{\"id\":\"2198\"},\"selection_policy\":{\"id\":\"2214\"}},\"id\":\"2197\",\"type\":\"ColumnDataSource\"},{\"attributes\":{\"children\":[{\"id\":\"2136\"},{\"id\":\"2141\"},{\"id\":\"2326\"}],\"margin\":[0,0,0,0],\"name\":\"Row04351\",\"tags\":[\"embedded\"]},\"id\":\"2135\",\"type\":\"Row\"},{\"attributes\":{\"factors\":[\"0\",\"1\"],\"tags\":[[[\"index\",\"index\",null]]]},\"id\":\"2137\",\"type\":\"FactorRange\"},{\"attributes\":{},\"id\":\"2171\",\"type\":\"CategoricalTickFormatter\"},{\"attributes\":{\"fill_alpha\":{\"value\":0.4},\"fill_color\":{\"value\":\"#30a2da\"},\"line_alpha\":{\"value\":0.4},\"top\":{\"field\":\"fbs\"},\"width\":{\"value\":0.8},\"x\":{\"field\":\"index\"}},\"id\":\"2180\",\"type\":\"VBar\"},{\"attributes\":{\"text\":\"Heart Disease by fasting blood sugar\",\"text_color\":\"black\",\"text_font_size\":\"12pt\"},\"id\":\"2142\",\"type\":\"Title\"},{\"attributes\":{\"bottom_units\":\"screen\",\"fill_alpha\":0.5,\"fill_color\":\"lightgrey\",\"left_units\":\"screen\",\"level\":\"overlay\",\"line_alpha\":1.0,\"line_color\":\"black\",\"line_dash\":[4,4],\"line_width\":2,\"right_units\":\"screen\",\"syncable\":false,\"top_units\":\"screen\"},\"id\":\"2162\",\"type\":\"BoxAnnotation\"},{\"attributes\":{\"callback\":null,\"renderers\":[{\"id\":\"2182\"},{\"id\":\"2203\"}],\"tags\":[\"hv_created\"],\"tooltips\":[[\"index\",\"@{index}\"],[\"fbs\",\"@{fbs}\"]]},\"id\":\"2139\",\"type\":\"HoverTool\"},{\"attributes\":{\"data_source\":{\"id\":\"2176\"},\"glyph\":{\"id\":\"2179\"},\"hover_glyph\":null,\"muted_glyph\":{\"id\":\"2181\"},\"nonselection_glyph\":{\"id\":\"2180\"},\"selection_glyph\":{\"id\":\"2196\"},\"view\":{\"id\":\"2183\"}},\"id\":\"2182\",\"type\":\"GlyphRenderer\"},{\"attributes\":{},\"id\":\"2157\",\"type\":\"SaveTool\"},{\"attributes\":{\"click_policy\":\"mute\",\"items\":[{\"id\":\"2195\"}],\"orientation\":\"horizontal\"},\"id\":\"2194\",\"type\":\"Legend\"},{\"attributes\":{},\"id\":\"2170\",\"type\":\"AllLabels\"},{\"attributes\":{},\"id\":\"2158\",\"type\":\"PanTool\"},{\"attributes\":{\"label\":{\"value\":\"fbs\"},\"renderers\":[{\"id\":\"2182\"},{\"id\":\"2203\"}]},\"id\":\"2195\",\"type\":\"LegendItem\"},{\"attributes\":{\"end\":493.4,\"reset_end\":493.4,\"reset_start\":0.0,\"tags\":[[[\"fbs\",\"fbs\",null]]]},\"id\":\"2138\",\"type\":\"Range1d\"},{\"attributes\":{\"fill_alpha\":{\"value\":0.4},\"fill_color\":{\"value\":\"#fc4f30\"},\"line_alpha\":{\"value\":0.4},\"top\":{\"field\":\"fbs\"},\"width\":{\"value\":0.8},\"x\":{\"field\":\"index\"}},\"id\":\"2201\",\"type\":\"VBar\"},{\"attributes\":{},\"id\":\"2159\",\"type\":\"WheelZoomTool\"},{\"attributes\":{\"axis_label\":\"fasting blood sugar > 120 mg/dl (1 = true; 0 = false)\",\"formatter\":{\"id\":\"2171\"},\"major_label_policy\":{\"id\":\"2170\"},\"ticker\":{\"id\":\"2151\"}},\"id\":\"2150\",\"type\":\"CategoricalAxis\"},{\"attributes\":{\"active_multi\":null,\"tools\":[{\"id\":\"2139\"},{\"id\":\"2157\"},{\"id\":\"2158\"},{\"id\":\"2159\"},{\"id\":\"2160\"},{\"id\":\"2161\"}]},\"id\":\"2163\",\"type\":\"Toolbar\"},{\"attributes\":{\"overlay\":{\"id\":\"2162\"}},\"id\":\"2160\",\"type\":\"BoxZoomTool\"},{\"attributes\":{\"below\":[{\"id\":\"2150\"}],\"center\":[{\"id\":\"2152\"},{\"id\":\"2156\"},{\"id\":\"2194\"}],\"height\":450,\"left\":[{\"id\":\"2153\"}],\"margin\":[5,5,5,5],\"min_border_bottom\":10,\"min_border_left\":10,\"min_border_right\":10,\"min_border_top\":10,\"renderers\":[{\"id\":\"2182\"},{\"id\":\"2203\"}],\"sizing_mode\":\"fixed\",\"title\":{\"id\":\"2142\"},\"toolbar\":{\"id\":\"2163\"},\"width\":500,\"x_range\":{\"id\":\"2137\"},\"x_scale\":{\"id\":\"2146\"},\"y_range\":{\"id\":\"2138\"},\"y_scale\":{\"id\":\"2148\"}},\"id\":\"2141\",\"subtype\":\"Figure\",\"type\":\"Plot\"},{\"attributes\":{\"margin\":[5,5,5,5],\"name\":\"HSpacer04356\",\"sizing_mode\":\"stretch_width\"},\"id\":\"2326\",\"type\":\"Spacer\"},{\"attributes\":{\"bottom\":{\"value\":0},\"fill_alpha\":{\"value\":0.4},\"fill_color\":{\"value\":\"#30a2da\"},\"hatch_alpha\":{\"value\":1.0},\"hatch_color\":{\"value\":\"black\"},\"hatch_scale\":{\"value\":12.0},\"hatch_weight\":{\"value\":1.0},\"line_alpha\":{\"value\":0.4},\"line_cap\":{\"value\":\"butt\"},\"line_color\":{\"value\":\"black\"},\"line_dash\":{\"value\":[]},\"line_dash_offset\":{\"value\":0},\"line_join\":{\"value\":\"bevel\"},\"line_width\":{\"value\":1},\"top\":{\"field\":\"fbs\"},\"width\":{\"value\":0.8},\"x\":{\"field\":\"index\"}},\"id\":\"2196\",\"type\":\"VBar\"},{\"attributes\":{},\"id\":\"2177\",\"type\":\"Selection\"},{\"attributes\":{\"margin\":[5,5,5,5],\"name\":\"HSpacer04355\",\"sizing_mode\":\"stretch_width\"},\"id\":\"2136\",\"type\":\"Spacer\"},{\"attributes\":{\"source\":{\"id\":\"2176\"}},\"id\":\"2183\",\"type\":\"CDSView\"},{\"attributes\":{\"data\":{\"fbs\":[417,82],\"index\":[\"0\",\"1\"]},\"selected\":{\"id\":\"2177\"},\"selection_policy\":{\"id\":\"2191\"}},\"id\":\"2176\",\"type\":\"ColumnDataSource\"},{\"attributes\":{},\"id\":\"2161\",\"type\":\"ResetTool\"},{\"attributes\":{\"fill_alpha\":{\"value\":0.4},\"fill_color\":{\"value\":\"#30a2da\"},\"line_alpha\":{\"value\":0.4},\"top\":{\"field\":\"fbs\"},\"width\":{\"value\":0.8},\"x\":{\"field\":\"index\"}},\"id\":\"2179\",\"type\":\"VBar\"},{\"attributes\":{},\"id\":\"2191\",\"type\":\"UnionRenderers\"},{\"attributes\":{\"data_source\":{\"id\":\"2197\"},\"glyph\":{\"id\":\"2200\"},\"hover_glyph\":null,\"muted_glyph\":{\"id\":\"2202\"},\"nonselection_glyph\":{\"id\":\"2201\"},\"selection_glyph\":{\"id\":\"2217\"},\"view\":{\"id\":\"2204\"}},\"id\":\"2203\",\"type\":\"GlyphRenderer\"},{\"attributes\":{},\"id\":\"2146\",\"type\":\"CategoricalScale\"}],\"root_ids\":[\"2135\"]},\"title\":\"Bokeh Application\",\"version\":\"2.3.3\"}};\n",
              "    var render_items = [{\"docid\":\"fcd4d3bf-508a-409a-8bda-36b787cd4b79\",\"root_ids\":[\"2135\"],\"roots\":{\"2135\":\"099f6d32-1b6f-49be-8b71-03635fe798fb\"}}];\n",
              "    root.Bokeh.embed.embed_items_notebook(docs_json, render_items);\n",
              "  }\n",
              "  if (root.Bokeh !== undefined && root.Bokeh.Panel !== undefined) {\n",
              "    embed_document(root);\n",
              "  } else {\n",
              "    var attempts = 0;\n",
              "    var timer = setInterval(function(root) {\n",
              "      if (root.Bokeh !== undefined && root.Bokeh.Panel !== undefined) {\n",
              "        clearInterval(timer);\n",
              "        embed_document(root);\n",
              "      } else if (document.readyState == \"complete\") {\n",
              "        attempts++;\n",
              "        if (attempts > 200) {\n",
              "          clearInterval(timer);\n",
              "          console.log(\"Bokeh: ERROR: Unable to run BokehJS code because BokehJS library is missing\");\n",
              "        }\n",
              "      }\n",
              "    }, 25, root)\n",
              "  }\n",
              "})(window);</script>"
            ],
            "application/vnd.holoviews_exec.v0+json": "",
            "text/plain": [
              ":Overlay\n",
              "   .Bars.Fbs.I  :Bars   [index]   (fbs)\n",
              "   .Bars.Fbs.II :Bars   [index]   (fbs)"
            ]
          },
          "metadata": {
            "application/vnd.holoviews_exec.v0+json": {
              "id": "2135"
            }
          },
          "execution_count": 25
        }
      ],
      "source": [
        "have_disease = data.loc[data['target']==1, 'fbs'].value_counts().hvplot.bar(alpha=0.4) \n",
        "no_disease = data.loc[data['target']==0, 'fbs'].value_counts().hvplot.bar(alpha=0.4) \n",
        "\n",
        "(no_disease * have_disease).opts(\n",
        "    title=\"Heart Disease by fasting blood sugar\", xlabel='fasting blood sugar > 120 mg/dl (1 = true; 0 = false)', \n",
        "    ylabel='Count', width=500, height=450, legend_cols=2, legend_position='top_right'\n",
        ")"
      ]
    },
    {
      "cell_type": "code",
      "execution_count": 24,
      "id": "f1575eda",
      "metadata": {
        "_kg_hide-input": true,
        "execution": {
          "iopub.execute_input": "2021-08-24T16:01:49.753572Z",
          "iopub.status.busy": "2021-08-24T16:01:49.752350Z",
          "iopub.status.idle": "2021-08-24T16:01:49.976164Z",
          "shell.execute_reply": "2021-08-24T16:01:49.972118Z",
          "shell.execute_reply.started": "2021-08-24T13:46:19.200355Z"
        },
        "papermill": {
          "duration": 0.422912,
          "end_time": "2021-08-24T16:01:49.976390",
          "exception": false,
          "start_time": "2021-08-24T16:01:49.553478",
          "status": "completed"
        },
        "tags": [],
        "id": "f1575eda",
        "colab": {
          "base_uri": "https://localhost:8080/",
          "height": 17
        },
        "outputId": "a29ddce2-10ef-4d2e-bc30-3823662918b4"
      },
      "outputs": [
        {
          "output_type": "execute_result",
          "data": {
            "text/html": [
              "<div id='1882'>\n",
              "\n",
              "\n",
              "\n",
              "\n",
              "\n",
              "  <div class=\"bk-root\" id=\"33865159-d05f-4064-9641-41abc8fb54c3\" data-root-id=\"1882\"></div>\n",
              "</div>\n",
              "<script type=\"application/javascript\">(function(root) {\n",
              "  function embed_document(root) {\n",
              "    var docs_json = {\"199803c2-996d-44d2-9aff-c71b03f8025d\":{\"defs\":[{\"extends\":null,\"module\":null,\"name\":\"ReactiveHTML1\",\"overrides\":[],\"properties\":[]},{\"extends\":null,\"module\":null,\"name\":\"FlexBox1\",\"overrides\":[],\"properties\":[{\"default\":\"flex-start\",\"kind\":null,\"name\":\"align_content\"},{\"default\":\"flex-start\",\"kind\":null,\"name\":\"align_items\"},{\"default\":\"row\",\"kind\":null,\"name\":\"flex_direction\"},{\"default\":\"wrap\",\"kind\":null,\"name\":\"flex_wrap\"},{\"default\":\"flex-start\",\"kind\":null,\"name\":\"justify_content\"}]},{\"extends\":null,\"module\":null,\"name\":\"TemplateActions1\",\"overrides\":[],\"properties\":[{\"default\":0,\"kind\":null,\"name\":\"open_modal\"},{\"default\":0,\"kind\":null,\"name\":\"close_modal\"}]},{\"extends\":null,\"module\":null,\"name\":\"MaterialTemplateActions1\",\"overrides\":[],\"properties\":[{\"default\":0,\"kind\":null,\"name\":\"open_modal\"},{\"default\":0,\"kind\":null,\"name\":\"close_modal\"}]}],\"roots\":{\"references\":[{\"attributes\":{},\"id\":\"1917\",\"type\":\"AllLabels\"},{\"attributes\":{\"fill_alpha\":{\"value\":0.2},\"fill_color\":{\"value\":\"#fc4f30\"},\"line_alpha\":{\"value\":0.2},\"top\":{\"field\":\"restecg\"},\"width\":{\"value\":0.8},\"x\":{\"field\":\"index\"}},\"id\":\"1949\",\"type\":\"VBar\"},{\"attributes\":{\"axis_label\":\"resting electrocardiographic results\",\"formatter\":{\"id\":\"1918\"},\"major_label_policy\":{\"id\":\"1917\"},\"ticker\":{\"id\":\"1898\"}},\"id\":\"1897\",\"type\":\"CategoricalAxis\"},{\"attributes\":{\"source\":{\"id\":\"1923\"}},\"id\":\"1930\",\"type\":\"CDSView\"},{\"attributes\":{\"margin\":[5,5,5,5],\"name\":\"HSpacer03757\",\"sizing_mode\":\"stretch_width\"},\"id\":\"1883\",\"type\":\"Spacer\"},{\"attributes\":{\"axis_label\":\"Count\",\"formatter\":{\"id\":\"1921\"},\"major_label_policy\":{\"id\":\"1920\"},\"ticker\":{\"id\":\"1901\"}},\"id\":\"1900\",\"type\":\"LinearAxis\"},{\"attributes\":{\"bottom\":{\"value\":0},\"fill_alpha\":{\"value\":0.4},\"fill_color\":{\"value\":\"#fc4f30\"},\"hatch_alpha\":{\"value\":1.0},\"hatch_color\":{\"value\":\"black\"},\"hatch_scale\":{\"value\":12.0},\"hatch_weight\":{\"value\":1.0},\"line_alpha\":{\"value\":0.4},\"line_cap\":{\"value\":\"butt\"},\"line_color\":{\"value\":\"black\"},\"line_dash\":{\"value\":[]},\"line_dash_offset\":{\"value\":0},\"line_join\":{\"value\":\"bevel\"},\"line_width\":{\"value\":1},\"top\":{\"field\":\"restecg\"},\"width\":{\"value\":0.8},\"x\":{\"field\":\"index\"}},\"id\":\"1964\",\"type\":\"VBar\"},{\"attributes\":{},\"id\":\"1920\",\"type\":\"AllLabels\"},{\"attributes\":{\"factors\":[\"0\",\"1\",\"2\"],\"tags\":[[[\"index\",\"index\",null]]]},\"id\":\"1884\",\"type\":\"FactorRange\"},{\"attributes\":{\"fill_alpha\":{\"value\":0.4},\"fill_color\":{\"value\":\"#fc4f30\"},\"line_alpha\":{\"value\":0.4},\"top\":{\"field\":\"restecg\"},\"width\":{\"value\":0.8},\"x\":{\"field\":\"index\"}},\"id\":\"1948\",\"type\":\"VBar\"},{\"attributes\":{},\"id\":\"1938\",\"type\":\"UnionRenderers\"},{\"attributes\":{\"end\":339.6,\"reset_end\":339.6,\"reset_start\":0.0,\"tags\":[[[\"restecg\",\"restecg\",null]]]},\"id\":\"1885\",\"type\":\"Range1d\"},{\"attributes\":{\"active_multi\":null,\"tools\":[{\"id\":\"1886\"},{\"id\":\"1904\"},{\"id\":\"1905\"},{\"id\":\"1906\"},{\"id\":\"1907\"},{\"id\":\"1908\"}]},\"id\":\"1910\",\"type\":\"Toolbar\"},{\"attributes\":{},\"id\":\"1904\",\"type\":\"SaveTool\"},{\"attributes\":{\"margin\":[5,5,5,5],\"name\":\"HSpacer03758\",\"sizing_mode\":\"stretch_width\"},\"id\":\"2073\",\"type\":\"Spacer\"},{\"attributes\":{\"below\":[{\"id\":\"1897\"}],\"center\":[{\"id\":\"1899\"},{\"id\":\"1903\"},{\"id\":\"1941\"}],\"height\":450,\"left\":[{\"id\":\"1900\"}],\"margin\":[5,5,5,5],\"min_border_bottom\":10,\"min_border_left\":10,\"min_border_right\":10,\"min_border_top\":10,\"renderers\":[{\"id\":\"1929\"},{\"id\":\"1950\"}],\"sizing_mode\":\"fixed\",\"title\":{\"id\":\"1889\"},\"toolbar\":{\"id\":\"1910\"},\"width\":500,\"x_range\":{\"id\":\"1884\"},\"x_scale\":{\"id\":\"1893\"},\"y_range\":{\"id\":\"1885\"},\"y_scale\":{\"id\":\"1895\"}},\"id\":\"1888\",\"subtype\":\"Figure\",\"type\":\"Plot\"},{\"attributes\":{\"axis\":{\"id\":\"1897\"},\"grid_line_color\":null,\"ticker\":null},\"id\":\"1899\",\"type\":\"Grid\"},{\"attributes\":{},\"id\":\"1898\",\"type\":\"CategoricalTicker\"},{\"attributes\":{\"data_source\":{\"id\":\"1923\"},\"glyph\":{\"id\":\"1926\"},\"hover_glyph\":null,\"muted_glyph\":{\"id\":\"1928\"},\"nonselection_glyph\":{\"id\":\"1927\"},\"selection_glyph\":{\"id\":\"1943\"},\"view\":{\"id\":\"1930\"}},\"id\":\"1929\",\"type\":\"GlyphRenderer\"},{\"attributes\":{\"click_policy\":\"mute\",\"items\":[{\"id\":\"1942\"}],\"orientation\":\"horizontal\"},\"id\":\"1941\",\"type\":\"Legend\"},{\"attributes\":{},\"id\":\"1918\",\"type\":\"CategoricalTickFormatter\"},{\"attributes\":{},\"id\":\"1924\",\"type\":\"Selection\"},{\"attributes\":{\"axis\":{\"id\":\"1900\"},\"dimension\":1,\"grid_line_color\":null,\"ticker\":null},\"id\":\"1903\",\"type\":\"Grid\"},{\"attributes\":{\"fill_alpha\":{\"value\":0.4},\"fill_color\":{\"value\":\"#30a2da\"},\"line_alpha\":{\"value\":0.4},\"top\":{\"field\":\"restecg\"},\"width\":{\"value\":0.8},\"x\":{\"field\":\"index\"}},\"id\":\"1927\",\"type\":\"VBar\"},{\"attributes\":{\"data\":{\"index\":[\"1\",\"0\",\"2\"],\"restecg\":[309,214,3]},\"selected\":{\"id\":\"1945\"},\"selection_policy\":{\"id\":\"1961\"}},\"id\":\"1944\",\"type\":\"ColumnDataSource\"},{\"attributes\":{\"callback\":null,\"renderers\":[{\"id\":\"1929\"},{\"id\":\"1950\"}],\"tags\":[\"hv_created\"],\"tooltips\":[[\"index\",\"@{index}\"],[\"restecg\",\"@{restecg}\"]]},\"id\":\"1886\",\"type\":\"HoverTool\"},{\"attributes\":{\"children\":[{\"id\":\"1883\"},{\"id\":\"1888\"},{\"id\":\"2073\"}],\"margin\":[0,0,0,0],\"name\":\"Row03753\",\"tags\":[\"embedded\"]},\"id\":\"1882\",\"type\":\"Row\"},{\"attributes\":{},\"id\":\"1906\",\"type\":\"WheelZoomTool\"},{\"attributes\":{},\"id\":\"1895\",\"type\":\"LinearScale\"},{\"attributes\":{\"data\":{\"index\":[\"0\",\"1\",\"2\"],\"restecg\":[283,204,12]},\"selected\":{\"id\":\"1924\"},\"selection_policy\":{\"id\":\"1938\"}},\"id\":\"1923\",\"type\":\"ColumnDataSource\"},{\"attributes\":{\"label\":{\"value\":\"restecg\"},\"renderers\":[{\"id\":\"1929\"},{\"id\":\"1950\"}]},\"id\":\"1942\",\"type\":\"LegendItem\"},{\"attributes\":{},\"id\":\"1905\",\"type\":\"PanTool\"},{\"attributes\":{},\"id\":\"1921\",\"type\":\"BasicTickFormatter\"},{\"attributes\":{\"fill_alpha\":{\"value\":0.4},\"fill_color\":{\"value\":\"#30a2da\"},\"line_alpha\":{\"value\":0.4},\"top\":{\"field\":\"restecg\"},\"width\":{\"value\":0.8},\"x\":{\"field\":\"index\"}},\"id\":\"1926\",\"type\":\"VBar\"},{\"attributes\":{},\"id\":\"1908\",\"type\":\"ResetTool\"},{\"attributes\":{\"data_source\":{\"id\":\"1944\"},\"glyph\":{\"id\":\"1947\"},\"hover_glyph\":null,\"muted_glyph\":{\"id\":\"1949\"},\"nonselection_glyph\":{\"id\":\"1948\"},\"selection_glyph\":{\"id\":\"1964\"},\"view\":{\"id\":\"1951\"}},\"id\":\"1950\",\"type\":\"GlyphRenderer\"},{\"attributes\":{\"fill_alpha\":{\"value\":0.4},\"fill_color\":{\"value\":\"#fc4f30\"},\"line_alpha\":{\"value\":0.4},\"top\":{\"field\":\"restecg\"},\"width\":{\"value\":0.8},\"x\":{\"field\":\"index\"}},\"id\":\"1947\",\"type\":\"VBar\"},{\"attributes\":{\"overlay\":{\"id\":\"1909\"}},\"id\":\"1907\",\"type\":\"BoxZoomTool\"},{\"attributes\":{\"bottom\":{\"value\":0},\"fill_alpha\":{\"value\":0.4},\"fill_color\":{\"value\":\"#30a2da\"},\"hatch_alpha\":{\"value\":1.0},\"hatch_color\":{\"value\":\"black\"},\"hatch_scale\":{\"value\":12.0},\"hatch_weight\":{\"value\":1.0},\"line_alpha\":{\"value\":0.4},\"line_cap\":{\"value\":\"butt\"},\"line_color\":{\"value\":\"black\"},\"line_dash\":{\"value\":[]},\"line_dash_offset\":{\"value\":0},\"line_join\":{\"value\":\"bevel\"},\"line_width\":{\"value\":1},\"top\":{\"field\":\"restecg\"},\"width\":{\"value\":0.8},\"x\":{\"field\":\"index\"}},\"id\":\"1943\",\"type\":\"VBar\"},{\"attributes\":{\"source\":{\"id\":\"1944\"}},\"id\":\"1951\",\"type\":\"CDSView\"},{\"attributes\":{},\"id\":\"1945\",\"type\":\"Selection\"},{\"attributes\":{},\"id\":\"1901\",\"type\":\"BasicTicker\"},{\"attributes\":{},\"id\":\"1961\",\"type\":\"UnionRenderers\"},{\"attributes\":{},\"id\":\"1893\",\"type\":\"CategoricalScale\"},{\"attributes\":{\"fill_alpha\":{\"value\":0.2},\"fill_color\":{\"value\":\"#30a2da\"},\"line_alpha\":{\"value\":0.2},\"top\":{\"field\":\"restecg\"},\"width\":{\"value\":0.8},\"x\":{\"field\":\"index\"}},\"id\":\"1928\",\"type\":\"VBar\"},{\"attributes\":{\"bottom_units\":\"screen\",\"fill_alpha\":0.5,\"fill_color\":\"lightgrey\",\"left_units\":\"screen\",\"level\":\"overlay\",\"line_alpha\":1.0,\"line_color\":\"black\",\"line_dash\":[4,4],\"line_width\":2,\"right_units\":\"screen\",\"syncable\":false,\"top_units\":\"screen\"},\"id\":\"1909\",\"type\":\"BoxAnnotation\"},{\"attributes\":{\"text\":\"Heart Disease by resting electrocardiographic results\",\"text_color\":\"black\",\"text_font_size\":\"12pt\"},\"id\":\"1889\",\"type\":\"Title\"}],\"root_ids\":[\"1882\"]},\"title\":\"Bokeh Application\",\"version\":\"2.3.3\"}};\n",
              "    var render_items = [{\"docid\":\"199803c2-996d-44d2-9aff-c71b03f8025d\",\"root_ids\":[\"1882\"],\"roots\":{\"1882\":\"33865159-d05f-4064-9641-41abc8fb54c3\"}}];\n",
              "    root.Bokeh.embed.embed_items_notebook(docs_json, render_items);\n",
              "  }\n",
              "  if (root.Bokeh !== undefined && root.Bokeh.Panel !== undefined) {\n",
              "    embed_document(root);\n",
              "  } else {\n",
              "    var attempts = 0;\n",
              "    var timer = setInterval(function(root) {\n",
              "      if (root.Bokeh !== undefined && root.Bokeh.Panel !== undefined) {\n",
              "        clearInterval(timer);\n",
              "        embed_document(root);\n",
              "      } else if (document.readyState == \"complete\") {\n",
              "        attempts++;\n",
              "        if (attempts > 200) {\n",
              "          clearInterval(timer);\n",
              "          console.log(\"Bokeh: ERROR: Unable to run BokehJS code because BokehJS library is missing\");\n",
              "        }\n",
              "      }\n",
              "    }, 25, root)\n",
              "  }\n",
              "})(window);</script>"
            ],
            "application/vnd.holoviews_exec.v0+json": "",
            "text/plain": [
              ":Overlay\n",
              "   .Bars.Restecg.I  :Bars   [index]   (restecg)\n",
              "   .Bars.Restecg.II :Bars   [index]   (restecg)"
            ]
          },
          "metadata": {
            "application/vnd.holoviews_exec.v0+json": {
              "id": "1882"
            }
          },
          "execution_count": 24
        }
      ],
      "source": [
        "have_disease = data.loc[data['target']==1, 'restecg'].value_counts().hvplot.bar(alpha=0.4) \n",
        "no_disease = data.loc[data['target']==0, 'restecg'].value_counts().hvplot.bar(alpha=0.4) \n",
        "\n",
        "(no_disease * have_disease).opts(\n",
        "    title=\"Heart Disease by resting electrocardiographic results\", xlabel='resting electrocardiographic results', \n",
        "    ylabel='Count', width=500, height=450, legend_cols=2, legend_position='top_right'\n",
        ")"
      ]
    },
    {
      "cell_type": "code",
      "execution_count": 23,
      "id": "06028961",
      "metadata": {
        "execution": {
          "iopub.execute_input": "2021-08-24T16:01:50.321504Z",
          "iopub.status.busy": "2021-08-24T16:01:50.320775Z",
          "iopub.status.idle": "2021-08-24T16:01:54.468564Z",
          "shell.execute_reply": "2021-08-24T16:01:54.469079Z",
          "shell.execute_reply.started": "2021-08-24T13:46:19.421085Z"
        },
        "papermill": {
          "duration": 4.335275,
          "end_time": "2021-08-24T16:01:54.469305",
          "exception": false,
          "start_time": "2021-08-24T16:01:50.134030",
          "status": "completed"
        },
        "tags": [],
        "id": "06028961",
        "colab": {
          "base_uri": "https://localhost:8080/",
          "height": 945
        },
        "outputId": "1037dd6c-f311-46da-b4b1-b5bf4fc6ea35"
      },
      "outputs": [
        {
          "output_type": "display_data",
          "data": {
            "text/plain": [
              "<Figure size 1080x1080 with 9 Axes>"
            ],
            "image/png": "[encoded data removed]"
          },
          "metadata": {}
        }
      ],
      "source": [
        "plt.figure(figsize=(15, 15))\n",
        "\n",
        "for i, column in enumerate(categorical_val, 1):\n",
        "    plt.subplot(3, 3, i)\n",
        "    data[data[\"target\"] == 0][column].hist(bins=35, color='blue', label='Have Heart Disease = NO', alpha=0.6)\n",
        "    data[data[\"target\"] == 1][column].hist(bins=35, color='red', label='Have Heart Disease = YES', alpha=0.6)\n",
        "    plt.legend()\n",
        "    plt.xlabel(column)"
      ]
    },
    {
      "cell_type": "code",
      "execution_count": 22,
      "id": "8c576910",
      "metadata": {
        "execution": {
          "iopub.execute_input": "2021-08-24T16:01:55.147290Z",
          "iopub.status.busy": "2021-08-24T16:01:55.144796Z",
          "iopub.status.idle": "2021-08-24T16:01:57.946302Z",
          "shell.execute_reply": "2021-08-24T16:01:57.946847Z",
          "shell.execute_reply.started": "2021-08-24T13:46:23.372595Z"
        },
        "papermill": {
          "duration": 3.000536,
          "end_time": "2021-08-24T16:01:57.947061",
          "exception": false,
          "start_time": "2021-08-24T16:01:54.946525",
          "status": "completed"
        },
        "tags": [],
        "id": "8c576910",
        "colab": {
          "base_uri": "https://localhost:8080/",
          "height": 947
        },
        "outputId": "67577569-8c17-4f5d-f184-d66016b8ab0c"
      },
      "outputs": [
        {
          "output_type": "display_data",
          "data": {
            "text/plain": [
              "<Figure size 1080x1080 with 5 Axes>"
            ],
            "image/png": "[encoded data removed]"
          },
          "metadata": {}
        }
      ],
      "source": [
        "plt.figure(figsize=(15, 15))\n",
        "\n",
        "for i, column in enumerate(continous_val, 1):\n",
        "    plt.subplot(3, 2, i)\n",
        "    data[data[\"target\"] == 0][column].hist(bins=35, color='blue', label='Have Heart Disease = NO', alpha=0.6)\n",
        "    data[data[\"target\"] == 1][column].hist(bins=35, color='red', label='Have Heart Disease = YES', alpha=0.6)\n",
        "    plt.legend()\n",
        "    plt.xlabel(column)"
      ]
    },
    {
      "cell_type": "markdown",
      "id": "fefe6c9c",
      "metadata": {
        "papermill": {
          "duration": 0.168697,
          "end_time": "2021-08-24T16:01:58.615800",
          "exception": false,
          "start_time": "2021-08-24T16:01:58.447103",
          "status": "completed"
        },
        "tags": [],
        "id": "fefe6c9c"
      },
      "source": [
        "### Age vs. Max Heart Rate for Heart Disease"
      ]
    },
    {
      "cell_type": "code",
      "execution_count": null,
      "id": "ee2aef52",
      "metadata": {
        "execution": {
          "iopub.execute_input": "2021-08-24T16:01:58.987093Z",
          "iopub.status.busy": "2021-08-24T16:01:58.981892Z",
          "iopub.status.idle": "2021-08-24T16:01:59.316543Z",
          "shell.execute_reply": "2021-08-24T16:01:59.315841Z",
          "shell.execute_reply.started": "2021-08-24T13:46:25.650172Z"
        },
        "papermill": {
          "duration": 0.533898,
          "end_time": "2021-08-24T16:01:59.316707",
          "exception": false,
          "start_time": "2021-08-24T16:01:58.782809",
          "status": "completed"
        },
        "tags": [],
        "id": "ee2aef52",
        "outputId": "50d029f9-1ac6-44a4-f9e2-eeab1bbeda70"
      },
      "outputs": [
        {
          "data": {
            "image/png": "[encoded data removed]",
            "text/plain": [
              "<Figure size 648x504 with 1 Axes>"
            ]
          },
          "metadata": {},
          "output_type": "display_data"
        }
      ],
      "source": [
        "# Create another figure\n",
        "plt.figure(figsize=(9, 7))\n",
        "\n",
        "# Scatter with postivie examples\n",
        "plt.scatter(data.age[data.target==1],\n",
        "            data.thalach[data.target==1],\n",
        "            c=\"salmon\")\n",
        "\n",
        "# Scatter with negative examples\n",
        "plt.scatter(data.age[data.target==0],\n",
        "            data.thalach[data.target==0],\n",
        "            c=\"lightblue\")\n",
        "\n",
        "# Add some helpful info\n",
        "plt.title(\"Heart Disease in function of Age and Max Heart Rate\")\n",
        "plt.xlabel(\"Age\")\n",
        "plt.ylabel(\"Max Heart Rate\")\n",
        "plt.legend([\"Disease\", \"No Disease\"]);"
      ]
    },
    {
      "cell_type": "markdown",
      "id": "8beb2e03",
      "metadata": {
        "papermill": {
          "duration": 0.187025,
          "end_time": "2021-08-24T16:01:59.669008",
          "exception": false,
          "start_time": "2021-08-24T16:01:59.481983",
          "status": "completed"
        },
        "tags": [],
        "id": "8beb2e03"
      },
      "source": [
        "#\n",
        " Correlation Matrix"
      ]
    },
    {
      "cell_type": "code",
      "execution_count": null,
      "id": "15186638",
      "metadata": {
        "execution": {
          "iopub.execute_input": "2021-08-24T16:02:00.052620Z",
          "iopub.status.busy": "2021-08-24T16:02:00.043296Z",
          "iopub.status.idle": "2021-08-24T16:02:01.570675Z",
          "shell.execute_reply": "2021-08-24T16:02:01.571192Z",
          "shell.execute_reply.started": "2021-08-24T13:46:25.960925Z"
        },
        "papermill": {
          "duration": 1.727974,
          "end_time": "2021-08-24T16:02:01.571407",
          "exception": false,
          "start_time": "2021-08-24T16:01:59.843433",
          "status": "completed"
        },
        "tags": [],
        "id": "15186638",
        "outputId": "713a2166-ae12-4a85-d163-4f4eb0563db1"
      },
      "outputs": [
        {
          "data": {
            "text/plain": [
              "(14.5, -0.5)"
            ]
          },
          "execution_count": 19,
          "metadata": {},
          "output_type": "execute_result"
        },
        {
          "data": {
            "image/png": "[encoded data removed]",
            "text/plain": [
              "<Figure size 1080x1080 with 2 Axes>"
            ]
          },
          "metadata": {},
          "output_type": "display_data"
        }
      ],
      "source": [
        "# Let's make our correlation matrix a little prettier\n",
        "corr_matrix = data.corr()\n",
        "fig, ax = plt.subplots(figsize=(15, 15))\n",
        "ax = sns.heatmap(corr_matrix,\n",
        "                 annot=True,\n",
        "                 linewidths=0.5,\n",
        "                 fmt=\".2f\",\n",
        "                 cmap=\"YlGnBu\");\n",
        "bottom, top = ax.get_ylim()\n",
        "ax.set_ylim(bottom + 0.5, top - 0.5)"
      ]
    },
    {
      "cell_type": "code",
      "execution_count": 27,
      "id": "a55b4c5c",
      "metadata": {
        "execution": {
          "iopub.execute_input": "2021-08-24T16:02:01.920507Z",
          "iopub.status.busy": "2021-08-24T16:02:01.919686Z",
          "iopub.status.idle": "2021-08-24T16:02:02.056608Z",
          "shell.execute_reply": "2021-08-24T16:02:02.057161Z",
          "shell.execute_reply.started": "2021-08-24T13:46:27.386003Z"
        },
        "papermill": {
          "duration": 0.315371,
          "end_time": "2021-08-24T16:02:02.057383",
          "exception": false,
          "start_time": "2021-08-24T16:02:01.742012",
          "status": "completed"
        },
        "tags": [],
        "id": "a55b4c5c",
        "outputId": "52ec74c5-85e8-48c6-ec66-4ed62bd63d8c",
        "colab": {
          "base_uri": "https://localhost:8080/",
          "height": 17
        }
      },
      "outputs": [
        {
          "output_type": "execute_result",
          "data": {
            "text/html": [
              "<div id='2641'>\n",
              "\n",
              "\n",
              "\n",
              "\n",
              "\n",
              "  <div class=\"bk-root\" id=\"e8a95983-0b9f-4206-9a23-560e28649c0d\" data-root-id=\"2641\"></div>\n",
              "</div>\n",
              "<script type=\"application/javascript\">(function(root) {\n",
              "  function embed_document(root) {\n",
              "    var docs_json = {\"73df718d-1826-4341-aae2-1ba71af66fad\":{\"defs\":[{\"extends\":null,\"module\":null,\"name\":\"ReactiveHTML1\",\"overrides\":[],\"properties\":[]},{\"extends\":null,\"module\":null,\"name\":\"FlexBox1\",\"overrides\":[],\"properties\":[{\"default\":\"flex-start\",\"kind\":null,\"name\":\"align_content\"},{\"default\":\"flex-start\",\"kind\":null,\"name\":\"align_items\"},{\"default\":\"row\",\"kind\":null,\"name\":\"flex_direction\"},{\"default\":\"wrap\",\"kind\":null,\"name\":\"flex_wrap\"},{\"default\":\"flex-start\",\"kind\":null,\"name\":\"justify_content\"}]},{\"extends\":null,\"module\":null,\"name\":\"TemplateActions1\",\"overrides\":[],\"properties\":[{\"default\":0,\"kind\":null,\"name\":\"open_modal\"},{\"default\":0,\"kind\":null,\"name\":\"close_modal\"}]},{\"extends\":null,\"module\":null,\"name\":\"MaterialTemplateActions1\",\"overrides\":[],\"properties\":[{\"default\":0,\"kind\":null,\"name\":\"open_modal\"},{\"default\":0,\"kind\":null,\"name\":\"close_modal\"}]}],\"roots\":{\"references\":[{\"attributes\":{},\"id\":\"2662\",\"type\":\"SaveTool\"},{\"attributes\":{},\"id\":\"2663\",\"type\":\"PanTool\"},{\"attributes\":{\"fill_alpha\":{\"value\":1.0},\"fill_color\":{\"value\":\"#30a2da\"},\"hatch_alpha\":{\"value\":1.0},\"hatch_color\":{\"value\":\"black\"},\"hatch_scale\":{\"value\":12.0},\"hatch_weight\":{\"value\":1.0},\"height\":{\"value\":0.8},\"left\":{\"value\":0},\"line_alpha\":{\"value\":1.0},\"line_cap\":{\"value\":\"butt\"},\"line_color\":{\"value\":\"black\"},\"line_dash\":{\"value\":[]},\"line_dash_offset\":{\"value\":0},\"line_join\":{\"value\":\"bevel\"},\"line_width\":{\"value\":1},\"right\":{\"field\":\"A_0\"},\"y\":{\"field\":\"index\"}},\"id\":\"2683\",\"type\":\"HBar\"},{\"attributes\":{},\"id\":\"2664\",\"type\":\"WheelZoomTool\"},{\"attributes\":{\"overlay\":{\"id\":\"2667\"}},\"id\":\"2665\",\"type\":\"BoxZoomTool\"},{\"attributes\":{},\"id\":\"2688\",\"type\":\"CategoricalTickFormatter\"},{\"attributes\":{},\"id\":\"2687\",\"type\":\"AllLabels\"},{\"attributes\":{},\"id\":\"2676\",\"type\":\"Selection\"},{\"attributes\":{\"margin\":[5,5,5,5],\"name\":\"HSpacer05411\",\"sizing_mode\":\"stretch_width\"},\"id\":\"2710\",\"type\":\"Spacer\"},{\"attributes\":{\"axis\":{\"id\":\"2659\"},\"dimension\":1,\"grid_line_color\":null,\"ticker\":null},\"id\":\"2661\",\"type\":\"Grid\"},{\"attributes\":{\"text\":\"Correlation between Heart Disease and Numeric Features\",\"text_color\":\"black\",\"text_font_size\":\"12pt\"},\"id\":\"2647\",\"type\":\"Title\"},{\"attributes\":{\"axis_label\":\"Correlation\",\"formatter\":{\"id\":\"2685\"},\"major_label_policy\":{\"id\":\"2684\"},\"ticker\":{\"id\":\"2656\"}},\"id\":\"2655\",\"type\":\"LinearAxis\"},{\"attributes\":{},\"id\":\"2666\",\"type\":\"ResetTool\"},{\"attributes\":{},\"id\":\"2684\",\"type\":\"AllLabels\"},{\"attributes\":{},\"id\":\"2697\",\"type\":\"UnionRenderers\"},{\"attributes\":{},\"id\":\"2656\",\"type\":\"BasicTicker\"},{\"attributes\":{},\"id\":\"2685\",\"type\":\"BasicTickFormatter\"},{\"attributes\":{\"data\":{\"A_0\":{\"__ndarray__\":\"489yYHlazb+TwvEkV+PRvwMzoOum1Ns/FGYBrUXDwb9mN/RdWJe5v2XJS3RjE6W/ZGtxF0E2wT9fQcFFuBDbP/QQTeaoCNy/hT0W+WsP3L9tSDNS3RzWPwkLLdsVdNi/3IDj5yOf1b8=\",\"dtype\":\"float64\",\"order\":\"little\",\"shape\":[13]},\"index\":[\"age\",\"sex\",\"cp\",\"trestbps\",\"chol\",\"fbs\",\"restecg\",\"thalach\",\"exang\",\"oldpeak\",\"slope\",\"ca\",\"thal\"]},\"selected\":{\"id\":\"2676\"},\"selection_policy\":{\"id\":\"2697\"}},\"id\":\"2675\",\"type\":\"ColumnDataSource\"},{\"attributes\":{\"axis\":{\"id\":\"2655\"},\"grid_line_color\":null,\"ticker\":null},\"id\":\"2658\",\"type\":\"Grid\"},{\"attributes\":{},\"id\":\"2653\",\"type\":\"CategoricalScale\"},{\"attributes\":{\"below\":[{\"id\":\"2655\"}],\"center\":[{\"id\":\"2658\"},{\"id\":\"2661\"}],\"height\":400,\"left\":[{\"id\":\"2659\"}],\"margin\":[5,5,5,5],\"min_border_bottom\":10,\"min_border_left\":10,\"min_border_right\":10,\"min_border_top\":10,\"renderers\":[{\"id\":\"2681\"}],\"sizing_mode\":\"fixed\",\"title\":{\"id\":\"2647\"},\"toolbar\":{\"id\":\"2668\"},\"x_range\":{\"id\":\"2643\"},\"x_scale\":{\"id\":\"2651\"},\"y_range\":{\"id\":\"2644\"},\"y_scale\":{\"id\":\"2653\"}},\"id\":\"2646\",\"subtype\":\"Figure\",\"type\":\"Plot\"},{\"attributes\":{},\"id\":\"2660\",\"type\":\"CategoricalTicker\"},{\"attributes\":{\"factors\":[\"age\",\"sex\",\"cp\",\"trestbps\",\"chol\",\"fbs\",\"restecg\",\"thalach\",\"exang\",\"oldpeak\",\"slope\",\"ca\",\"thal\"],\"tags\":[[[\"index\",\"index\",null]]]},\"id\":\"2644\",\"type\":\"FactorRange\"},{\"attributes\":{\"fill_color\":{\"value\":\"#30a2da\"},\"height\":{\"value\":0.8},\"right\":{\"field\":\"A_0\"},\"y\":{\"field\":\"index\"}},\"id\":\"2678\",\"type\":\"HBar\"},{\"attributes\":{\"source\":{\"id\":\"2675\"}},\"id\":\"2682\",\"type\":\"CDSView\"},{\"attributes\":{\"children\":[{\"id\":\"2642\"},{\"id\":\"2646\"},{\"id\":\"2710\"}],\"margin\":[0,0,0,0],\"name\":\"Row05406\",\"tags\":[\"embedded\"]},\"id\":\"2641\",\"type\":\"Row\"},{\"attributes\":{\"axis_label\":\"Numerical Features\",\"formatter\":{\"id\":\"2688\"},\"major_label_policy\":{\"id\":\"2687\"},\"ticker\":{\"id\":\"2660\"}},\"id\":\"2659\",\"type\":\"CategoricalAxis\"},{\"attributes\":{\"end\":0.5221838020692057,\"reset_end\":0.5221838020692057,\"reset_start\":-0.525770822128413,\"start\":-0.525770822128413,\"tags\":[[[\"0\",\"0\",null]]]},\"id\":\"2643\",\"type\":\"Range1d\"},{\"attributes\":{},\"id\":\"2651\",\"type\":\"LinearScale\"},{\"attributes\":{\"callback\":null,\"renderers\":[{\"id\":\"2681\"}],\"tags\":[\"hv_created\"],\"tooltips\":[[\"index\",\"@{index}\"],[\"0\",\"@{A_0}\"]]},\"id\":\"2645\",\"type\":\"HoverTool\"},{\"attributes\":{\"fill_alpha\":{\"value\":0.1},\"fill_color\":{\"value\":\"#30a2da\"},\"height\":{\"value\":0.8},\"line_alpha\":{\"value\":0.1},\"right\":{\"field\":\"A_0\"},\"y\":{\"field\":\"index\"}},\"id\":\"2679\",\"type\":\"HBar\"},{\"attributes\":{\"margin\":[5,5,5,5],\"name\":\"HSpacer05410\",\"sizing_mode\":\"stretch_width\"},\"id\":\"2642\",\"type\":\"Spacer\"},{\"attributes\":{\"fill_alpha\":{\"value\":0.2},\"fill_color\":{\"value\":\"#30a2da\"},\"height\":{\"value\":0.8},\"line_alpha\":{\"value\":0.2},\"right\":{\"field\":\"A_0\"},\"y\":{\"field\":\"index\"}},\"id\":\"2680\",\"type\":\"HBar\"},{\"attributes\":{\"bottom_units\":\"screen\",\"fill_alpha\":0.5,\"fill_color\":\"lightgrey\",\"left_units\":\"screen\",\"level\":\"overlay\",\"line_alpha\":1.0,\"line_color\":\"black\",\"line_dash\":[4,4],\"line_width\":2,\"right_units\":\"screen\",\"syncable\":false,\"top_units\":\"screen\"},\"id\":\"2667\",\"type\":\"BoxAnnotation\"},{\"attributes\":{\"active_multi\":null,\"tools\":[{\"id\":\"2645\"},{\"id\":\"2662\"},{\"id\":\"2663\"},{\"id\":\"2664\"},{\"id\":\"2665\"},{\"id\":\"2666\"}]},\"id\":\"2668\",\"type\":\"Toolbar\"},{\"attributes\":{\"data_source\":{\"id\":\"2675\"},\"glyph\":{\"id\":\"2678\"},\"hover_glyph\":null,\"muted_glyph\":{\"id\":\"2680\"},\"nonselection_glyph\":{\"id\":\"2679\"},\"selection_glyph\":{\"id\":\"2683\"},\"view\":{\"id\":\"2682\"}},\"id\":\"2681\",\"type\":\"GlyphRenderer\"}],\"root_ids\":[\"2641\"]},\"title\":\"Bokeh Application\",\"version\":\"2.3.3\"}};\n",
              "    var render_items = [{\"docid\":\"73df718d-1826-4341-aae2-1ba71af66fad\",\"root_ids\":[\"2641\"],\"roots\":{\"2641\":\"e8a95983-0b9f-4206-9a23-560e28649c0d\"}}];\n",
              "    root.Bokeh.embed.embed_items_notebook(docs_json, render_items);\n",
              "  }\n",
              "  if (root.Bokeh !== undefined && root.Bokeh.Panel !== undefined) {\n",
              "    embed_document(root);\n",
              "  } else {\n",
              "    var attempts = 0;\n",
              "    var timer = setInterval(function(root) {\n",
              "      if (root.Bokeh !== undefined && root.Bokeh.Panel !== undefined) {\n",
              "        clearInterval(timer);\n",
              "        embed_document(root);\n",
              "      } else if (document.readyState == \"complete\") {\n",
              "        attempts++;\n",
              "        if (attempts > 200) {\n",
              "          clearInterval(timer);\n",
              "          console.log(\"Bokeh: ERROR: Unable to run BokehJS code because BokehJS library is missing\");\n",
              "        }\n",
              "      }\n",
              "    }, 25, root)\n",
              "  }\n",
              "})(window);</script>"
            ],
            "application/vnd.holoviews_exec.v0+json": "",
            "text/plain": [
              ":Bars   [index]   (0)"
            ]
          },
          "metadata": {
            "application/vnd.holoviews_exec.v0+json": {
              "id": "2641"
            }
          },
          "execution_count": 27
        }
      ],
      "source": [
        "data.drop('target', axis=1).corrwith(data.target).hvplot.barh(\n",
        "    width=600, height=400, \n",
        "    title=\"Correlation between Heart Disease and Numeric Features\", \n",
        "    ylabel='Correlation', xlabel='Numerical Features',\n",
        ")"
      ]
    },
    {
      "cell_type": "markdown",
      "id": "bb15b2cc",
      "metadata": {
        "papermill": {
          "duration": 0.179542,
          "end_time": "2021-08-24T16:02:02.754366",
          "exception": false,
          "start_time": "2021-08-24T16:02:02.574824",
          "status": "completed"
        },
        "tags": [],
        "id": "bb15b2cc"
      },
      "source": [
        "#  Data Processing\n",
        "\n"
      ]
    },
    {
      "cell_type": "code",
      "execution_count": 30,
      "id": "c5e2740e",
      "metadata": {
        "execution": {
          "iopub.execute_input": "2021-08-24T16:02:03.136983Z",
          "iopub.status.busy": "2021-08-24T16:02:03.134327Z",
          "iopub.status.idle": "2021-08-24T16:02:03.143445Z",
          "shell.execute_reply": "2021-08-24T16:02:03.142819Z",
          "shell.execute_reply.started": "2021-08-24T13:46:27.489783Z"
        },
        "papermill": {
          "duration": 0.207551,
          "end_time": "2021-08-24T16:02:03.143632",
          "exception": false,
          "start_time": "2021-08-24T16:02:02.936081",
          "status": "completed"
        },
        "tags": [],
        "id": "c5e2740e"
      },
      "outputs": [],
      "source": [
        "categorical_val.remove('target')\n",
        "dataset = pd.get_dummies(data, columns = categorical_val)"
      ]
    },
    {
      "cell_type": "code",
      "execution_count": 31,
      "id": "4bbb3201",
      "metadata": {
        "execution": {
          "iopub.execute_input": "2021-08-24T16:02:03.522967Z",
          "iopub.status.busy": "2021-08-24T16:02:03.515480Z",
          "iopub.status.idle": "2021-08-24T16:02:03.542872Z",
          "shell.execute_reply": "2021-08-24T16:02:03.541966Z",
          "shell.execute_reply.started": "2021-08-24T13:46:27.507403Z"
        },
        "papermill": {
          "duration": 0.220868,
          "end_time": "2021-08-24T16:02:03.543282",
          "exception": false,
          "start_time": "2021-08-24T16:02:03.322414",
          "status": "completed"
        },
        "tags": [],
        "id": "4bbb3201",
        "outputId": "9616c0c4-2652-44d0-f29c-37c86f6128c0",
        "colab": {
          "base_uri": "https://localhost:8080/",
          "height": 279
        }
      },
      "outputs": [
        {
          "output_type": "execute_result",
          "data": {
            "text/plain": [
              "   age  trestbps  chol  thalach  oldpeak  target  sex_0  sex_1  cp_0  cp_1  \\\n",
              "0   52       125   212      168     1.00       0      0      1     1     0   \n",
              "1   53       140   203      155     3.10       0      0      1     1     0   \n",
              "2   70       145   174      125     2.60       0      0      1     1     0   \n",
              "3   61       148   203      161     0.00       0      0      1     1     0   \n",
              "4   62       138   294      106     1.90       0      1      0     1     0   \n",
              "\n",
              "   ...  slope_2  ca_0  ca_1  ca_2  ca_3  ca_4  thal_0  thal_1  thal_2  thal_3  \n",
              "0  ...        1     0     0     1     0     0       0       0       0       1  \n",
              "1  ...        0     1     0     0     0     0       0       0       0       1  \n",
              "2  ...        0     1     0     0     0     0       0       0       0       1  \n",
              "3  ...        1     0     1     0     0     0       0       0       0       1  \n",
              "4  ...        0     0     0     0     1     0       0       0       1       0  \n",
              "\n",
              "[5 rows x 31 columns]"
            ],
            "text/html": [
              "\n",
              "  <div id=\"df-5ebd70ba-ae85-4d37-a05d-87d62efc09d8\">\n",
              "    <div class=\"colab-df-container\">\n",
              "      <div>\n",
              "<style scoped>\n",
              "    .dataframe tbody tr th:only-of-type {\n",
              "        vertical-align: middle;\n",
              "    }\n",
              "\n",
              "    .dataframe tbody tr th {\n",
              "        vertical-align: top;\n",
              "    }\n",
              "\n",
              "    .dataframe thead th {\n",
              "        text-align: right;\n",
              "    }\n",
              "</style>\n",
              "<table border=\"1\" class=\"dataframe\">\n",
              "  <thead>\n",
              "    <tr style=\"text-align: right;\">\n",
              "      <th></th>\n",
              "      <th>age</th>\n",
              "      <th>trestbps</th>\n",
              "      <th>chol</th>\n",
              "      <th>thalach</th>\n",
              "      <th>oldpeak</th>\n",
              "      <th>target</th>\n",
              "      <th>sex_0</th>\n",
              "      <th>sex_1</th>\n",
              "      <th>cp_0</th>\n",
              "      <th>cp_1</th>\n",
              "      <th>...</th>\n",
              "      <th>slope_2</th>\n",
              "      <th>ca_0</th>\n",
              "      <th>ca_1</th>\n",
              "      <th>ca_2</th>\n",
              "      <th>ca_3</th>\n",
              "      <th>ca_4</th>\n",
              "      <th>thal_0</th>\n",
              "      <th>thal_1</th>\n",
              "      <th>thal_2</th>\n",
              "      <th>thal_3</th>\n",
              "    </tr>\n",
              "  </thead>\n",
              "  <tbody>\n",
              "    <tr>\n",
              "      <th>0</th>\n",
              "      <td>52</td>\n",
              "      <td>125</td>\n",
              "      <td>212</td>\n",
              "      <td>168</td>\n",
              "      <td>1.00</td>\n",
              "      <td>0</td>\n",
              "      <td>0</td>\n",
              "      <td>1</td>\n",
              "      <td>1</td>\n",
              "      <td>0</td>\n",
              "      <td>...</td>\n",
              "      <td>1</td>\n",
              "      <td>0</td>\n",
              "      <td>0</td>\n",
              "      <td>1</td>\n",
              "      <td>0</td>\n",
              "      <td>0</td>\n",
              "      <td>0</td>\n",
              "      <td>0</td>\n",
              "      <td>0</td>\n",
              "      <td>1</td>\n",
              "    </tr>\n",
              "    <tr>\n",
              "      <th>1</th>\n",
              "      <td>53</td>\n",
              "      <td>140</td>\n",
              "      <td>203</td>\n",
              "      <td>155</td>\n",
              "      <td>3.10</td>\n",
              "      <td>0</td>\n",
              "      <td>0</td>\n",
              "      <td>1</td>\n",
              "      <td>1</td>\n",
              "      <td>0</td>\n",
              "      <td>...</td>\n",
              "      <td>0</td>\n",
              "      <td>1</td>\n",
              "      <td>0</td>\n",
              "      <td>0</td>\n",
              "      <td>0</td>\n",
              "      <td>0</td>\n",
              "      <td>0</td>\n",
              "      <td>0</td>\n",
              "      <td>0</td>\n",
              "      <td>1</td>\n",
              "    </tr>\n",
              "    <tr>\n",
              "      <th>2</th>\n",
              "      <td>70</td>\n",
              "      <td>145</td>\n",
              "      <td>174</td>\n",
              "      <td>125</td>\n",
              "      <td>2.60</td>\n",
              "      <td>0</td>\n",
              "      <td>0</td>\n",
              "      <td>1</td>\n",
              "      <td>1</td>\n",
              "      <td>0</td>\n",
              "      <td>...</td>\n",
              "      <td>0</td>\n",
              "      <td>1</td>\n",
              "      <td>0</td>\n",
              "      <td>0</td>\n",
              "      <td>0</td>\n",
              "      <td>0</td>\n",
              "      <td>0</td>\n",
              "      <td>0</td>\n",
              "      <td>0</td>\n",
              "      <td>1</td>\n",
              "    </tr>\n",
              "    <tr>\n",
              "      <th>3</th>\n",
              "      <td>61</td>\n",
              "      <td>148</td>\n",
              "      <td>203</td>\n",
              "      <td>161</td>\n",
              "      <td>0.00</td>\n",
              "      <td>0</td>\n",
              "      <td>0</td>\n",
              "      <td>1</td>\n",
              "      <td>1</td>\n",
              "      <td>0</td>\n",
              "      <td>...</td>\n",
              "      <td>1</td>\n",
              "      <td>0</td>\n",
              "      <td>1</td>\n",
              "      <td>0</td>\n",
              "      <td>0</td>\n",
              "      <td>0</td>\n",
              "      <td>0</td>\n",
              "      <td>0</td>\n",
              "      <td>0</td>\n",
              "      <td>1</td>\n",
              "    </tr>\n",
              "    <tr>\n",
              "      <th>4</th>\n",
              "      <td>62</td>\n",
              "      <td>138</td>\n",
              "      <td>294</td>\n",
              "      <td>106</td>\n",
              "      <td>1.90</td>\n",
              "      <td>0</td>\n",
              "      <td>1</td>\n",
              "      <td>0</td>\n",
              "      <td>1</td>\n",
              "      <td>0</td>\n",
              "      <td>...</td>\n",
              "      <td>0</td>\n",
              "      <td>0</td>\n",
              "      <td>0</td>\n",
              "      <td>0</td>\n",
              "      <td>1</td>\n",
              "      <td>0</td>\n",
              "      <td>0</td>\n",
              "      <td>0</td>\n",
              "      <td>1</td>\n",
              "      <td>0</td>\n",
              "    </tr>\n",
              "  </tbody>\n",
              "</table>\n",
              "<p>5 rows × 31 columns</p>\n",
              "</div>\n",
              "      <button class=\"colab-df-convert\" onclick=\"convertToInteractive('df-5ebd70ba-ae85-4d37-a05d-87d62efc09d8')\"\n",
              "              title=\"Convert this dataframe to an interactive table.\"\n",
              "              style=\"display:none;\">\n",
              "        \n",
              "  <svg xmlns=\"http://www.w3.org/2000/svg\" height=\"24px\"viewBox=\"0 0 24 24\"\n",
              "       width=\"24px\">\n",
              "    <path d=\"M0 0h24v24H0V0z\" fill=\"none\"/>\n",
              "    <path d=\"M18.56 5.44l.94 2.06.94-2.06 2.06-.94-2.06-.94-.94-2.06-.94 2.06-2.06.94zm-11 1L8.5 8.5l.94-2.06 2.06-.94-2.06-.94L8.5 2.5l-.94 2.06-2.06.94zm10 10l.94 2.06.94-2.06 2.06-.94-2.06-.94-.94-2.06-.94 2.06-2.06.94z\"/><path d=\"M17.41 7.96l-1.37-1.37c-.4-.4-.92-.59-1.43-.59-.52 0-1.04.2-1.43.59L10.3 9.45l-7.72 7.72c-.78.78-.78 2.05 0 2.83L4 21.41c.39.39.9.59 1.41.59.51 0 1.02-.2 1.41-.59l7.78-7.78 2.81-2.81c.8-.78.8-2.07 0-2.86zM5.41 20L4 18.59l7.72-7.72 1.47 1.35L5.41 20z\"/>\n",
              "  </svg>\n",
              "      </button>\n",
              "      \n",
              "  <style>\n",
              "    .colab-df-container {\n",
              "      display:flex;\n",
              "      flex-wrap:wrap;\n",
              "      gap: 12px;\n",
              "    }\n",
              "\n",
              "    .colab-df-convert {\n",
              "      background-color: #E8F0FE;\n",
              "      border: none;\n",
              "      border-radius: 50%;\n",
              "      cursor: pointer;\n",
              "      display: none;\n",
              "      fill: #1967D2;\n",
              "      height: 32px;\n",
              "      padding: 0 0 0 0;\n",
              "      width: 32px;\n",
              "    }\n",
              "\n",
              "    .colab-df-convert:hover {\n",
              "      background-color: #E2EBFA;\n",
              "      box-shadow: 0px 1px 2px rgba(60, 64, 67, 0.3), 0px 1px 3px 1px rgba(60, 64, 67, 0.15);\n",
              "      fill: #174EA6;\n",
              "    }\n",
              "\n",
              "    [theme=dark] .colab-df-convert {\n",
              "      background-color: #3B4455;\n",
              "      fill: #D2E3FC;\n",
              "    }\n",
              "\n",
              "    [theme=dark] .colab-df-convert:hover {\n",
              "      background-color: #434B5C;\n",
              "      box-shadow: 0px 1px 3px 1px rgba(0, 0, 0, 0.15);\n",
              "      filter: drop-shadow(0px 1px 2px rgba(0, 0, 0, 0.3));\n",
              "      fill: #FFFFFF;\n",
              "    }\n",
              "  </style>\n",
              "\n",
              "      <script>\n",
              "        const buttonEl =\n",
              "          document.querySelector('#df-5ebd70ba-ae85-4d37-a05d-87d62efc09d8 button.colab-df-convert');\n",
              "        buttonEl.style.display =\n",
              "          google.colab.kernel.accessAllowed ? 'block' : 'none';\n",
              "\n",
              "        async function convertToInteractive(key) {\n",
              "          const element = document.querySelector('#df-5ebd70ba-ae85-4d37-a05d-87d62efc09d8');\n",
              "          const dataTable =\n",
              "            await google.colab.kernel.invokeFunction('convertToInteractive',\n",
              "                                                     [key], {});\n",
              "          if (!dataTable) return;\n",
              "\n",
              "          const docLinkHtml = 'Like what you see? Visit the ' +\n",
              "            '<a target=\"_blank\" href=https://colab.research.google.com/notebooks/data_table.ipynb>data table notebook</a>'\n",
              "            + ' to learn more about interactive tables.';\n",
              "          element.innerHTML = '';\n",
              "          dataTable['output_type'] = 'display_data';\n",
              "          await google.colab.output.renderOutput(dataTable, element);\n",
              "          const docLink = document.createElement('div');\n",
              "          docLink.innerHTML = docLinkHtml;\n",
              "          element.appendChild(docLink);\n",
              "        }\n",
              "      </script>\n",
              "    </div>\n",
              "  </div>\n",
              "  "
            ]
          },
          "metadata": {},
          "execution_count": 31
        }
      ],
      "source": [
        "dataset.head()"
      ]
    },
    {
      "cell_type": "code",
      "execution_count": 32,
      "id": "c65add33",
      "metadata": {
        "execution": {
          "iopub.execute_input": "2021-08-24T16:02:03.941086Z",
          "iopub.status.busy": "2021-08-24T16:02:03.940161Z",
          "iopub.status.idle": "2021-08-24T16:02:03.945627Z",
          "shell.execute_reply": "2021-08-24T16:02:03.944730Z",
          "shell.execute_reply.started": "2021-08-24T13:46:27.535043Z"
        },
        "papermill": {
          "duration": 0.202162,
          "end_time": "2021-08-24T16:02:03.945896",
          "exception": false,
          "start_time": "2021-08-24T16:02:03.743734",
          "status": "completed"
        },
        "tags": [],
        "id": "c65add33",
        "outputId": "8020d32d-6eab-4def-8a27-86223c0dbb10",
        "colab": {
          "base_uri": "https://localhost:8080/"
        }
      },
      "outputs": [
        {
          "output_type": "stream",
          "name": "stdout",
          "text": [
            "Index(['age', 'sex', 'cp', 'trestbps', 'chol', 'fbs', 'restecg', 'thalach',\n",
            "       'exang', 'oldpeak', 'slope', 'ca', 'thal', 'target'],\n",
            "      dtype='object')\n",
            "Index(['age', 'sex', 'cp', 'trestbps', 'chol', 'fbs', 'restecg', 'thalach',\n",
            "       'exang', 'oldpeak', 'slope', 'ca', 'thal', 'target'],\n",
            "      dtype='object')\n"
          ]
        }
      ],
      "source": [
        "print(data.columns)\n",
        "print(data.columns)"
      ]
    },
    {
      "cell_type": "code",
      "execution_count": 33,
      "id": "4694070f",
      "metadata": {
        "execution": {
          "iopub.execute_input": "2021-08-24T16:02:04.316409Z",
          "iopub.status.busy": "2021-08-24T16:02:04.315483Z",
          "iopub.status.idle": "2021-08-24T16:02:04.479049Z",
          "shell.execute_reply": "2021-08-24T16:02:04.478135Z",
          "shell.execute_reply.started": "2021-08-24T13:46:27.543152Z"
        },
        "papermill": {
          "duration": 0.347578,
          "end_time": "2021-08-24T16:02:04.479255",
          "exception": false,
          "start_time": "2021-08-24T16:02:04.131677",
          "status": "completed"
        },
        "tags": [],
        "id": "4694070f"
      },
      "outputs": [],
      "source": [
        "from sklearn.preprocessing import StandardScaler\n",
        "\n",
        "s_sc = StandardScaler()\n",
        "col_to_scale = ['age', 'trestbps', 'chol', 'thalach', 'oldpeak']\n",
        "dataset[col_to_scale] = s_sc.fit_transform(dataset[col_to_scale])"
      ]
    },
    {
      "cell_type": "code",
      "execution_count": 34,
      "id": "4f7735dd",
      "metadata": {
        "execution": {
          "iopub.execute_input": "2021-08-24T16:02:04.863758Z",
          "iopub.status.busy": "2021-08-24T16:02:04.862994Z",
          "iopub.status.idle": "2021-08-24T16:02:04.888728Z",
          "shell.execute_reply": "2021-08-24T16:02:04.889370Z",
          "shell.execute_reply.started": "2021-08-24T13:46:27.682309Z"
        },
        "papermill": {
          "duration": 0.221055,
          "end_time": "2021-08-24T16:02:04.889684",
          "exception": false,
          "start_time": "2021-08-24T16:02:04.668629",
          "status": "completed"
        },
        "tags": [],
        "id": "4f7735dd",
        "outputId": "99f0e8e4-8780-4658-9c10-63289bf92590",
        "colab": {
          "base_uri": "https://localhost:8080/",
          "height": 279
        }
      },
      "outputs": [
        {
          "output_type": "execute_result",
          "data": {
            "text/plain": [
              "    age  trestbps  chol  thalach  oldpeak  target  sex_0  sex_1  cp_0  cp_1  \\\n",
              "0 -0.27     -0.38 -0.66     0.82    -0.06       0      0      1     1     0   \n",
              "1 -0.16      0.48 -0.83     0.26     1.73       0      0      1     1     0   \n",
              "2  1.72      0.76 -1.40    -1.05     1.30       0      0      1     1     0   \n",
              "3  0.72      0.94 -0.83     0.52    -0.91       0      0      1     1     0   \n",
              "4  0.83      0.36  0.93    -1.87     0.71       0      1      0     1     0   \n",
              "\n",
              "   ...  slope_2  ca_0  ca_1  ca_2  ca_3  ca_4  thal_0  thal_1  thal_2  thal_3  \n",
              "0  ...        1     0     0     1     0     0       0       0       0       1  \n",
              "1  ...        0     1     0     0     0     0       0       0       0       1  \n",
              "2  ...        0     1     0     0     0     0       0       0       0       1  \n",
              "3  ...        1     0     1     0     0     0       0       0       0       1  \n",
              "4  ...        0     0     0     0     1     0       0       0       1       0  \n",
              "\n",
              "[5 rows x 31 columns]"
            ],
            "text/html": [
              "\n",
              "  <div id=\"df-614a9832-7188-4eb7-b33d-6e11912fbf33\">\n",
              "    <div class=\"colab-df-container\">\n",
              "      <div>\n",
              "<style scoped>\n",
              "    .dataframe tbody tr th:only-of-type {\n",
              "        vertical-align: middle;\n",
              "    }\n",
              "\n",
              "    .dataframe tbody tr th {\n",
              "        vertical-align: top;\n",
              "    }\n",
              "\n",
              "    .dataframe thead th {\n",
              "        text-align: right;\n",
              "    }\n",
              "</style>\n",
              "<table border=\"1\" class=\"dataframe\">\n",
              "  <thead>\n",
              "    <tr style=\"text-align: right;\">\n",
              "      <th></th>\n",
              "      <th>age</th>\n",
              "      <th>trestbps</th>\n",
              "      <th>chol</th>\n",
              "      <th>thalach</th>\n",
              "      <th>oldpeak</th>\n",
              "      <th>target</th>\n",
              "      <th>sex_0</th>\n",
              "      <th>sex_1</th>\n",
              "      <th>cp_0</th>\n",
              "      <th>cp_1</th>\n",
              "      <th>...</th>\n",
              "      <th>slope_2</th>\n",
              "      <th>ca_0</th>\n",
              "      <th>ca_1</th>\n",
              "      <th>ca_2</th>\n",
              "      <th>ca_3</th>\n",
              "      <th>ca_4</th>\n",
              "      <th>thal_0</th>\n",
              "      <th>thal_1</th>\n",
              "      <th>thal_2</th>\n",
              "      <th>thal_3</th>\n",
              "    </tr>\n",
              "  </thead>\n",
              "  <tbody>\n",
              "    <tr>\n",
              "      <th>0</th>\n",
              "      <td>-0.27</td>\n",
              "      <td>-0.38</td>\n",
              "      <td>-0.66</td>\n",
              "      <td>0.82</td>\n",
              "      <td>-0.06</td>\n",
              "      <td>0</td>\n",
              "      <td>0</td>\n",
              "      <td>1</td>\n",
              "      <td>1</td>\n",
              "      <td>0</td>\n",
              "      <td>...</td>\n",
              "      <td>1</td>\n",
              "      <td>0</td>\n",
              "      <td>0</td>\n",
              "      <td>1</td>\n",
              "      <td>0</td>\n",
              "      <td>0</td>\n",
              "      <td>0</td>\n",
              "      <td>0</td>\n",
              "      <td>0</td>\n",
              "      <td>1</td>\n",
              "    </tr>\n",
              "    <tr>\n",
              "      <th>1</th>\n",
              "      <td>-0.16</td>\n",
              "      <td>0.48</td>\n",
              "      <td>-0.83</td>\n",
              "      <td>0.26</td>\n",
              "      <td>1.73</td>\n",
              "      <td>0</td>\n",
              "      <td>0</td>\n",
              "      <td>1</td>\n",
              "      <td>1</td>\n",
              "      <td>0</td>\n",
              "      <td>...</td>\n",
              "      <td>0</td>\n",
              "      <td>1</td>\n",
              "      <td>0</td>\n",
              "      <td>0</td>\n",
              "      <td>0</td>\n",
              "      <td>0</td>\n",
              "      <td>0</td>\n",
              "      <td>0</td>\n",
              "      <td>0</td>\n",
              "      <td>1</td>\n",
              "    </tr>\n",
              "    <tr>\n",
              "      <th>2</th>\n",
              "      <td>1.72</td>\n",
              "      <td>0.76</td>\n",
              "      <td>-1.40</td>\n",
              "      <td>-1.05</td>\n",
              "      <td>1.30</td>\n",
              "      <td>0</td>\n",
              "      <td>0</td>\n",
              "      <td>1</td>\n",
              "      <td>1</td>\n",
              "      <td>0</td>\n",
              "      <td>...</td>\n",
              "      <td>0</td>\n",
              "      <td>1</td>\n",
              "      <td>0</td>\n",
              "      <td>0</td>\n",
              "      <td>0</td>\n",
              "      <td>0</td>\n",
              "      <td>0</td>\n",
              "      <td>0</td>\n",
              "      <td>0</td>\n",
              "      <td>1</td>\n",
              "    </tr>\n",
              "    <tr>\n",
              "      <th>3</th>\n",
              "      <td>0.72</td>\n",
              "      <td>0.94</td>\n",
              "      <td>-0.83</td>\n",
              "      <td>0.52</td>\n",
              "      <td>-0.91</td>\n",
              "      <td>0</td>\n",
              "      <td>0</td>\n",
              "      <td>1</td>\n",
              "      <td>1</td>\n",
              "      <td>0</td>\n",
              "      <td>...</td>\n",
              "      <td>1</td>\n",
              "      <td>0</td>\n",
              "      <td>1</td>\n",
              "      <td>0</td>\n",
              "      <td>0</td>\n",
              "      <td>0</td>\n",
              "      <td>0</td>\n",
              "      <td>0</td>\n",
              "      <td>0</td>\n",
              "      <td>1</td>\n",
              "    </tr>\n",
              "    <tr>\n",
              "      <th>4</th>\n",
              "      <td>0.83</td>\n",
              "      <td>0.36</td>\n",
              "      <td>0.93</td>\n",
              "      <td>-1.87</td>\n",
              "      <td>0.71</td>\n",
              "      <td>0</td>\n",
              "      <td>1</td>\n",
              "      <td>0</td>\n",
              "      <td>1</td>\n",
              "      <td>0</td>\n",
              "      <td>...</td>\n",
              "      <td>0</td>\n",
              "      <td>0</td>\n",
              "      <td>0</td>\n",
              "      <td>0</td>\n",
              "      <td>1</td>\n",
              "      <td>0</td>\n",
              "      <td>0</td>\n",
              "      <td>0</td>\n",
              "      <td>1</td>\n",
              "      <td>0</td>\n",
              "    </tr>\n",
              "  </tbody>\n",
              "</table>\n",
              "<p>5 rows × 31 columns</p>\n",
              "</div>\n",
              "      <button class=\"colab-df-convert\" onclick=\"convertToInteractive('df-614a9832-7188-4eb7-b33d-6e11912fbf33')\"\n",
              "              title=\"Convert this dataframe to an interactive table.\"\n",
              "              style=\"display:none;\">\n",
              "        \n",
              "  <svg xmlns=\"http://www.w3.org/2000/svg\" height=\"24px\"viewBox=\"0 0 24 24\"\n",
              "       width=\"24px\">\n",
              "    <path d=\"M0 0h24v24H0V0z\" fill=\"none\"/>\n",
              "    <path d=\"M18.56 5.44l.94 2.06.94-2.06 2.06-.94-2.06-.94-.94-2.06-.94 2.06-2.06.94zm-11 1L8.5 8.5l.94-2.06 2.06-.94-2.06-.94L8.5 2.5l-.94 2.06-2.06.94zm10 10l.94 2.06.94-2.06 2.06-.94-2.06-.94-.94-2.06-.94 2.06-2.06.94z\"/><path d=\"M17.41 7.96l-1.37-1.37c-.4-.4-.92-.59-1.43-.59-.52 0-1.04.2-1.43.59L10.3 9.45l-7.72 7.72c-.78.78-.78 2.05 0 2.83L4 21.41c.39.39.9.59 1.41.59.51 0 1.02-.2 1.41-.59l7.78-7.78 2.81-2.81c.8-.78.8-2.07 0-2.86zM5.41 20L4 18.59l7.72-7.72 1.47 1.35L5.41 20z\"/>\n",
              "  </svg>\n",
              "      </button>\n",
              "      \n",
              "  <style>\n",
              "    .colab-df-container {\n",
              "      display:flex;\n",
              "      flex-wrap:wrap;\n",
              "      gap: 12px;\n",
              "    }\n",
              "\n",
              "    .colab-df-convert {\n",
              "      background-color: #E8F0FE;\n",
              "      border: none;\n",
              "      border-radius: 50%;\n",
              "      cursor: pointer;\n",
              "      display: none;\n",
              "      fill: #1967D2;\n",
              "      height: 32px;\n",
              "      padding: 0 0 0 0;\n",
              "      width: 32px;\n",
              "    }\n",
              "\n",
              "    .colab-df-convert:hover {\n",
              "      background-color: #E2EBFA;\n",
              "      box-shadow: 0px 1px 2px rgba(60, 64, 67, 0.3), 0px 1px 3px 1px rgba(60, 64, 67, 0.15);\n",
              "      fill: #174EA6;\n",
              "    }\n",
              "\n",
              "    [theme=dark] .colab-df-convert {\n",
              "      background-color: #3B4455;\n",
              "      fill: #D2E3FC;\n",
              "    }\n",
              "\n",
              "    [theme=dark] .colab-df-convert:hover {\n",
              "      background-color: #434B5C;\n",
              "      box-shadow: 0px 1px 3px 1px rgba(0, 0, 0, 0.15);\n",
              "      filter: drop-shadow(0px 1px 2px rgba(0, 0, 0, 0.3));\n",
              "      fill: #FFFFFF;\n",
              "    }\n",
              "  </style>\n",
              "\n",
              "      <script>\n",
              "        const buttonEl =\n",
              "          document.querySelector('#df-614a9832-7188-4eb7-b33d-6e11912fbf33 button.colab-df-convert');\n",
              "        buttonEl.style.display =\n",
              "          google.colab.kernel.accessAllowed ? 'block' : 'none';\n",
              "\n",
              "        async function convertToInteractive(key) {\n",
              "          const element = document.querySelector('#df-614a9832-7188-4eb7-b33d-6e11912fbf33');\n",
              "          const dataTable =\n",
              "            await google.colab.kernel.invokeFunction('convertToInteractive',\n",
              "                                                     [key], {});\n",
              "          if (!dataTable) return;\n",
              "\n",
              "          const docLinkHtml = 'Like what you see? Visit the ' +\n",
              "            '<a target=\"_blank\" href=https://colab.research.google.com/notebooks/data_table.ipynb>data table notebook</a>'\n",
              "            + ' to learn more about interactive tables.';\n",
              "          element.innerHTML = '';\n",
              "          dataTable['output_type'] = 'display_data';\n",
              "          await google.colab.output.renderOutput(dataTable, element);\n",
              "          const docLink = document.createElement('div');\n",
              "          docLink.innerHTML = docLinkHtml;\n",
              "          element.appendChild(docLink);\n",
              "        }\n",
              "      </script>\n",
              "    </div>\n",
              "  </div>\n",
              "  "
            ]
          },
          "metadata": {},
          "execution_count": 34
        }
      ],
      "source": [
        "dataset.head()"
      ]
    },
    {
      "cell_type": "markdown",
      "id": "9f824652",
      "metadata": {
        "papermill": {
          "duration": 0.170888,
          "end_time": "2021-08-24T16:02:05.240710",
          "exception": false,
          "start_time": "2021-08-24T16:02:05.069822",
          "status": "completed"
        },
        "tags": [],
        "id": "9f824652"
      },
      "source": [
        "#  Models Building"
      ]
    },
    {
      "cell_type": "code",
      "execution_count": 35,
      "id": "ff659d4a",
      "metadata": {
        "execution": {
          "iopub.execute_input": "2021-08-24T16:02:05.606377Z",
          "iopub.status.busy": "2021-08-24T16:02:05.605572Z",
          "iopub.status.idle": "2021-08-24T16:02:05.661009Z",
          "shell.execute_reply": "2021-08-24T16:02:05.660362Z",
          "shell.execute_reply.started": "2021-08-24T13:46:27.707702Z"
        },
        "papermill": {
          "duration": 0.245763,
          "end_time": "2021-08-24T16:02:05.661189",
          "exception": false,
          "start_time": "2021-08-24T16:02:05.415426",
          "status": "completed"
        },
        "tags": [],
        "id": "ff659d4a"
      },
      "outputs": [],
      "source": [
        "from sklearn.metrics import accuracy_score, confusion_matrix, classification_report\n",
        "\n",
        "def print_score(clf, X_train, y_train, X_test, y_test, train=True):\n",
        "    if train:\n",
        "        pred = clf.predict(X_train)\n",
        "        clf_report = pd.DataFrame(classification_report(y_train, pred, output_dict=True))\n",
        "        print(\"Train Result:\\n================================================\")\n",
        "        print(f\"Accuracy Score: {accuracy_score(y_train, pred) * 100:.2f}%\")\n",
        "        print(\"_______________________________________________\")\n",
        "        print(f\"CLASSIFICATION REPORT:\\n{clf_report}\")\n",
        "        print(\"_______________________________________________\")\n",
        "        print(f\"Confusion Matrix: \\n {confusion_matrix(y_train, pred)}\\n\")\n",
        "        \n",
        "    elif train==False:\n",
        "        pred = clf.predict(X_test)\n",
        "        clf_report = pd.DataFrame(classification_report(y_test, pred, output_dict=True))\n",
        "        print(\"Test Result:\\n================================================\")        \n",
        "        print(f\"Accuracy Score: {accuracy_score(y_test, pred) * 100:.2f}%\")\n",
        "        print(\"_______________________________________________\")\n",
        "        print(f\"CLASSIFICATION REPORT:\\n{clf_report}\")\n",
        "        print(\"_______________________________________________\")\n",
        "        print(f\"Confusion Matrix: \\n {confusion_matrix(y_test, pred)}\\n\")"
      ]
    },
    {
      "cell_type": "code",
      "execution_count": 36,
      "id": "fe24fb1a",
      "metadata": {
        "execution": {
          "iopub.execute_input": "2021-08-24T16:02:06.024587Z",
          "iopub.status.busy": "2021-08-24T16:02:06.023852Z",
          "iopub.status.idle": "2021-08-24T16:02:06.048336Z",
          "shell.execute_reply": "2021-08-24T16:02:06.047505Z",
          "shell.execute_reply.started": "2021-08-24T13:46:27.749998Z"
        },
        "papermill": {
          "duration": 0.208707,
          "end_time": "2021-08-24T16:02:06.048516",
          "exception": false,
          "start_time": "2021-08-24T16:02:05.839809",
          "status": "completed"
        },
        "tags": [],
        "id": "fe24fb1a"
      },
      "outputs": [],
      "source": [
        "from sklearn.model_selection import train_test_split\n",
        "\n",
        "X = dataset.drop('target', axis=1)\n",
        "y = dataset.target\n",
        "\n",
        "X_train, X_test, y_train, y_test = train_test_split(X, y, test_size=0.3, random_state=42)"
      ]
    },
    {
      "cell_type": "markdown",
      "id": "f606382d",
      "metadata": {
        "papermill": {
          "duration": 0.177741,
          "end_time": "2021-08-24T16:02:06.406666",
          "exception": false,
          "start_time": "2021-08-24T16:02:06.228925",
          "status": "completed"
        },
        "tags": [],
        "id": "f606382d"
      },
      "source": [
        "\n",
        "\n",
        "\n",
        "We're going to try 5 different machine learning models:\n",
        "> 1. Logistic Regression \n",
        "> 2. K-Nearest Neighbours Classifier\n",
        "> 3. Support Vector machine\n",
        "> 4. Decision Tree Classifier\n",
        "> 5. Random Forest Classifier\n"
      ]
    },
    {
      "cell_type": "markdown",
      "id": "91cde66b",
      "metadata": {
        "papermill": {
          "duration": 0.1786,
          "end_time": "2021-08-24T16:02:06.768468",
          "exception": false,
          "start_time": "2021-08-24T16:02:06.589868",
          "status": "completed"
        },
        "tags": [],
        "id": "91cde66b"
      },
      "source": [
        "## 1. Logistic Regression"
      ]
    },
    {
      "cell_type": "code",
      "execution_count": 37,
      "id": "77b6e95d",
      "metadata": {
        "execution": {
          "iopub.execute_input": "2021-08-24T16:02:07.137718Z",
          "iopub.status.busy": "2021-08-24T16:02:07.136931Z",
          "iopub.status.idle": "2021-08-24T16:02:07.399074Z",
          "shell.execute_reply": "2021-08-24T16:02:07.398346Z",
          "shell.execute_reply.started": "2021-08-24T13:46:27.775115Z"
        },
        "papermill": {
          "duration": 0.448955,
          "end_time": "2021-08-24T16:02:07.399289",
          "exception": false,
          "start_time": "2021-08-24T16:02:06.950334",
          "status": "completed"
        },
        "tags": [],
        "id": "77b6e95d",
        "outputId": "0b22d89b-a6a3-460a-b2c3-a925628c0f62",
        "colab": {
          "base_uri": "https://localhost:8080/"
        }
      },
      "outputs": [
        {
          "output_type": "stream",
          "name": "stdout",
          "text": [
            "Train Result:\n",
            "================================================\n",
            "Accuracy Score: 89.54%\n",
            "_______________________________________________\n",
            "CLASSIFICATION REPORT:\n",
            "               0      1  accuracy  macro avg  weighted avg\n",
            "precision   0.91   0.89      0.90       0.90          0.90\n",
            "recall      0.87   0.92      0.90       0.89          0.90\n",
            "f1-score    0.89   0.90      0.90       0.89          0.90\n",
            "support   340.00 377.00      0.90     717.00        717.00\n",
            "_______________________________________________\n",
            "Confusion Matrix: \n",
            " [[295  45]\n",
            " [ 30 347]]\n",
            "\n",
            "Test Result:\n",
            "================================================\n",
            "Accuracy Score: 81.82%\n",
            "_______________________________________________\n",
            "CLASSIFICATION REPORT:\n",
            "               0      1  accuracy  macro avg  weighted avg\n",
            "precision   0.85   0.79      0.82       0.82          0.82\n",
            "recall      0.79   0.85      0.82       0.82          0.82\n",
            "f1-score    0.82   0.82      0.82       0.82          0.82\n",
            "support   159.00 149.00      0.82     308.00        308.00\n",
            "_______________________________________________\n",
            "Confusion Matrix: \n",
            " [[125  34]\n",
            " [ 22 127]]\n",
            "\n"
          ]
        }
      ],
      "source": [
        "from sklearn.linear_model import LogisticRegression\n",
        "\n",
        "lr_clf = LogisticRegression(solver='liblinear')\n",
        "lr_clf.fit(X_train, y_train)\n",
        "\n",
        "print_score(lr_clf, X_train, y_train, X_test, y_test, train=True)\n",
        "print_score(lr_clf, X_train, y_train, X_test, y_test, train=False)"
      ]
    },
    {
      "cell_type": "code",
      "execution_count": 38,
      "id": "3144006c",
      "metadata": {
        "execution": {
          "iopub.execute_input": "2021-08-24T16:02:07.780588Z",
          "iopub.status.busy": "2021-08-24T16:02:07.779553Z",
          "iopub.status.idle": "2021-08-24T16:02:07.784334Z",
          "shell.execute_reply": "2021-08-24T16:02:07.783669Z",
          "shell.execute_reply.started": "2021-08-24T13:46:28.259230Z"
        },
        "papermill": {
          "duration": 0.202577,
          "end_time": "2021-08-24T16:02:07.784488",
          "exception": false,
          "start_time": "2021-08-24T16:02:07.581911",
          "status": "completed"
        },
        "tags": [],
        "id": "3144006c",
        "outputId": "7ca4570d-a158-457b-e4bd-adc8cdcc112a",
        "colab": {
          "base_uri": "https://localhost:8080/",
          "height": 81
        }
      },
      "outputs": [
        {
          "output_type": "execute_result",
          "data": {
            "text/plain": [
              "                 Model  Training Accuracy %  Testing Accuracy %\n",
              "0  Logistic Regression                89.54               81.82"
            ],
            "text/html": [
              "\n",
              "  <div id=\"df-946ff0d9-c17d-4cd8-99eb-4211997e1faf\">\n",
              "    <div class=\"colab-df-container\">\n",
              "      <div>\n",
              "<style scoped>\n",
              "    .dataframe tbody tr th:only-of-type {\n",
              "        vertical-align: middle;\n",
              "    }\n",
              "\n",
              "    .dataframe tbody tr th {\n",
              "        vertical-align: top;\n",
              "    }\n",
              "\n",
              "    .dataframe thead th {\n",
              "        text-align: right;\n",
              "    }\n",
              "</style>\n",
              "<table border=\"1\" class=\"dataframe\">\n",
              "  <thead>\n",
              "    <tr style=\"text-align: right;\">\n",
              "      <th></th>\n",
              "      <th>Model</th>\n",
              "      <th>Training Accuracy %</th>\n",
              "      <th>Testing Accuracy %</th>\n",
              "    </tr>\n",
              "  </thead>\n",
              "  <tbody>\n",
              "    <tr>\n",
              "      <th>0</th>\n",
              "      <td>Logistic Regression</td>\n",
              "      <td>89.54</td>\n",
              "      <td>81.82</td>\n",
              "    </tr>\n",
              "  </tbody>\n",
              "</table>\n",
              "</div>\n",
              "      <button class=\"colab-df-convert\" onclick=\"convertToInteractive('df-946ff0d9-c17d-4cd8-99eb-4211997e1faf')\"\n",
              "              title=\"Convert this dataframe to an interactive table.\"\n",
              "              style=\"display:none;\">\n",
              "        \n",
              "  <svg xmlns=\"http://www.w3.org/2000/svg\" height=\"24px\"viewBox=\"0 0 24 24\"\n",
              "       width=\"24px\">\n",
              "    <path d=\"M0 0h24v24H0V0z\" fill=\"none\"/>\n",
              "    <path d=\"M18.56 5.44l.94 2.06.94-2.06 2.06-.94-2.06-.94-.94-2.06-.94 2.06-2.06.94zm-11 1L8.5 8.5l.94-2.06 2.06-.94-2.06-.94L8.5 2.5l-.94 2.06-2.06.94zm10 10l.94 2.06.94-2.06 2.06-.94-2.06-.94-.94-2.06-.94 2.06-2.06.94z\"/><path d=\"M17.41 7.96l-1.37-1.37c-.4-.4-.92-.59-1.43-.59-.52 0-1.04.2-1.43.59L10.3 9.45l-7.72 7.72c-.78.78-.78 2.05 0 2.83L4 21.41c.39.39.9.59 1.41.59.51 0 1.02-.2 1.41-.59l7.78-7.78 2.81-2.81c.8-.78.8-2.07 0-2.86zM5.41 20L4 18.59l7.72-7.72 1.47 1.35L5.41 20z\"/>\n",
              "  </svg>\n",
              "      </button>\n",
              "      \n",
              "  <style>\n",
              "    .colab-df-container {\n",
              "      display:flex;\n",
              "      flex-wrap:wrap;\n",
              "      gap: 12px;\n",
              "    }\n",
              "\n",
              "    .colab-df-convert {\n",
              "      background-color: #E8F0FE;\n",
              "      border: none;\n",
              "      border-radius: 50%;\n",
              "      cursor: pointer;\n",
              "      display: none;\n",
              "      fill: #1967D2;\n",
              "      height: 32px;\n",
              "      padding: 0 0 0 0;\n",
              "      width: 32px;\n",
              "    }\n",
              "\n",
              "    .colab-df-convert:hover {\n",
              "      background-color: #E2EBFA;\n",
              "      box-shadow: 0px 1px 2px rgba(60, 64, 67, 0.3), 0px 1px 3px 1px rgba(60, 64, 67, 0.15);\n",
              "      fill: #174EA6;\n",
              "    }\n",
              "\n",
              "    [theme=dark] .colab-df-convert {\n",
              "      background-color: #3B4455;\n",
              "      fill: #D2E3FC;\n",
              "    }\n",
              "\n",
              "    [theme=dark] .colab-df-convert:hover {\n",
              "      background-color: #434B5C;\n",
              "      box-shadow: 0px 1px 3px 1px rgba(0, 0, 0, 0.15);\n",
              "      filter: drop-shadow(0px 1px 2px rgba(0, 0, 0, 0.3));\n",
              "      fill: #FFFFFF;\n",
              "    }\n",
              "  </style>\n",
              "\n",
              "      <script>\n",
              "        const buttonEl =\n",
              "          document.querySelector('#df-946ff0d9-c17d-4cd8-99eb-4211997e1faf button.colab-df-convert');\n",
              "        buttonEl.style.display =\n",
              "          google.colab.kernel.accessAllowed ? 'block' : 'none';\n",
              "\n",
              "        async function convertToInteractive(key) {\n",
              "          const element = document.querySelector('#df-946ff0d9-c17d-4cd8-99eb-4211997e1faf');\n",
              "          const dataTable =\n",
              "            await google.colab.kernel.invokeFunction('convertToInteractive',\n",
              "                                                     [key], {});\n",
              "          if (!dataTable) return;\n",
              "\n",
              "          const docLinkHtml = 'Like what you see? Visit the ' +\n",
              "            '<a target=\"_blank\" href=https://colab.research.google.com/notebooks/data_table.ipynb>data table notebook</a>'\n",
              "            + ' to learn more about interactive tables.';\n",
              "          element.innerHTML = '';\n",
              "          dataTable['output_type'] = 'display_data';\n",
              "          await google.colab.output.renderOutput(dataTable, element);\n",
              "          const docLink = document.createElement('div');\n",
              "          docLink.innerHTML = docLinkHtml;\n",
              "          element.appendChild(docLink);\n",
              "        }\n",
              "      </script>\n",
              "    </div>\n",
              "  </div>\n",
              "  "
            ]
          },
          "metadata": {},
          "execution_count": 38
        }
      ],
      "source": [
        "test_score = accuracy_score(y_test, lr_clf.predict(X_test)) * 100\n",
        "train_score = accuracy_score(y_train, lr_clf.predict(X_train)) * 100\n",
        "\n",
        "results_df = pd.DataFrame(data=[[\"Logistic Regression\", train_score, test_score]], \n",
        "                          columns=['Model', 'Training Accuracy %', 'Testing Accuracy %'])\n",
        "results_df"
      ]
    },
    {
      "cell_type": "markdown",
      "id": "f72a7394",
      "metadata": {
        "papermill": {
          "duration": 0.169089,
          "end_time": "2021-08-24T16:02:08.125006",
          "exception": false,
          "start_time": "2021-08-24T16:02:07.955917",
          "status": "completed"
        },
        "tags": [],
        "id": "f72a7394"
      },
      "source": [
        "## 2. K-nearest neighbors"
      ]
    },
    {
      "cell_type": "code",
      "execution_count": 39,
      "id": "e43e7f0d",
      "metadata": {
        "execution": {
          "iopub.execute_input": "2021-08-24T16:02:08.480267Z",
          "iopub.status.busy": "2021-08-24T16:02:08.479419Z",
          "iopub.status.idle": "2021-08-24T16:02:08.610460Z",
          "shell.execute_reply": "2021-08-24T16:02:08.611014Z",
          "shell.execute_reply.started": "2021-08-24T13:46:28.275764Z"
        },
        "papermill": {
          "duration": 0.310929,
          "end_time": "2021-08-24T16:02:08.611205",
          "exception": false,
          "start_time": "2021-08-24T16:02:08.300276",
          "status": "completed"
        },
        "tags": [],
        "id": "e43e7f0d",
        "outputId": "14732a02-c9fc-40ec-98c7-38efe5194a36",
        "colab": {
          "base_uri": "https://localhost:8080/"
        }
      },
      "outputs": [
        {
          "output_type": "stream",
          "name": "stdout",
          "text": [
            "Train Result:\n",
            "================================================\n",
            "Accuracy Score: 91.77%\n",
            "_______________________________________________\n",
            "CLASSIFICATION REPORT:\n",
            "               0      1  accuracy  macro avg  weighted avg\n",
            "precision   0.91   0.92      0.92       0.92          0.92\n",
            "recall      0.91   0.92      0.92       0.92          0.92\n",
            "f1-score    0.91   0.92      0.92       0.92          0.92\n",
            "support   340.00 377.00      0.92     717.00        717.00\n",
            "_______________________________________________\n",
            "Confusion Matrix: \n",
            " [[310  30]\n",
            " [ 29 348]]\n",
            "\n",
            "Test Result:\n",
            "================================================\n",
            "Accuracy Score: 81.82%\n",
            "_______________________________________________\n",
            "CLASSIFICATION REPORT:\n",
            "               0      1  accuracy  macro avg  weighted avg\n",
            "precision   0.86   0.78      0.82       0.82          0.82\n",
            "recall      0.77   0.87      0.82       0.82          0.82\n",
            "f1-score    0.81   0.82      0.82       0.82          0.82\n",
            "support   159.00 149.00      0.82     308.00        308.00\n",
            "_______________________________________________\n",
            "Confusion Matrix: \n",
            " [[123  36]\n",
            " [ 20 129]]\n",
            "\n"
          ]
        }
      ],
      "source": [
        "from sklearn.neighbors import KNeighborsClassifier\n",
        "\n",
        "knn_clf = KNeighborsClassifier()\n",
        "knn_clf.fit(X_train, y_train)\n",
        "\n",
        "print_score(knn_clf, X_train, y_train, X_test, y_test, train=True)\n",
        "print_score(knn_clf, X_train, y_train, X_test, y_test, train=False)"
      ]
    },
    {
      "cell_type": "code",
      "execution_count": 40,
      "id": "cc87b6ea",
      "metadata": {
        "execution": {
          "iopub.execute_input": "2021-08-24T16:02:08.964840Z",
          "iopub.status.busy": "2021-08-24T16:02:08.963727Z",
          "iopub.status.idle": "2021-08-24T16:02:08.998194Z",
          "shell.execute_reply": "2021-08-24T16:02:08.997604Z",
          "shell.execute_reply.started": "2021-08-24T13:46:28.384111Z"
        },
        "papermill": {
          "duration": 0.21341,
          "end_time": "2021-08-24T16:02:08.998374",
          "exception": false,
          "start_time": "2021-08-24T16:02:08.784964",
          "status": "completed"
        },
        "tags": [],
        "id": "cc87b6ea",
        "outputId": "ee8a698d-2473-42f2-b6e9-4a2579ef1c79",
        "colab": {
          "base_uri": "https://localhost:8080/",
          "height": 112
        }
      },
      "outputs": [
        {
          "output_type": "execute_result",
          "data": {
            "text/plain": [
              "                 Model  Training Accuracy %  Testing Accuracy %\n",
              "0  Logistic Regression                89.54               81.82\n",
              "1  K-nearest neighbors                91.77               81.82"
            ],
            "text/html": [
              "\n",
              "  <div id=\"df-6126989d-3625-42f2-b139-1b42438a763d\">\n",
              "    <div class=\"colab-df-container\">\n",
              "      <div>\n",
              "<style scoped>\n",
              "    .dataframe tbody tr th:only-of-type {\n",
              "        vertical-align: middle;\n",
              "    }\n",
              "\n",
              "    .dataframe tbody tr th {\n",
              "        vertical-align: top;\n",
              "    }\n",
              "\n",
              "    .dataframe thead th {\n",
              "        text-align: right;\n",
              "    }\n",
              "</style>\n",
              "<table border=\"1\" class=\"dataframe\">\n",
              "  <thead>\n",
              "    <tr style=\"text-align: right;\">\n",
              "      <th></th>\n",
              "      <th>Model</th>\n",
              "      <th>Training Accuracy %</th>\n",
              "      <th>Testing Accuracy %</th>\n",
              "    </tr>\n",
              "  </thead>\n",
              "  <tbody>\n",
              "    <tr>\n",
              "      <th>0</th>\n",
              "      <td>Logistic Regression</td>\n",
              "      <td>89.54</td>\n",
              "      <td>81.82</td>\n",
              "    </tr>\n",
              "    <tr>\n",
              "      <th>1</th>\n",
              "      <td>K-nearest neighbors</td>\n",
              "      <td>91.77</td>\n",
              "      <td>81.82</td>\n",
              "    </tr>\n",
              "  </tbody>\n",
              "</table>\n",
              "</div>\n",
              "      <button class=\"colab-df-convert\" onclick=\"convertToInteractive('df-6126989d-3625-42f2-b139-1b42438a763d')\"\n",
              "              title=\"Convert this dataframe to an interactive table.\"\n",
              "              style=\"display:none;\">\n",
              "        \n",
              "  <svg xmlns=\"http://www.w3.org/2000/svg\" height=\"24px\"viewBox=\"0 0 24 24\"\n",
              "       width=\"24px\">\n",
              "    <path d=\"M0 0h24v24H0V0z\" fill=\"none\"/>\n",
              "    <path d=\"M18.56 5.44l.94 2.06.94-2.06 2.06-.94-2.06-.94-.94-2.06-.94 2.06-2.06.94zm-11 1L8.5 8.5l.94-2.06 2.06-.94-2.06-.94L8.5 2.5l-.94 2.06-2.06.94zm10 10l.94 2.06.94-2.06 2.06-.94-2.06-.94-.94-2.06-.94 2.06-2.06.94z\"/><path d=\"M17.41 7.96l-1.37-1.37c-.4-.4-.92-.59-1.43-.59-.52 0-1.04.2-1.43.59L10.3 9.45l-7.72 7.72c-.78.78-.78 2.05 0 2.83L4 21.41c.39.39.9.59 1.41.59.51 0 1.02-.2 1.41-.59l7.78-7.78 2.81-2.81c.8-.78.8-2.07 0-2.86zM5.41 20L4 18.59l7.72-7.72 1.47 1.35L5.41 20z\"/>\n",
              "  </svg>\n",
              "      </button>\n",
              "      \n",
              "  <style>\n",
              "    .colab-df-container {\n",
              "      display:flex;\n",
              "      flex-wrap:wrap;\n",
              "      gap: 12px;\n",
              "    }\n",
              "\n",
              "    .colab-df-convert {\n",
              "      background-color: #E8F0FE;\n",
              "      border: none;\n",
              "      border-radius: 50%;\n",
              "      cursor: pointer;\n",
              "      display: none;\n",
              "      fill: #1967D2;\n",
              "      height: 32px;\n",
              "      padding: 0 0 0 0;\n",
              "      width: 32px;\n",
              "    }\n",
              "\n",
              "    .colab-df-convert:hover {\n",
              "      background-color: #E2EBFA;\n",
              "      box-shadow: 0px 1px 2px rgba(60, 64, 67, 0.3), 0px 1px 3px 1px rgba(60, 64, 67, 0.15);\n",
              "      fill: #174EA6;\n",
              "    }\n",
              "\n",
              "    [theme=dark] .colab-df-convert {\n",
              "      background-color: #3B4455;\n",
              "      fill: #D2E3FC;\n",
              "    }\n",
              "\n",
              "    [theme=dark] .colab-df-convert:hover {\n",
              "      background-color: #434B5C;\n",
              "      box-shadow: 0px 1px 3px 1px rgba(0, 0, 0, 0.15);\n",
              "      filter: drop-shadow(0px 1px 2px rgba(0, 0, 0, 0.3));\n",
              "      fill: #FFFFFF;\n",
              "    }\n",
              "  </style>\n",
              "\n",
              "      <script>\n",
              "        const buttonEl =\n",
              "          document.querySelector('#df-6126989d-3625-42f2-b139-1b42438a763d button.colab-df-convert');\n",
              "        buttonEl.style.display =\n",
              "          google.colab.kernel.accessAllowed ? 'block' : 'none';\n",
              "\n",
              "        async function convertToInteractive(key) {\n",
              "          const element = document.querySelector('#df-6126989d-3625-42f2-b139-1b42438a763d');\n",
              "          const dataTable =\n",
              "            await google.colab.kernel.invokeFunction('convertToInteractive',\n",
              "                                                     [key], {});\n",
              "          if (!dataTable) return;\n",
              "\n",
              "          const docLinkHtml = 'Like what you see? Visit the ' +\n",
              "            '<a target=\"_blank\" href=https://colab.research.google.com/notebooks/data_table.ipynb>data table notebook</a>'\n",
              "            + ' to learn more about interactive tables.';\n",
              "          element.innerHTML = '';\n",
              "          dataTable['output_type'] = 'display_data';\n",
              "          await google.colab.output.renderOutput(dataTable, element);\n",
              "          const docLink = document.createElement('div');\n",
              "          docLink.innerHTML = docLinkHtml;\n",
              "          element.appendChild(docLink);\n",
              "        }\n",
              "      </script>\n",
              "    </div>\n",
              "  </div>\n",
              "  "
            ]
          },
          "metadata": {},
          "execution_count": 40
        }
      ],
      "source": [
        "test_score = accuracy_score(y_test, knn_clf.predict(X_test)) * 100\n",
        "train_score = accuracy_score(y_train, knn_clf.predict(X_train)) * 100\n",
        "\n",
        "results_df_2 = pd.DataFrame(data=[[\"K-nearest neighbors\", train_score, test_score]], \n",
        "                          columns=['Model', 'Training Accuracy %', 'Testing Accuracy %'])\n",
        "results_df = results_df.append(results_df_2, ignore_index=True)\n",
        "results_df"
      ]
    },
    {
      "cell_type": "markdown",
      "id": "8b451c60",
      "metadata": {
        "papermill": {
          "duration": 0.173561,
          "end_time": "2021-08-24T16:02:09.346576",
          "exception": false,
          "start_time": "2021-08-24T16:02:09.173015",
          "status": "completed"
        },
        "tags": [],
        "id": "8b451c60"
      },
      "source": [
        "## 3. Support Vector machine"
      ]
    },
    {
      "cell_type": "code",
      "execution_count": 41,
      "id": "bf57a1c7",
      "metadata": {
        "execution": {
          "iopub.execute_input": "2021-08-24T16:02:09.713168Z",
          "iopub.status.busy": "2021-08-24T16:02:09.712394Z",
          "iopub.status.idle": "2021-08-24T16:02:09.750407Z",
          "shell.execute_reply": "2021-08-24T16:02:09.750936Z",
          "shell.execute_reply.started": "2021-08-24T13:46:28.419520Z"
        },
        "papermill": {
          "duration": 0.231153,
          "end_time": "2021-08-24T16:02:09.751168",
          "exception": false,
          "start_time": "2021-08-24T16:02:09.520015",
          "status": "completed"
        },
        "tags": [],
        "id": "bf57a1c7",
        "outputId": "3bef807a-00d7-4497-dcc1-73f6428fe37e",
        "colab": {
          "base_uri": "https://localhost:8080/"
        }
      },
      "outputs": [
        {
          "output_type": "stream",
          "name": "stdout",
          "text": [
            "Train Result:\n",
            "================================================\n",
            "Accuracy Score: 95.40%\n",
            "_______________________________________________\n",
            "CLASSIFICATION REPORT:\n",
            "               0      1  accuracy  macro avg  weighted avg\n",
            "precision   0.97   0.94      0.95       0.96          0.95\n",
            "recall      0.93   0.97      0.95       0.95          0.95\n",
            "f1-score    0.95   0.96      0.95       0.95          0.95\n",
            "support   340.00 377.00      0.95     717.00        717.00\n",
            "_______________________________________________\n",
            "Confusion Matrix: \n",
            " [[317  23]\n",
            " [ 10 367]]\n",
            "\n",
            "Test Result:\n",
            "================================================\n",
            "Accuracy Score: 90.26%\n",
            "_______________________________________________\n",
            "CLASSIFICATION REPORT:\n",
            "               0      1  accuracy  macro avg  weighted avg\n",
            "precision   0.94   0.87      0.90       0.90          0.91\n",
            "recall      0.86   0.95      0.90       0.90          0.90\n",
            "f1-score    0.90   0.90      0.90       0.90          0.90\n",
            "support   159.00 149.00      0.90     308.00        308.00\n",
            "_______________________________________________\n",
            "Confusion Matrix: \n",
            " [[137  22]\n",
            " [  8 141]]\n",
            "\n"
          ]
        }
      ],
      "source": [
        "from sklearn.svm import SVC\n",
        "\n",
        "\n",
        "svm_clf = SVC(kernel='rbf', gamma=0.1, C=1.0)\n",
        "svm_clf.fit(X_train, y_train)\n",
        "\n",
        "print_score(svm_clf, X_train, y_train, X_test, y_test, train=True)\n",
        "print_score(svm_clf, X_train, y_train, X_test, y_test, train=False)"
      ]
    },
    {
      "cell_type": "code",
      "execution_count": 42,
      "id": "4bb6eb09",
      "metadata": {
        "execution": {
          "iopub.execute_input": "2021-08-24T16:02:10.263024Z",
          "iopub.status.busy": "2021-08-24T16:02:10.261824Z",
          "iopub.status.idle": "2021-08-24T16:02:10.282141Z",
          "shell.execute_reply": "2021-08-24T16:02:10.281361Z",
          "shell.execute_reply.started": "2021-08-24T13:46:28.458900Z"
        },
        "papermill": {
          "duration": 0.344374,
          "end_time": "2021-08-24T16:02:10.282362",
          "exception": false,
          "start_time": "2021-08-24T16:02:09.937988",
          "status": "completed"
        },
        "tags": [],
        "id": "4bb6eb09",
        "outputId": "5e60551a-458d-4681-d375-0593a293838f",
        "colab": {
          "base_uri": "https://localhost:8080/",
          "height": 143
        }
      },
      "outputs": [
        {
          "output_type": "execute_result",
          "data": {
            "text/plain": [
              "                    Model  Training Accuracy %  Testing Accuracy %\n",
              "0     Logistic Regression                89.54               81.82\n",
              "1     K-nearest neighbors                91.77               81.82\n",
              "2  Support Vector Machine                95.40               90.26"
            ],
            "text/html": [
              "\n",
              "  <div id=\"df-03406961-d58b-4cd8-a54c-b0a9f9951705\">\n",
              "    <div class=\"colab-df-container\">\n",
              "      <div>\n",
              "<style scoped>\n",
              "    .dataframe tbody tr th:only-of-type {\n",
              "        vertical-align: middle;\n",
              "    }\n",
              "\n",
              "    .dataframe tbody tr th {\n",
              "        vertical-align: top;\n",
              "    }\n",
              "\n",
              "    .dataframe thead th {\n",
              "        text-align: right;\n",
              "    }\n",
              "</style>\n",
              "<table border=\"1\" class=\"dataframe\">\n",
              "  <thead>\n",
              "    <tr style=\"text-align: right;\">\n",
              "      <th></th>\n",
              "      <th>Model</th>\n",
              "      <th>Training Accuracy %</th>\n",
              "      <th>Testing Accuracy %</th>\n",
              "    </tr>\n",
              "  </thead>\n",
              "  <tbody>\n",
              "    <tr>\n",
              "      <th>0</th>\n",
              "      <td>Logistic Regression</td>\n",
              "      <td>89.54</td>\n",
              "      <td>81.82</td>\n",
              "    </tr>\n",
              "    <tr>\n",
              "      <th>1</th>\n",
              "      <td>K-nearest neighbors</td>\n",
              "      <td>91.77</td>\n",
              "      <td>81.82</td>\n",
              "    </tr>\n",
              "    <tr>\n",
              "      <th>2</th>\n",
              "      <td>Support Vector Machine</td>\n",
              "      <td>95.40</td>\n",
              "      <td>90.26</td>\n",
              "    </tr>\n",
              "  </tbody>\n",
              "</table>\n",
              "</div>\n",
              "      <button class=\"colab-df-convert\" onclick=\"convertToInteractive('df-03406961-d58b-4cd8-a54c-b0a9f9951705')\"\n",
              "              title=\"Convert this dataframe to an interactive table.\"\n",
              "              style=\"display:none;\">\n",
              "        \n",
              "  <svg xmlns=\"http://www.w3.org/2000/svg\" height=\"24px\"viewBox=\"0 0 24 24\"\n",
              "       width=\"24px\">\n",
              "    <path d=\"M0 0h24v24H0V0z\" fill=\"none\"/>\n",
              "    <path d=\"M18.56 5.44l.94 2.06.94-2.06 2.06-.94-2.06-.94-.94-2.06-.94 2.06-2.06.94zm-11 1L8.5 8.5l.94-2.06 2.06-.94-2.06-.94L8.5 2.5l-.94 2.06-2.06.94zm10 10l.94 2.06.94-2.06 2.06-.94-2.06-.94-.94-2.06-.94 2.06-2.06.94z\"/><path d=\"M17.41 7.96l-1.37-1.37c-.4-.4-.92-.59-1.43-.59-.52 0-1.04.2-1.43.59L10.3 9.45l-7.72 7.72c-.78.78-.78 2.05 0 2.83L4 21.41c.39.39.9.59 1.41.59.51 0 1.02-.2 1.41-.59l7.78-7.78 2.81-2.81c.8-.78.8-2.07 0-2.86zM5.41 20L4 18.59l7.72-7.72 1.47 1.35L5.41 20z\"/>\n",
              "  </svg>\n",
              "      </button>\n",
              "      \n",
              "  <style>\n",
              "    .colab-df-container {\n",
              "      display:flex;\n",
              "      flex-wrap:wrap;\n",
              "      gap: 12px;\n",
              "    }\n",
              "\n",
              "    .colab-df-convert {\n",
              "      background-color: #E8F0FE;\n",
              "      border: none;\n",
              "      border-radius: 50%;\n",
              "      cursor: pointer;\n",
              "      display: none;\n",
              "      fill: #1967D2;\n",
              "      height: 32px;\n",
              "      padding: 0 0 0 0;\n",
              "      width: 32px;\n",
              "    }\n",
              "\n",
              "    .colab-df-convert:hover {\n",
              "      background-color: #E2EBFA;\n",
              "      box-shadow: 0px 1px 2px rgba(60, 64, 67, 0.3), 0px 1px 3px 1px rgba(60, 64, 67, 0.15);\n",
              "      fill: #174EA6;\n",
              "    }\n",
              "\n",
              "    [theme=dark] .colab-df-convert {\n",
              "      background-color: #3B4455;\n",
              "      fill: #D2E3FC;\n",
              "    }\n",
              "\n",
              "    [theme=dark] .colab-df-convert:hover {\n",
              "      background-color: #434B5C;\n",
              "      box-shadow: 0px 1px 3px 1px rgba(0, 0, 0, 0.15);\n",
              "      filter: drop-shadow(0px 1px 2px rgba(0, 0, 0, 0.3));\n",
              "      fill: #FFFFFF;\n",
              "    }\n",
              "  </style>\n",
              "\n",
              "      <script>\n",
              "        const buttonEl =\n",
              "          document.querySelector('#df-03406961-d58b-4cd8-a54c-b0a9f9951705 button.colab-df-convert');\n",
              "        buttonEl.style.display =\n",
              "          google.colab.kernel.accessAllowed ? 'block' : 'none';\n",
              "\n",
              "        async function convertToInteractive(key) {\n",
              "          const element = document.querySelector('#df-03406961-d58b-4cd8-a54c-b0a9f9951705');\n",
              "          const dataTable =\n",
              "            await google.colab.kernel.invokeFunction('convertToInteractive',\n",
              "                                                     [key], {});\n",
              "          if (!dataTable) return;\n",
              "\n",
              "          const docLinkHtml = 'Like what you see? Visit the ' +\n",
              "            '<a target=\"_blank\" href=https://colab.research.google.com/notebooks/data_table.ipynb>data table notebook</a>'\n",
              "            + ' to learn more about interactive tables.';\n",
              "          element.innerHTML = '';\n",
              "          dataTable['output_type'] = 'display_data';\n",
              "          await google.colab.output.renderOutput(dataTable, element);\n",
              "          const docLink = document.createElement('div');\n",
              "          docLink.innerHTML = docLinkHtml;\n",
              "          element.appendChild(docLink);\n",
              "        }\n",
              "      </script>\n",
              "    </div>\n",
              "  </div>\n",
              "  "
            ]
          },
          "metadata": {},
          "execution_count": 42
        }
      ],
      "source": [
        "test_score = accuracy_score(y_test, svm_clf.predict(X_test)) * 100\n",
        "train_score = accuracy_score(y_train, svm_clf.predict(X_train)) * 100\n",
        "\n",
        "results_df_2 = pd.DataFrame(data=[[\"Support Vector Machine\", train_score, test_score]], \n",
        "                          columns=['Model', 'Training Accuracy %', 'Testing Accuracy %'])\n",
        "results_df = results_df.append(results_df_2, ignore_index=True)\n",
        "results_df"
      ]
    },
    {
      "cell_type": "markdown",
      "id": "36b06bfa",
      "metadata": {
        "papermill": {
          "duration": 0.197778,
          "end_time": "2021-08-24T16:02:10.662870",
          "exception": false,
          "start_time": "2021-08-24T16:02:10.465092",
          "status": "completed"
        },
        "tags": [],
        "id": "36b06bfa"
      },
      "source": [
        "## 4. Decision Tree Classifier "
      ]
    },
    {
      "cell_type": "code",
      "execution_count": 43,
      "id": "d6aebc35",
      "metadata": {
        "execution": {
          "iopub.execute_input": "2021-08-24T16:02:11.025928Z",
          "iopub.status.busy": "2021-08-24T16:02:11.025100Z",
          "iopub.status.idle": "2021-08-24T16:02:11.096111Z",
          "shell.execute_reply": "2021-08-24T16:02:11.096671Z",
          "shell.execute_reply.started": "2021-08-24T13:46:28.482065Z"
        },
        "papermill": {
          "duration": 0.253061,
          "end_time": "2021-08-24T16:02:11.096862",
          "exception": false,
          "start_time": "2021-08-24T16:02:10.843801",
          "status": "completed"
        },
        "tags": [],
        "id": "d6aebc35",
        "outputId": "aadef654-ec0c-40b8-e62a-19c053c1d5e8",
        "colab": {
          "base_uri": "https://localhost:8080/"
        }
      },
      "outputs": [
        {
          "output_type": "stream",
          "name": "stdout",
          "text": [
            "Train Result:\n",
            "================================================\n",
            "Accuracy Score: 100.00%\n",
            "_______________________________________________\n",
            "CLASSIFICATION REPORT:\n",
            "               0      1  accuracy  macro avg  weighted avg\n",
            "precision   1.00   1.00      1.00       1.00          1.00\n",
            "recall      1.00   1.00      1.00       1.00          1.00\n",
            "f1-score    1.00   1.00      1.00       1.00          1.00\n",
            "support   340.00 377.00      1.00     717.00        717.00\n",
            "_______________________________________________\n",
            "Confusion Matrix: \n",
            " [[340   0]\n",
            " [  0 377]]\n",
            "\n",
            "Test Result:\n",
            "================================================\n",
            "Accuracy Score: 97.08%\n",
            "_______________________________________________\n",
            "CLASSIFICATION REPORT:\n",
            "               0      1  accuracy  macro avg  weighted avg\n",
            "precision   0.95   1.00      0.97       0.97          0.97\n",
            "recall      1.00   0.94      0.97       0.97          0.97\n",
            "f1-score    0.97   0.97      0.97       0.97          0.97\n",
            "support   159.00 149.00      0.97     308.00        308.00\n",
            "_______________________________________________\n",
            "Confusion Matrix: \n",
            " [[159   0]\n",
            " [  9 140]]\n",
            "\n"
          ]
        }
      ],
      "source": [
        "from sklearn.tree import DecisionTreeClassifier\n",
        "\n",
        "\n",
        "tree_clf = DecisionTreeClassifier(random_state=42)\n",
        "tree_clf.fit(X_train, y_train)\n",
        "\n",
        "print_score(tree_clf, X_train, y_train, X_test, y_test, train=True)\n",
        "print_score(tree_clf, X_train, y_train, X_test, y_test, train=False)"
      ]
    },
    {
      "cell_type": "code",
      "execution_count": 44,
      "id": "cb58ee3f",
      "metadata": {
        "execution": {
          "iopub.execute_input": "2021-08-24T16:02:11.455923Z",
          "iopub.status.busy": "2021-08-24T16:02:11.452435Z",
          "iopub.status.idle": "2021-08-24T16:02:11.470725Z",
          "shell.execute_reply": "2021-08-24T16:02:11.470096Z",
          "shell.execute_reply.started": "2021-08-24T13:46:28.538212Z"
        },
        "papermill": {
          "duration": 0.200876,
          "end_time": "2021-08-24T16:02:11.470889",
          "exception": false,
          "start_time": "2021-08-24T16:02:11.270013",
          "status": "completed"
        },
        "tags": [],
        "id": "cb58ee3f",
        "outputId": "22abb44a-3b7b-4ba7-d59b-7e97393e8877",
        "colab": {
          "base_uri": "https://localhost:8080/",
          "height": 175
        }
      },
      "outputs": [
        {
          "output_type": "execute_result",
          "data": {
            "text/plain": [
              "                      Model  Training Accuracy %  Testing Accuracy %\n",
              "0       Logistic Regression                89.54               81.82\n",
              "1       K-nearest neighbors                91.77               81.82\n",
              "2    Support Vector Machine                95.40               90.26\n",
              "3  Decision Tree Classifier               100.00               97.08"
            ],
            "text/html": [
              "\n",
              "  <div id=\"df-e691fae3-c863-49c5-9a00-d8bd8daa36e6\">\n",
              "    <div class=\"colab-df-container\">\n",
              "      <div>\n",
              "<style scoped>\n",
              "    .dataframe tbody tr th:only-of-type {\n",
              "        vertical-align: middle;\n",
              "    }\n",
              "\n",
              "    .dataframe tbody tr th {\n",
              "        vertical-align: top;\n",
              "    }\n",
              "\n",
              "    .dataframe thead th {\n",
              "        text-align: right;\n",
              "    }\n",
              "</style>\n",
              "<table border=\"1\" class=\"dataframe\">\n",
              "  <thead>\n",
              "    <tr style=\"text-align: right;\">\n",
              "      <th></th>\n",
              "      <th>Model</th>\n",
              "      <th>Training Accuracy %</th>\n",
              "      <th>Testing Accuracy %</th>\n",
              "    </tr>\n",
              "  </thead>\n",
              "  <tbody>\n",
              "    <tr>\n",
              "      <th>0</th>\n",
              "      <td>Logistic Regression</td>\n",
              "      <td>89.54</td>\n",
              "      <td>81.82</td>\n",
              "    </tr>\n",
              "    <tr>\n",
              "      <th>1</th>\n",
              "      <td>K-nearest neighbors</td>\n",
              "      <td>91.77</td>\n",
              "      <td>81.82</td>\n",
              "    </tr>\n",
              "    <tr>\n",
              "      <th>2</th>\n",
              "      <td>Support Vector Machine</td>\n",
              "      <td>95.40</td>\n",
              "      <td>90.26</td>\n",
              "    </tr>\n",
              "    <tr>\n",
              "      <th>3</th>\n",
              "      <td>Decision Tree Classifier</td>\n",
              "      <td>100.00</td>\n",
              "      <td>97.08</td>\n",
              "    </tr>\n",
              "  </tbody>\n",
              "</table>\n",
              "</div>\n",
              "      <button class=\"colab-df-convert\" onclick=\"convertToInteractive('df-e691fae3-c863-49c5-9a00-d8bd8daa36e6')\"\n",
              "              title=\"Convert this dataframe to an interactive table.\"\n",
              "              style=\"display:none;\">\n",
              "        \n",
              "  <svg xmlns=\"http://www.w3.org/2000/svg\" height=\"24px\"viewBox=\"0 0 24 24\"\n",
              "       width=\"24px\">\n",
              "    <path d=\"M0 0h24v24H0V0z\" fill=\"none\"/>\n",
              "    <path d=\"M18.56 5.44l.94 2.06.94-2.06 2.06-.94-2.06-.94-.94-2.06-.94 2.06-2.06.94zm-11 1L8.5 8.5l.94-2.06 2.06-.94-2.06-.94L8.5 2.5l-.94 2.06-2.06.94zm10 10l.94 2.06.94-2.06 2.06-.94-2.06-.94-.94-2.06-.94 2.06-2.06.94z\"/><path d=\"M17.41 7.96l-1.37-1.37c-.4-.4-.92-.59-1.43-.59-.52 0-1.04.2-1.43.59L10.3 9.45l-7.72 7.72c-.78.78-.78 2.05 0 2.83L4 21.41c.39.39.9.59 1.41.59.51 0 1.02-.2 1.41-.59l7.78-7.78 2.81-2.81c.8-.78.8-2.07 0-2.86zM5.41 20L4 18.59l7.72-7.72 1.47 1.35L5.41 20z\"/>\n",
              "  </svg>\n",
              "      </button>\n",
              "      \n",
              "  <style>\n",
              "    .colab-df-container {\n",
              "      display:flex;\n",
              "      flex-wrap:wrap;\n",
              "      gap: 12px;\n",
              "    }\n",
              "\n",
              "    .colab-df-convert {\n",
              "      background-color: #E8F0FE;\n",
              "      border: none;\n",
              "      border-radius: 50%;\n",
              "      cursor: pointer;\n",
              "      display: none;\n",
              "      fill: #1967D2;\n",
              "      height: 32px;\n",
              "      padding: 0 0 0 0;\n",
              "      width: 32px;\n",
              "    }\n",
              "\n",
              "    .colab-df-convert:hover {\n",
              "      background-color: #E2EBFA;\n",
              "      box-shadow: 0px 1px 2px rgba(60, 64, 67, 0.3), 0px 1px 3px 1px rgba(60, 64, 67, 0.15);\n",
              "      fill: #174EA6;\n",
              "    }\n",
              "\n",
              "    [theme=dark] .colab-df-convert {\n",
              "      background-color: #3B4455;\n",
              "      fill: #D2E3FC;\n",
              "    }\n",
              "\n",
              "    [theme=dark] .colab-df-convert:hover {\n",
              "      background-color: #434B5C;\n",
              "      box-shadow: 0px 1px 3px 1px rgba(0, 0, 0, 0.15);\n",
              "      filter: drop-shadow(0px 1px 2px rgba(0, 0, 0, 0.3));\n",
              "      fill: #FFFFFF;\n",
              "    }\n",
              "  </style>\n",
              "\n",
              "      <script>\n",
              "        const buttonEl =\n",
              "          document.querySelector('#df-e691fae3-c863-49c5-9a00-d8bd8daa36e6 button.colab-df-convert');\n",
              "        buttonEl.style.display =\n",
              "          google.colab.kernel.accessAllowed ? 'block' : 'none';\n",
              "\n",
              "        async function convertToInteractive(key) {\n",
              "          const element = document.querySelector('#df-e691fae3-c863-49c5-9a00-d8bd8daa36e6');\n",
              "          const dataTable =\n",
              "            await google.colab.kernel.invokeFunction('convertToInteractive',\n",
              "                                                     [key], {});\n",
              "          if (!dataTable) return;\n",
              "\n",
              "          const docLinkHtml = 'Like what you see? Visit the ' +\n",
              "            '<a target=\"_blank\" href=https://colab.research.google.com/notebooks/data_table.ipynb>data table notebook</a>'\n",
              "            + ' to learn more about interactive tables.';\n",
              "          element.innerHTML = '';\n",
              "          dataTable['output_type'] = 'display_data';\n",
              "          await google.colab.output.renderOutput(dataTable, element);\n",
              "          const docLink = document.createElement('div');\n",
              "          docLink.innerHTML = docLinkHtml;\n",
              "          element.appendChild(docLink);\n",
              "        }\n",
              "      </script>\n",
              "    </div>\n",
              "  </div>\n",
              "  "
            ]
          },
          "metadata": {},
          "execution_count": 44
        }
      ],
      "source": [
        "test_score = accuracy_score(y_test, tree_clf.predict(X_test)) * 100\n",
        "train_score = accuracy_score(y_train, tree_clf.predict(X_train)) * 100\n",
        "\n",
        "results_df_2 = pd.DataFrame(data=[[\"Decision Tree Classifier\", train_score, test_score]], \n",
        "                          columns=['Model', 'Training Accuracy %', 'Testing Accuracy %'])\n",
        "results_df = results_df.append(results_df_2, ignore_index=True)\n",
        "results_df"
      ]
    },
    {
      "cell_type": "markdown",
      "id": "fdaec79e",
      "metadata": {
        "papermill": {
          "duration": 0.190366,
          "end_time": "2021-08-24T16:02:11.840988",
          "exception": false,
          "start_time": "2021-08-24T16:02:11.650622",
          "status": "completed"
        },
        "tags": [],
        "id": "fdaec79e"
      },
      "source": [
        "## 5. Random Forest"
      ]
    },
    {
      "cell_type": "code",
      "execution_count": 45,
      "id": "baedd2db",
      "metadata": {
        "execution": {
          "iopub.execute_input": "2021-08-24T16:02:12.213966Z",
          "iopub.status.busy": "2021-08-24T16:02:12.213008Z",
          "iopub.status.idle": "2021-08-24T16:02:14.482729Z",
          "shell.execute_reply": "2021-08-24T16:02:14.481861Z",
          "shell.execute_reply.started": "2021-08-24T13:46:28.557897Z"
        },
        "papermill": {
          "duration": 2.459873,
          "end_time": "2021-08-24T16:02:14.482946",
          "exception": false,
          "start_time": "2021-08-24T16:02:12.023073",
          "status": "completed"
        },
        "tags": [],
        "id": "baedd2db",
        "outputId": "63e04733-3385-448f-e0c6-a8913462b25d",
        "colab": {
          "base_uri": "https://localhost:8080/"
        }
      },
      "outputs": [
        {
          "output_type": "stream",
          "name": "stdout",
          "text": [
            "Train Result:\n",
            "================================================\n",
            "Accuracy Score: 100.00%\n",
            "_______________________________________________\n",
            "CLASSIFICATION REPORT:\n",
            "               0      1  accuracy  macro avg  weighted avg\n",
            "precision   1.00   1.00      1.00       1.00          1.00\n",
            "recall      1.00   1.00      1.00       1.00          1.00\n",
            "f1-score    1.00   1.00      1.00       1.00          1.00\n",
            "support   340.00 377.00      1.00     717.00        717.00\n",
            "_______________________________________________\n",
            "Confusion Matrix: \n",
            " [[340   0]\n",
            " [  0 377]]\n",
            "\n",
            "Test Result:\n",
            "================================================\n",
            "Accuracy Score: 98.05%\n",
            "_______________________________________________\n",
            "CLASSIFICATION REPORT:\n",
            "               0      1  accuracy  macro avg  weighted avg\n",
            "precision   0.96   1.00      0.98       0.98          0.98\n",
            "recall      1.00   0.96      0.98       0.98          0.98\n",
            "f1-score    0.98   0.98      0.98       0.98          0.98\n",
            "support   159.00 149.00      0.98     308.00        308.00\n",
            "_______________________________________________\n",
            "Confusion Matrix: \n",
            " [[159   0]\n",
            " [  6 143]]\n",
            "\n"
          ]
        }
      ],
      "source": [
        "from sklearn.ensemble import RandomForestClassifier\n",
        "from sklearn.model_selection import RandomizedSearchCV\n",
        "\n",
        "rf_clf = RandomForestClassifier(n_estimators=1000, random_state=42)\n",
        "rf_clf.fit(X_train, y_train)\n",
        "\n",
        "print_score(rf_clf, X_train, y_train, X_test, y_test, train=True)\n",
        "print_score(rf_clf, X_train, y_train, X_test, y_test, train=False)"
      ]
    },
    {
      "cell_type": "code",
      "execution_count": 46,
      "id": "6d6f7f15",
      "metadata": {
        "execution": {
          "iopub.execute_input": "2021-08-24T16:02:14.867359Z",
          "iopub.status.busy": "2021-08-24T16:02:14.866204Z",
          "iopub.status.idle": "2021-08-24T16:02:15.102477Z",
          "shell.execute_reply": "2021-08-24T16:02:15.101728Z",
          "shell.execute_reply.started": "2021-08-24T13:46:30.711610Z"
        },
        "papermill": {
          "duration": 0.428972,
          "end_time": "2021-08-24T16:02:15.102648",
          "exception": false,
          "start_time": "2021-08-24T16:02:14.673676",
          "status": "completed"
        },
        "tags": [],
        "id": "6d6f7f15",
        "outputId": "88f4ed52-7992-43b4-94bf-6d5a3fdf8fcd",
        "colab": {
          "base_uri": "https://localhost:8080/",
          "height": 206
        }
      },
      "outputs": [
        {
          "output_type": "execute_result",
          "data": {
            "text/plain": [
              "                      Model  Training Accuracy %  Testing Accuracy %\n",
              "0       Logistic Regression                89.54               81.82\n",
              "1       K-nearest neighbors                91.77               81.82\n",
              "2    Support Vector Machine                95.40               90.26\n",
              "3  Decision Tree Classifier               100.00               97.08\n",
              "4  Random Forest Classifier               100.00               98.05"
            ],
            "text/html": [
              "\n",
              "  <div id=\"df-e3e3c06b-6e39-4086-9062-fb2a8a31bc7f\">\n",
              "    <div class=\"colab-df-container\">\n",
              "      <div>\n",
              "<style scoped>\n",
              "    .dataframe tbody tr th:only-of-type {\n",
              "        vertical-align: middle;\n",
              "    }\n",
              "\n",
              "    .dataframe tbody tr th {\n",
              "        vertical-align: top;\n",
              "    }\n",
              "\n",
              "    .dataframe thead th {\n",
              "        text-align: right;\n",
              "    }\n",
              "</style>\n",
              "<table border=\"1\" class=\"dataframe\">\n",
              "  <thead>\n",
              "    <tr style=\"text-align: right;\">\n",
              "      <th></th>\n",
              "      <th>Model</th>\n",
              "      <th>Training Accuracy %</th>\n",
              "      <th>Testing Accuracy %</th>\n",
              "    </tr>\n",
              "  </thead>\n",
              "  <tbody>\n",
              "    <tr>\n",
              "      <th>0</th>\n",
              "      <td>Logistic Regression</td>\n",
              "      <td>89.54</td>\n",
              "      <td>81.82</td>\n",
              "    </tr>\n",
              "    <tr>\n",
              "      <th>1</th>\n",
              "      <td>K-nearest neighbors</td>\n",
              "      <td>91.77</td>\n",
              "      <td>81.82</td>\n",
              "    </tr>\n",
              "    <tr>\n",
              "      <th>2</th>\n",
              "      <td>Support Vector Machine</td>\n",
              "      <td>95.40</td>\n",
              "      <td>90.26</td>\n",
              "    </tr>\n",
              "    <tr>\n",
              "      <th>3</th>\n",
              "      <td>Decision Tree Classifier</td>\n",
              "      <td>100.00</td>\n",
              "      <td>97.08</td>\n",
              "    </tr>\n",
              "    <tr>\n",
              "      <th>4</th>\n",
              "      <td>Random Forest Classifier</td>\n",
              "      <td>100.00</td>\n",
              "      <td>98.05</td>\n",
              "    </tr>\n",
              "  </tbody>\n",
              "</table>\n",
              "</div>\n",
              "      <button class=\"colab-df-convert\" onclick=\"convertToInteractive('df-e3e3c06b-6e39-4086-9062-fb2a8a31bc7f')\"\n",
              "              title=\"Convert this dataframe to an interactive table.\"\n",
              "              style=\"display:none;\">\n",
              "        \n",
              "  <svg xmlns=\"http://www.w3.org/2000/svg\" height=\"24px\"viewBox=\"0 0 24 24\"\n",
              "       width=\"24px\">\n",
              "    <path d=\"M0 0h24v24H0V0z\" fill=\"none\"/>\n",
              "    <path d=\"M18.56 5.44l.94 2.06.94-2.06 2.06-.94-2.06-.94-.94-2.06-.94 2.06-2.06.94zm-11 1L8.5 8.5l.94-2.06 2.06-.94-2.06-.94L8.5 2.5l-.94 2.06-2.06.94zm10 10l.94 2.06.94-2.06 2.06-.94-2.06-.94-.94-2.06-.94 2.06-2.06.94z\"/><path d=\"M17.41 7.96l-1.37-1.37c-.4-.4-.92-.59-1.43-.59-.52 0-1.04.2-1.43.59L10.3 9.45l-7.72 7.72c-.78.78-.78 2.05 0 2.83L4 21.41c.39.39.9.59 1.41.59.51 0 1.02-.2 1.41-.59l7.78-7.78 2.81-2.81c.8-.78.8-2.07 0-2.86zM5.41 20L4 18.59l7.72-7.72 1.47 1.35L5.41 20z\"/>\n",
              "  </svg>\n",
              "      </button>\n",
              "      \n",
              "  <style>\n",
              "    .colab-df-container {\n",
              "      display:flex;\n",
              "      flex-wrap:wrap;\n",
              "      gap: 12px;\n",
              "    }\n",
              "\n",
              "    .colab-df-convert {\n",
              "      background-color: #E8F0FE;\n",
              "      border: none;\n",
              "      border-radius: 50%;\n",
              "      cursor: pointer;\n",
              "      display: none;\n",
              "      fill: #1967D2;\n",
              "      height: 32px;\n",
              "      padding: 0 0 0 0;\n",
              "      width: 32px;\n",
              "    }\n",
              "\n",
              "    .colab-df-convert:hover {\n",
              "      background-color: #E2EBFA;\n",
              "      box-shadow: 0px 1px 2px rgba(60, 64, 67, 0.3), 0px 1px 3px 1px rgba(60, 64, 67, 0.15);\n",
              "      fill: #174EA6;\n",
              "    }\n",
              "\n",
              "    [theme=dark] .colab-df-convert {\n",
              "      background-color: #3B4455;\n",
              "      fill: #D2E3FC;\n",
              "    }\n",
              "\n",
              "    [theme=dark] .colab-df-convert:hover {\n",
              "      background-color: #434B5C;\n",
              "      box-shadow: 0px 1px 3px 1px rgba(0, 0, 0, 0.15);\n",
              "      filter: drop-shadow(0px 1px 2px rgba(0, 0, 0, 0.3));\n",
              "      fill: #FFFFFF;\n",
              "    }\n",
              "  </style>\n",
              "\n",
              "      <script>\n",
              "        const buttonEl =\n",
              "          document.querySelector('#df-e3e3c06b-6e39-4086-9062-fb2a8a31bc7f button.colab-df-convert');\n",
              "        buttonEl.style.display =\n",
              "          google.colab.kernel.accessAllowed ? 'block' : 'none';\n",
              "\n",
              "        async function convertToInteractive(key) {\n",
              "          const element = document.querySelector('#df-e3e3c06b-6e39-4086-9062-fb2a8a31bc7f');\n",
              "          const dataTable =\n",
              "            await google.colab.kernel.invokeFunction('convertToInteractive',\n",
              "                                                     [key], {});\n",
              "          if (!dataTable) return;\n",
              "\n",
              "          const docLinkHtml = 'Like what you see? Visit the ' +\n",
              "            '<a target=\"_blank\" href=https://colab.research.google.com/notebooks/data_table.ipynb>data table notebook</a>'\n",
              "            + ' to learn more about interactive tables.';\n",
              "          element.innerHTML = '';\n",
              "          dataTable['output_type'] = 'display_data';\n",
              "          await google.colab.output.renderOutput(dataTable, element);\n",
              "          const docLink = document.createElement('div');\n",
              "          docLink.innerHTML = docLinkHtml;\n",
              "          element.appendChild(docLink);\n",
              "        }\n",
              "      </script>\n",
              "    </div>\n",
              "  </div>\n",
              "  "
            ]
          },
          "metadata": {},
          "execution_count": 46
        }
      ],
      "source": [
        "test_score = accuracy_score(y_test, rf_clf.predict(X_test)) * 100\n",
        "train_score = accuracy_score(y_train, rf_clf.predict(X_train)) * 100\n",
        "\n",
        "results_df_2 = pd.DataFrame(data=[[\"Random Forest Classifier\", train_score, test_score]], \n",
        "                          columns=['Model', 'Training Accuracy %', 'Testing Accuracy %'])\n",
        "results_df = results_df.append(results_df_2, ignore_index=True)\n",
        "results_df"
      ]
    }
  ],
  "metadata": {
    "kernelspec": {
      "display_name": "Python 3",
      "language": "python",
      "name": "python3"
    },
    "language_info": {
      "codemirror_mode": {
        "name": "ipython",
        "version": 3
      },
      "file_extension": ".py",
      "mimetype": "text/x-python",
      "name": "python",
      "nbconvert_exporter": "python",
      "pygments_lexer": "ipython3",
      "version": "3.7.10"
    },
    "papermill": {
      "default_parameters": {},
      "duration": 4773.046368,
      "end_time": "2021-08-24T17:20:50.993308",
      "environment_variables": {},
      "exception": null,
      "input_path": "__notebook__.ipynb",
      "output_path": "__notebook__.ipynb",
      "parameters": {},
      "start_time": "2021-08-24T16:01:17.946940",
      "version": "2.3.3"
    },
    "colab": {
      "name": "Heart disease prediction using classification algorithmsipynb",
      "provenance": [],
      "collapsed_sections": []
    }
  },
  "nbformat": 4,
  "nbformat_minor": 5
}